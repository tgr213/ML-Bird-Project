{
  "nbformat": 4,
  "nbformat_minor": 0,
  "metadata": {
    "colab": {
      "provenance": [],
      "gpuType": "T4"
    },
    "kernelspec": {
      "name": "python3",
      "display_name": "Python 3"
    },
    "language_info": {
      "name": "python"
    },
    "accelerator": "GPU"
  },
  "cells": [
    {
      "cell_type": "markdown",
      "source": [
        "# First Download Data using api:\n",
        "https://www.kaggle.com/discussions/general/74235"
      ],
      "metadata": {
        "id": "JlLL-uvVsrt1"
      }
    },
    {
      "cell_type": "code",
      "source": [
        " !pip install -q kaggle"
      ],
      "metadata": {
        "id": "kapPDOgnsqmi"
      },
      "execution_count": 1,
      "outputs": []
    },
    {
      "cell_type": "code",
      "source": [
        " from google.colab import files\n",
        " # upload json file:\n",
        " files.upload()"
      ],
      "metadata": {
        "colab": {
          "base_uri": "https://localhost:8080/",
          "height": 89
        },
        "id": "u3ghUBUJilNM",
        "outputId": "560e6cd5-1dbb-4b08-a49e-470dfa000fd2"
      },
      "execution_count": 2,
      "outputs": [
        {
          "output_type": "display_data",
          "data": {
            "text/plain": [
              "<IPython.core.display.HTML object>"
            ],
            "text/html": [
              "\n",
              "     <input type=\"file\" id=\"files-92bd5255-efec-4681-84dd-87f693165e33\" name=\"files[]\" multiple disabled\n",
              "        style=\"border:none\" />\n",
              "     <output id=\"result-92bd5255-efec-4681-84dd-87f693165e33\">\n",
              "      Upload widget is only available when the cell has been executed in the\n",
              "      current browser session. Please rerun this cell to enable.\n",
              "      </output>\n",
              "      <script>// Copyright 2017 Google LLC\n",
              "//\n",
              "// Licensed under the Apache License, Version 2.0 (the \"License\");\n",
              "// you may not use this file except in compliance with the License.\n",
              "// You may obtain a copy of the License at\n",
              "//\n",
              "//      http://www.apache.org/licenses/LICENSE-2.0\n",
              "//\n",
              "// Unless required by applicable law or agreed to in writing, software\n",
              "// distributed under the License is distributed on an \"AS IS\" BASIS,\n",
              "// WITHOUT WARRANTIES OR CONDITIONS OF ANY KIND, either express or implied.\n",
              "// See the License for the specific language governing permissions and\n",
              "// limitations under the License.\n",
              "\n",
              "/**\n",
              " * @fileoverview Helpers for google.colab Python module.\n",
              " */\n",
              "(function(scope) {\n",
              "function span(text, styleAttributes = {}) {\n",
              "  const element = document.createElement('span');\n",
              "  element.textContent = text;\n",
              "  for (const key of Object.keys(styleAttributes)) {\n",
              "    element.style[key] = styleAttributes[key];\n",
              "  }\n",
              "  return element;\n",
              "}\n",
              "\n",
              "// Max number of bytes which will be uploaded at a time.\n",
              "const MAX_PAYLOAD_SIZE = 100 * 1024;\n",
              "\n",
              "function _uploadFiles(inputId, outputId) {\n",
              "  const steps = uploadFilesStep(inputId, outputId);\n",
              "  const outputElement = document.getElementById(outputId);\n",
              "  // Cache steps on the outputElement to make it available for the next call\n",
              "  // to uploadFilesContinue from Python.\n",
              "  outputElement.steps = steps;\n",
              "\n",
              "  return _uploadFilesContinue(outputId);\n",
              "}\n",
              "\n",
              "// This is roughly an async generator (not supported in the browser yet),\n",
              "// where there are multiple asynchronous steps and the Python side is going\n",
              "// to poll for completion of each step.\n",
              "// This uses a Promise to block the python side on completion of each step,\n",
              "// then passes the result of the previous step as the input to the next step.\n",
              "function _uploadFilesContinue(outputId) {\n",
              "  const outputElement = document.getElementById(outputId);\n",
              "  const steps = outputElement.steps;\n",
              "\n",
              "  const next = steps.next(outputElement.lastPromiseValue);\n",
              "  return Promise.resolve(next.value.promise).then((value) => {\n",
              "    // Cache the last promise value to make it available to the next\n",
              "    // step of the generator.\n",
              "    outputElement.lastPromiseValue = value;\n",
              "    return next.value.response;\n",
              "  });\n",
              "}\n",
              "\n",
              "/**\n",
              " * Generator function which is called between each async step of the upload\n",
              " * process.\n",
              " * @param {string} inputId Element ID of the input file picker element.\n",
              " * @param {string} outputId Element ID of the output display.\n",
              " * @return {!Iterable<!Object>} Iterable of next steps.\n",
              " */\n",
              "function* uploadFilesStep(inputId, outputId) {\n",
              "  const inputElement = document.getElementById(inputId);\n",
              "  inputElement.disabled = false;\n",
              "\n",
              "  const outputElement = document.getElementById(outputId);\n",
              "  outputElement.innerHTML = '';\n",
              "\n",
              "  const pickedPromise = new Promise((resolve) => {\n",
              "    inputElement.addEventListener('change', (e) => {\n",
              "      resolve(e.target.files);\n",
              "    });\n",
              "  });\n",
              "\n",
              "  const cancel = document.createElement('button');\n",
              "  inputElement.parentElement.appendChild(cancel);\n",
              "  cancel.textContent = 'Cancel upload';\n",
              "  const cancelPromise = new Promise((resolve) => {\n",
              "    cancel.onclick = () => {\n",
              "      resolve(null);\n",
              "    };\n",
              "  });\n",
              "\n",
              "  // Wait for the user to pick the files.\n",
              "  const files = yield {\n",
              "    promise: Promise.race([pickedPromise, cancelPromise]),\n",
              "    response: {\n",
              "      action: 'starting',\n",
              "    }\n",
              "  };\n",
              "\n",
              "  cancel.remove();\n",
              "\n",
              "  // Disable the input element since further picks are not allowed.\n",
              "  inputElement.disabled = true;\n",
              "\n",
              "  if (!files) {\n",
              "    return {\n",
              "      response: {\n",
              "        action: 'complete',\n",
              "      }\n",
              "    };\n",
              "  }\n",
              "\n",
              "  for (const file of files) {\n",
              "    const li = document.createElement('li');\n",
              "    li.append(span(file.name, {fontWeight: 'bold'}));\n",
              "    li.append(span(\n",
              "        `(${file.type || 'n/a'}) - ${file.size} bytes, ` +\n",
              "        `last modified: ${\n",
              "            file.lastModifiedDate ? file.lastModifiedDate.toLocaleDateString() :\n",
              "                                    'n/a'} - `));\n",
              "    const percent = span('0% done');\n",
              "    li.appendChild(percent);\n",
              "\n",
              "    outputElement.appendChild(li);\n",
              "\n",
              "    const fileDataPromise = new Promise((resolve) => {\n",
              "      const reader = new FileReader();\n",
              "      reader.onload = (e) => {\n",
              "        resolve(e.target.result);\n",
              "      };\n",
              "      reader.readAsArrayBuffer(file);\n",
              "    });\n",
              "    // Wait for the data to be ready.\n",
              "    let fileData = yield {\n",
              "      promise: fileDataPromise,\n",
              "      response: {\n",
              "        action: 'continue',\n",
              "      }\n",
              "    };\n",
              "\n",
              "    // Use a chunked sending to avoid message size limits. See b/62115660.\n",
              "    let position = 0;\n",
              "    do {\n",
              "      const length = Math.min(fileData.byteLength - position, MAX_PAYLOAD_SIZE);\n",
              "      const chunk = new Uint8Array(fileData, position, length);\n",
              "      position += length;\n",
              "\n",
              "      const base64 = btoa(String.fromCharCode.apply(null, chunk));\n",
              "      yield {\n",
              "        response: {\n",
              "          action: 'append',\n",
              "          file: file.name,\n",
              "          data: base64,\n",
              "        },\n",
              "      };\n",
              "\n",
              "      let percentDone = fileData.byteLength === 0 ?\n",
              "          100 :\n",
              "          Math.round((position / fileData.byteLength) * 100);\n",
              "      percent.textContent = `${percentDone}% done`;\n",
              "\n",
              "    } while (position < fileData.byteLength);\n",
              "  }\n",
              "\n",
              "  // All done.\n",
              "  yield {\n",
              "    response: {\n",
              "      action: 'complete',\n",
              "    }\n",
              "  };\n",
              "}\n",
              "\n",
              "scope.google = scope.google || {};\n",
              "scope.google.colab = scope.google.colab || {};\n",
              "scope.google.colab._files = {\n",
              "  _uploadFiles,\n",
              "  _uploadFilesContinue,\n",
              "};\n",
              "})(self);\n",
              "</script> "
            ]
          },
          "metadata": {}
        },
        {
          "output_type": "stream",
          "name": "stdout",
          "text": [
            "Saving kaggle.json to kaggle.json\n"
          ]
        },
        {
          "output_type": "execute_result",
          "data": {
            "text/plain": [
              "{'kaggle.json': b'{\"username\":\"jackparkinson\",\"key\":\"fab3b257b9f0ef42e6a66b63e329f43e\"}'}"
            ]
          },
          "metadata": {},
          "execution_count": 2
        }
      ]
    },
    {
      "cell_type": "code",
      "source": [
        "! mkdir ~/.kaggle\n",
        "! cp kaggle.json ~/.kaggle/"
      ],
      "metadata": {
        "id": "FzgHALPsivvF"
      },
      "execution_count": 3,
      "outputs": []
    },
    {
      "cell_type": "code",
      "source": [
        " ! chmod 600 ~/.kaggle/kaggle.json"
      ],
      "metadata": {
        "id": "o1cWTQNQi3n1"
      },
      "execution_count": 4,
      "outputs": []
    },
    {
      "cell_type": "code",
      "source": [
        "! kaggle datasets download -d gpiosenka/100-bird-species"
      ],
      "metadata": {
        "colab": {
          "base_uri": "https://localhost:8080/"
        },
        "id": "UsbEixj8i5gX",
        "outputId": "a4ce883f-39be-4642-b18b-e8676b0abd38"
      },
      "execution_count": 5,
      "outputs": [
        {
          "output_type": "stream",
          "name": "stdout",
          "text": [
            "Dataset URL: https://www.kaggle.com/datasets/gpiosenka/100-bird-species\n",
            "License(s): CC0-1.0\n",
            "Downloading 100-bird-species.zip to /content\n",
            "100% 1.95G/1.96G [00:52<00:00, 41.6MB/s]\n",
            "100% 1.96G/1.96G [00:52<00:00, 39.8MB/s]\n"
          ]
        }
      ]
    },
    {
      "cell_type": "markdown",
      "source": [
        "## Set up paths"
      ],
      "metadata": {
        "id": "YBNW-YVitHJt"
      }
    },
    {
      "cell_type": "code",
      "source": [
        "import zipfile\n",
        "import os"
      ],
      "metadata": {
        "id": "2jUW6tTCjFJ5"
      },
      "execution_count": 6,
      "outputs": []
    },
    {
      "cell_type": "code",
      "source": [
        "zip_path = '/content/100-bird-species.zip'\n",
        "\n",
        "# directory to unzip (can change if you want)\n",
        "extract_to = '/content/birds_dataset'\n",
        "\n",
        "# removes any current directory with name\n",
        "if os.path.exists(extract_to):\n",
        "    !rm -rf {extract_to}\n",
        "\n",
        "os.makedirs(extract_to, exist_ok=True)\n",
        "\n",
        "with zipfile.ZipFile(zip_path, 'r') as zip_ref:\n",
        "    zip_ref.extractall(extract_to)\n",
        "\n",
        "print(\"Unzipping completed!\")"
      ],
      "metadata": {
        "colab": {
          "base_uri": "https://localhost:8080/"
        },
        "id": "ASWmvtk6kE9P",
        "outputId": "ba0f1e4a-4a3c-41f8-9c3a-5b6714904253"
      },
      "execution_count": 39,
      "outputs": [
        {
          "output_type": "stream",
          "name": "stdout",
          "text": [
            "Unzipping completed!\n"
          ]
        }
      ]
    },
    {
      "cell_type": "code",
      "source": [
        "train_dir = '/content/birds_dataset/train'\n",
        "test_dir = '/content/birds_dataset/test'\n",
        "valid_dir = '/content/birds_dataset/valid'\n",
        "\n",
        "# counts files\n",
        "def count_images(directory):\n",
        "    count = 0\n",
        "    for _, _, files in os.walk(directory):\n",
        "        count += len(files)\n",
        "    return count\n",
        "\n",
        "train_count = count_images(train_dir)\n",
        "valid_count = count_images(valid_dir)\n",
        "test_count = count_images(test_dir)\n",
        "train_split = train_count / (train_count+test_count+valid_count)\n",
        "valid_split = valid_count / (train_count+test_count+valid_count)\n",
        "test_split = test_count / (train_count+test_count+valid_count)\n",
        "\n",
        "\n",
        "print(f\"Number of images in Train: {train_count} with split: {train_split}\")\n",
        "print(f\"Number of images in Valid: {valid_count} with split: {valid_split}\")\n",
        "print(f\"Number of images in Test: {test_count} with split: {test_split}\")"
      ],
      "metadata": {
        "id": "-knVf_3TkGbB",
        "colab": {
          "base_uri": "https://localhost:8080/"
        },
        "outputId": "65361bc9-9fe9-49d4-fff3-e6a73ce64656"
      },
      "execution_count": 40,
      "outputs": [
        {
          "output_type": "stream",
          "name": "stdout",
          "text": [
            "Number of images in Train: 84635 with split: 0.9415920342660066\n",
            "Number of images in Valid: 2625 with split: 0.029203982866996717\n",
            "Number of images in Test: 2625 with split: 0.029203982866996717\n"
          ]
        }
      ]
    },
    {
      "cell_type": "markdown",
      "source": [
        "#### There's an extra space for one of the birds in the train and test dir:"
      ],
      "metadata": {
        "id": "ik6RomOWMH4J"
      }
    },
    {
      "cell_type": "code",
      "source": [
        "def check_directories(path):\n",
        "    subdirs = os.listdir(path)\n",
        "    print(f'Total directories in {path}: {len(subdirs)}')\n",
        "    return set(os.listdir(path))\n",
        "\n",
        "# Retrieve the list of species in each directory\n",
        "train_species = check_directories(train_dir)\n",
        "test_species = check_directories(test_dir)\n",
        "valid_species = check_directories(valid_dir)\n",
        "\n",
        "# Find the union of all species (all species that appear in any directory)\n",
        "all_species = train_species.union(test_species).union(valid_species)\n",
        "\n",
        "# Find what is missing from each set\n",
        "missing_from_train = all_species - train_species\n",
        "missing_from_test = all_species - test_species\n",
        "missing_from_valid = all_species - valid_species\n",
        "\n",
        "print(\"Species missing from train:\", missing_from_train)\n",
        "print(\"Species missing from test:\", missing_from_test)\n",
        "print(\"Species missing from valid:\", missing_from_valid)\n"
      ],
      "metadata": {
        "colab": {
          "base_uri": "https://localhost:8080/"
        },
        "id": "JCS-iWqEKHE6",
        "outputId": "926d621e-876e-477f-96f9-c07d81b8ba67"
      },
      "execution_count": 41,
      "outputs": [
        {
          "output_type": "stream",
          "name": "stdout",
          "text": [
            "Total directories in /content/birds_dataset/train: 525\n",
            "Total directories in /content/birds_dataset/test: 525\n",
            "Total directories in /content/birds_dataset/valid: 525\n",
            "Species missing from train: {'PARAKETT AUKLET'}\n",
            "Species missing from test: {'PARAKETT AUKLET'}\n",
            "Species missing from valid: {'PARAKETT  AUKLET'}\n"
          ]
        }
      ]
    },
    {
      "cell_type": "code",
      "source": [],
      "metadata": {
        "id": "MZ8WzKJcKKhG"
      },
      "execution_count": 32,
      "outputs": []
    },
    {
      "cell_type": "code",
      "source": [
        "import os\n",
        "\n",
        "train_dir = '/content/birds_dataset/train'\n",
        "test_dir = '/content/birds_dataset/test'\n",
        "\n",
        "# Define the incorrect and correct paths for train and test\n",
        "incorrect_path_train = os.path.join(train_dir, 'PARAKETT  AUKLET')\n",
        "correct_path_train = os.path.join(train_dir, 'PARAKETT AUKLET')\n",
        "\n",
        "incorrect_path_test = os.path.join(test_dir, 'PARAKETT  AUKLET')\n",
        "correct_path_test = os.path.join(test_dir, 'PARAKETT AUKLET')\n",
        "\n",
        "# Rename the directories in train and test\n",
        "try:\n",
        "    os.rename(incorrect_path_train, correct_path_train)\n",
        "    print(f\"Renamed in train from '{incorrect_path_train}' to '{correct_path_train}'\")\n",
        "except FileNotFoundError as e:\n",
        "    print(f\"Error in train rename: {e}\")\n",
        "\n",
        "try:\n",
        "    os.rename(incorrect_path_test, correct_path_test)\n",
        "    print(f\"Renamed in test from '{incorrect_path_test}' to '{correct_path_test}'\")\n",
        "except FileNotFoundError as e:\n",
        "    print(f\"Error in test rename: {e}\")\n"
      ],
      "metadata": {
        "colab": {
          "base_uri": "https://localhost:8080/"
        },
        "id": "UJ1uIaLwKo2u",
        "outputId": "5437f771-834a-4de8-b244-1e2d756401ac"
      },
      "execution_count": 42,
      "outputs": [
        {
          "output_type": "stream",
          "name": "stdout",
          "text": [
            "Renamed in train from '/content/birds_dataset/train/PARAKETT  AUKLET' to '/content/birds_dataset/train/PARAKETT AUKLET'\n",
            "Renamed in test from '/content/birds_dataset/test/PARAKETT  AUKLET' to '/content/birds_dataset/test/PARAKETT AUKLET'\n"
          ]
        }
      ]
    },
    {
      "cell_type": "code",
      "source": [
        "def check_directories(path):\n",
        "    subdirs = os.listdir(path)\n",
        "    print(f'Total directories in {path}: {len(subdirs)}')\n",
        "    return set(os.listdir(path))\n",
        "\n",
        "# Retrieve the list of species in each directory\n",
        "train_species = check_directories(train_dir)\n",
        "test_species = check_directories(test_dir)\n",
        "valid_species = check_directories(valid_dir)\n",
        "\n",
        "# Find the union of all species (all species that appear in any directory)\n",
        "all_species = train_species.union(test_species).union(valid_species)\n",
        "\n",
        "# Find what is missing from each set\n",
        "missing_from_train = all_species - train_species\n",
        "missing_from_test = all_species - test_species\n",
        "missing_from_valid = all_species - valid_species\n",
        "\n",
        "print(\"Species missing from train:\", missing_from_train)\n",
        "print(\"Species missing from test:\", missing_from_test)\n",
        "print(\"Species missing from valid:\", missing_from_valid)\n"
      ],
      "metadata": {
        "colab": {
          "base_uri": "https://localhost:8080/"
        },
        "id": "d1QcGeYcLQ0R",
        "outputId": "39bd2782-dc6f-44ac-bfd4-f0e81a4fdee8"
      },
      "execution_count": 43,
      "outputs": [
        {
          "output_type": "stream",
          "name": "stdout",
          "text": [
            "Total directories in /content/birds_dataset/train: 525\n",
            "Total directories in /content/birds_dataset/test: 525\n",
            "Total directories in /content/birds_dataset/valid: 525\n",
            "Species missing from train: set()\n",
            "Species missing from test: set()\n",
            "Species missing from valid: set()\n"
          ]
        }
      ]
    },
    {
      "cell_type": "code",
      "source": [],
      "metadata": {
        "id": "Wm_Pv5sDKo6W"
      },
      "execution_count": 26,
      "outputs": []
    },
    {
      "cell_type": "markdown",
      "source": [
        "## Move around images so its roughly 80/10/10 split:\n",
        "Can manually specify a different split by choosing num_test_files and num_valid_files variables"
      ],
      "metadata": {
        "id": "H8GLfJMotLIU"
      }
    },
    {
      "cell_type": "code",
      "source": [
        "import os\n",
        "import shutil\n",
        "\n",
        "def adjust_dataset_split(train_dir, test_dir, valid_dir, num_test_files, num_valid_files):\n",
        "    # iterates through each species directory in the train directory\n",
        "    for species in os.listdir(train_dir):\n",
        "        species_train_dir = os.path.join(train_dir, species)\n",
        "        species_test_dir = os.path.join(test_dir, species)\n",
        "        species_valid_dir = os.path.join(valid_dir, species)\n",
        "\n",
        "        # train directory files for each species\n",
        "        files = os.listdir(species_train_dir)\n",
        "\n",
        "        # ensures test and valid directories exist\n",
        "        os.makedirs(species_test_dir, exist_ok=True)\n",
        "        os.makedirs(species_valid_dir, exist_ok=True)\n",
        "\n",
        "        # move files to test\n",
        "        for file in files[:num_test_files]:\n",
        "            shutil.move(os.path.join(species_train_dir, file), os.path.join(species_test_dir, file))\n",
        "\n",
        "        # update list of files remaining in train\n",
        "        remaining_files = os.listdir(species_train_dir)\n",
        "\n",
        "        # move files to valid\n",
        "        for file in remaining_files[:num_valid_files]:\n",
        "            shutil.move(os.path.join(species_train_dir, file), os.path.join(species_valid_dir, file))\n",
        "\n",
        "\n",
        "# specify number of files to move to respective dirs\n",
        "num_test_files = 10\n",
        "num_valid_files = 10\n",
        "\n",
        "\n",
        "adjust_dataset_split(train_dir, test_dir, valid_dir, num_test_files, num_valid_files)\n",
        "print(\"Files have been moved to achieve the specified dataset split.\")\n"
      ],
      "metadata": {
        "id": "-UzqfmvotWjP",
        "colab": {
          "base_uri": "https://localhost:8080/"
        },
        "outputId": "3eb518d8-ad6a-4a9f-8c79-488c55e35833"
      },
      "execution_count": 44,
      "outputs": [
        {
          "output_type": "stream",
          "name": "stdout",
          "text": [
            "Files have been moved to achieve the specified dataset split.\n"
          ]
        }
      ]
    },
    {
      "cell_type": "code",
      "source": [
        "train_count = count_images(train_dir)\n",
        "valid_count = count_images(valid_dir)\n",
        "test_count = count_images(test_dir)\n",
        "train_split = train_count / (train_count+test_count+valid_count)\n",
        "valid_split = valid_count / (train_count+test_count+valid_count)\n",
        "test_split = test_count / (train_count+test_count+valid_count)\n",
        "\n",
        "\n",
        "print(f\"Number of images in Train: {train_count} with proportion: {train_split}\")\n",
        "print(f\"Number of images in Valid: {valid_count} with proportion: {valid_split}\")\n",
        "print(f\"Number of images in Test: {test_count} with proportion: {test_split}\")"
      ],
      "metadata": {
        "colab": {
          "base_uri": "https://localhost:8080/"
        },
        "id": "yVaBWFb9wK8F",
        "outputId": "db3990c0-4887-4921-965f-e2a39a1f084a"
      },
      "execution_count": 45,
      "outputs": [
        {
          "output_type": "stream",
          "name": "stdout",
          "text": [
            "Number of images in Train: 74135 with proportion: 0.8247761027980197\n",
            "Number of images in Valid: 7875 with proportion: 0.08761194860099016\n",
            "Number of images in Test: 7875 with proportion: 0.08761194860099016\n"
          ]
        }
      ]
    },
    {
      "cell_type": "code",
      "source": [
        "def check_directories(path):\n",
        "    subdirs = os.listdir(path)\n",
        "    print(f'Total directories in {path}: {len(subdirs)}')\n",
        "    return set(os.listdir(path))\n",
        "\n",
        "# Retrieve the list of species in each directory\n",
        "train_species = check_directories(train_dir)\n",
        "test_species = check_directories(test_dir)\n",
        "valid_species = check_directories(valid_dir)\n",
        "\n",
        "# Find the union of all species (all species that appear in any directory)\n",
        "all_species = train_species.union(test_species).union(valid_species)\n",
        "\n",
        "# Find what is missing from each set\n",
        "missing_from_train = all_species - train_species\n",
        "missing_from_test = all_species - test_species\n",
        "missing_from_valid = all_species - valid_species\n",
        "\n",
        "print(\"Species missing from train:\", missing_from_train)\n",
        "print(\"Species missing from test:\", missing_from_test)\n",
        "print(\"Species missing from valid:\", missing_from_valid)\n"
      ],
      "metadata": {
        "id": "AYtWBRmjwMVQ",
        "colab": {
          "base_uri": "https://localhost:8080/"
        },
        "outputId": "94989207-5608-465a-b2c9-e91dbf2b841a"
      },
      "execution_count": 46,
      "outputs": [
        {
          "output_type": "stream",
          "name": "stdout",
          "text": [
            "Total directories in /content/birds_dataset/train: 525\n",
            "Total directories in /content/birds_dataset/test: 525\n",
            "Total directories in /content/birds_dataset/valid: 525\n",
            "Species missing from train: set()\n",
            "Species missing from test: set()\n",
            "Species missing from valid: set()\n"
          ]
        }
      ]
    }
  ]
}