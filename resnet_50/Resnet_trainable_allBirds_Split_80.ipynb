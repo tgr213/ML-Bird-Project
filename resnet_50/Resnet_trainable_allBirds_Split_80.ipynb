{
  "nbformat": 4,
  "nbformat_minor": 0,
  "metadata": {
    "colab": {
      "provenance": [],
      "machine_shape": "hm",
      "gpuType": "A100"
    },
    "kernelspec": {
      "name": "python3",
      "display_name": "Python 3"
    },
    "language_info": {
      "name": "python"
    },
    "accelerator": "GPU"
  },
  "cells": [
    {
      "cell_type": "markdown",
      "source": [
        "# First Download Data using api:\n",
        "https://www.kaggle.com/discussions/general/74235"
      ],
      "metadata": {
        "id": "JlLL-uvVsrt1"
      }
    },
    {
      "cell_type": "code",
      "source": [
        " !pip install -q kaggle"
      ],
      "metadata": {
        "id": "kapPDOgnsqmi"
      },
      "execution_count": 1,
      "outputs": []
    },
    {
      "cell_type": "code",
      "source": [
        " from google.colab import files\n",
        " # upload json file:\n",
        " files.upload()"
      ],
      "metadata": {
        "colab": {
          "base_uri": "https://localhost:8080/",
          "height": 88
        },
        "id": "u3ghUBUJilNM",
        "outputId": "7312f9d5-0b35-4ce4-8aa4-d6362c46bba9"
      },
      "execution_count": 2,
      "outputs": [
        {
          "output_type": "display_data",
          "data": {
            "text/plain": [
              "<IPython.core.display.HTML object>"
            ],
            "text/html": [
              "\n",
              "     <input type=\"file\" id=\"files-62809083-08fb-42ba-8343-1c8bcfd24f94\" name=\"files[]\" multiple disabled\n",
              "        style=\"border:none\" />\n",
              "     <output id=\"result-62809083-08fb-42ba-8343-1c8bcfd24f94\">\n",
              "      Upload widget is only available when the cell has been executed in the\n",
              "      current browser session. Please rerun this cell to enable.\n",
              "      </output>\n",
              "      <script>// Copyright 2017 Google LLC\n",
              "//\n",
              "// Licensed under the Apache License, Version 2.0 (the \"License\");\n",
              "// you may not use this file except in compliance with the License.\n",
              "// You may obtain a copy of the License at\n",
              "//\n",
              "//      http://www.apache.org/licenses/LICENSE-2.0\n",
              "//\n",
              "// Unless required by applicable law or agreed to in writing, software\n",
              "// distributed under the License is distributed on an \"AS IS\" BASIS,\n",
              "// WITHOUT WARRANTIES OR CONDITIONS OF ANY KIND, either express or implied.\n",
              "// See the License for the specific language governing permissions and\n",
              "// limitations under the License.\n",
              "\n",
              "/**\n",
              " * @fileoverview Helpers for google.colab Python module.\n",
              " */\n",
              "(function(scope) {\n",
              "function span(text, styleAttributes = {}) {\n",
              "  const element = document.createElement('span');\n",
              "  element.textContent = text;\n",
              "  for (const key of Object.keys(styleAttributes)) {\n",
              "    element.style[key] = styleAttributes[key];\n",
              "  }\n",
              "  return element;\n",
              "}\n",
              "\n",
              "// Max number of bytes which will be uploaded at a time.\n",
              "const MAX_PAYLOAD_SIZE = 100 * 1024;\n",
              "\n",
              "function _uploadFiles(inputId, outputId) {\n",
              "  const steps = uploadFilesStep(inputId, outputId);\n",
              "  const outputElement = document.getElementById(outputId);\n",
              "  // Cache steps on the outputElement to make it available for the next call\n",
              "  // to uploadFilesContinue from Python.\n",
              "  outputElement.steps = steps;\n",
              "\n",
              "  return _uploadFilesContinue(outputId);\n",
              "}\n",
              "\n",
              "// This is roughly an async generator (not supported in the browser yet),\n",
              "// where there are multiple asynchronous steps and the Python side is going\n",
              "// to poll for completion of each step.\n",
              "// This uses a Promise to block the python side on completion of each step,\n",
              "// then passes the result of the previous step as the input to the next step.\n",
              "function _uploadFilesContinue(outputId) {\n",
              "  const outputElement = document.getElementById(outputId);\n",
              "  const steps = outputElement.steps;\n",
              "\n",
              "  const next = steps.next(outputElement.lastPromiseValue);\n",
              "  return Promise.resolve(next.value.promise).then((value) => {\n",
              "    // Cache the last promise value to make it available to the next\n",
              "    // step of the generator.\n",
              "    outputElement.lastPromiseValue = value;\n",
              "    return next.value.response;\n",
              "  });\n",
              "}\n",
              "\n",
              "/**\n",
              " * Generator function which is called between each async step of the upload\n",
              " * process.\n",
              " * @param {string} inputId Element ID of the input file picker element.\n",
              " * @param {string} outputId Element ID of the output display.\n",
              " * @return {!Iterable<!Object>} Iterable of next steps.\n",
              " */\n",
              "function* uploadFilesStep(inputId, outputId) {\n",
              "  const inputElement = document.getElementById(inputId);\n",
              "  inputElement.disabled = false;\n",
              "\n",
              "  const outputElement = document.getElementById(outputId);\n",
              "  outputElement.innerHTML = '';\n",
              "\n",
              "  const pickedPromise = new Promise((resolve) => {\n",
              "    inputElement.addEventListener('change', (e) => {\n",
              "      resolve(e.target.files);\n",
              "    });\n",
              "  });\n",
              "\n",
              "  const cancel = document.createElement('button');\n",
              "  inputElement.parentElement.appendChild(cancel);\n",
              "  cancel.textContent = 'Cancel upload';\n",
              "  const cancelPromise = new Promise((resolve) => {\n",
              "    cancel.onclick = () => {\n",
              "      resolve(null);\n",
              "    };\n",
              "  });\n",
              "\n",
              "  // Wait for the user to pick the files.\n",
              "  const files = yield {\n",
              "    promise: Promise.race([pickedPromise, cancelPromise]),\n",
              "    response: {\n",
              "      action: 'starting',\n",
              "    }\n",
              "  };\n",
              "\n",
              "  cancel.remove();\n",
              "\n",
              "  // Disable the input element since further picks are not allowed.\n",
              "  inputElement.disabled = true;\n",
              "\n",
              "  if (!files) {\n",
              "    return {\n",
              "      response: {\n",
              "        action: 'complete',\n",
              "      }\n",
              "    };\n",
              "  }\n",
              "\n",
              "  for (const file of files) {\n",
              "    const li = document.createElement('li');\n",
              "    li.append(span(file.name, {fontWeight: 'bold'}));\n",
              "    li.append(span(\n",
              "        `(${file.type || 'n/a'}) - ${file.size} bytes, ` +\n",
              "        `last modified: ${\n",
              "            file.lastModifiedDate ? file.lastModifiedDate.toLocaleDateString() :\n",
              "                                    'n/a'} - `));\n",
              "    const percent = span('0% done');\n",
              "    li.appendChild(percent);\n",
              "\n",
              "    outputElement.appendChild(li);\n",
              "\n",
              "    const fileDataPromise = new Promise((resolve) => {\n",
              "      const reader = new FileReader();\n",
              "      reader.onload = (e) => {\n",
              "        resolve(e.target.result);\n",
              "      };\n",
              "      reader.readAsArrayBuffer(file);\n",
              "    });\n",
              "    // Wait for the data to be ready.\n",
              "    let fileData = yield {\n",
              "      promise: fileDataPromise,\n",
              "      response: {\n",
              "        action: 'continue',\n",
              "      }\n",
              "    };\n",
              "\n",
              "    // Use a chunked sending to avoid message size limits. See b/62115660.\n",
              "    let position = 0;\n",
              "    do {\n",
              "      const length = Math.min(fileData.byteLength - position, MAX_PAYLOAD_SIZE);\n",
              "      const chunk = new Uint8Array(fileData, position, length);\n",
              "      position += length;\n",
              "\n",
              "      const base64 = btoa(String.fromCharCode.apply(null, chunk));\n",
              "      yield {\n",
              "        response: {\n",
              "          action: 'append',\n",
              "          file: file.name,\n",
              "          data: base64,\n",
              "        },\n",
              "      };\n",
              "\n",
              "      let percentDone = fileData.byteLength === 0 ?\n",
              "          100 :\n",
              "          Math.round((position / fileData.byteLength) * 100);\n",
              "      percent.textContent = `${percentDone}% done`;\n",
              "\n",
              "    } while (position < fileData.byteLength);\n",
              "  }\n",
              "\n",
              "  // All done.\n",
              "  yield {\n",
              "    response: {\n",
              "      action: 'complete',\n",
              "    }\n",
              "  };\n",
              "}\n",
              "\n",
              "scope.google = scope.google || {};\n",
              "scope.google.colab = scope.google.colab || {};\n",
              "scope.google.colab._files = {\n",
              "  _uploadFiles,\n",
              "  _uploadFilesContinue,\n",
              "};\n",
              "})(self);\n",
              "</script> "
            ]
          },
          "metadata": {}
        },
        {
          "output_type": "stream",
          "name": "stdout",
          "text": [
            "Saving kaggle (1).json to kaggle (1).json\n"
          ]
        },
        {
          "output_type": "execute_result",
          "data": {
            "text/plain": [
              "{'kaggle (1).json': b'{\"username\":\"jackparkinson\",\"key\":\"01e20c0f4474bf5f6cda58ac1e9a83a4\"}'}"
            ]
          },
          "metadata": {},
          "execution_count": 2
        }
      ]
    },
    {
      "cell_type": "code",
      "source": [
        "! mkdir ~/.kaggle\n",
        "! cp kaggle.json ~/.kaggle/"
      ],
      "metadata": {
        "id": "FzgHALPsivvF",
        "colab": {
          "base_uri": "https://localhost:8080/"
        },
        "outputId": "2f1ed1cb-6096-4221-e523-4d4297925c65"
      },
      "execution_count": 3,
      "outputs": [
        {
          "output_type": "stream",
          "name": "stdout",
          "text": [
            "cp: cannot stat 'kaggle.json': No such file or directory\n"
          ]
        }
      ]
    },
    {
      "cell_type": "code",
      "source": [
        " ! chmod 600 ~/.kaggle/kaggle.json"
      ],
      "metadata": {
        "id": "o1cWTQNQi3n1",
        "colab": {
          "base_uri": "https://localhost:8080/"
        },
        "outputId": "7218c0bc-fe0c-497b-9dcb-cee767b6210f"
      },
      "execution_count": 4,
      "outputs": [
        {
          "output_type": "stream",
          "name": "stdout",
          "text": [
            "chmod: cannot access '/root/.kaggle/kaggle.json': No such file or directory\n"
          ]
        }
      ]
    },
    {
      "cell_type": "code",
      "source": [
        "! kaggle datasets download -d gpiosenka/100-bird-species"
      ],
      "metadata": {
        "colab": {
          "base_uri": "https://localhost:8080/"
        },
        "id": "UsbEixj8i5gX",
        "outputId": "be06d275-556a-4c53-c7e4-f5de96a7b0d3"
      },
      "execution_count": 5,
      "outputs": [
        {
          "output_type": "stream",
          "name": "stdout",
          "text": [
            "Dataset URL: https://www.kaggle.com/datasets/gpiosenka/100-bird-species\n",
            "License(s): CC0-1.0\n",
            "Downloading 100-bird-species.zip to /content\n",
            "100% 1.95G/1.96G [01:36<00:00, 22.5MB/s]\n",
            "100% 1.96G/1.96G [01:36<00:00, 21.6MB/s]\n"
          ]
        }
      ]
    },
    {
      "cell_type": "markdown",
      "source": [
        "## Set up paths"
      ],
      "metadata": {
        "id": "YBNW-YVitHJt"
      }
    },
    {
      "cell_type": "code",
      "source": [
        "import zipfile\n",
        "import os"
      ],
      "metadata": {
        "id": "2jUW6tTCjFJ5"
      },
      "execution_count": 6,
      "outputs": []
    },
    {
      "cell_type": "code",
      "source": [
        "zip_path = '/content/100-bird-species.zip'\n",
        "\n",
        "# directory to unzip (can change if you want)\n",
        "extract_to = '/content/birds_dataset'\n",
        "\n",
        "# removes any current directory with name\n",
        "if os.path.exists(extract_to):\n",
        "    !rm -rf {extract_to}\n",
        "\n",
        "os.makedirs(extract_to, exist_ok=True)\n",
        "\n",
        "with zipfile.ZipFile(zip_path, 'r') as zip_ref:\n",
        "    zip_ref.extractall(extract_to)\n",
        "\n",
        "print(\"Unzipping completed!\")"
      ],
      "metadata": {
        "colab": {
          "base_uri": "https://localhost:8080/"
        },
        "id": "ASWmvtk6kE9P",
        "outputId": "1a3ce63b-094e-446c-e836-683cbba95743"
      },
      "execution_count": 7,
      "outputs": [
        {
          "output_type": "stream",
          "name": "stdout",
          "text": [
            "Unzipping completed!\n"
          ]
        }
      ]
    },
    {
      "cell_type": "code",
      "source": [
        "\n",
        "\n",
        "train_dir = '/content/birds_dataset/train'\n",
        "test_dir = '/content/birds_dataset/test'\n",
        "valid_dir = '/content/birds_dataset/valid'\n",
        "\n",
        "# counts files\n",
        "def count_images(directory):\n",
        "    count = 0\n",
        "    for _, _, files in os.walk(directory):\n",
        "        count += len(files)\n",
        "    return count\n",
        "\n",
        "train_count = count_images(train_dir)\n",
        "valid_count = count_images(valid_dir)\n",
        "test_count = count_images(test_dir)\n",
        "train_split = train_count / (train_count+test_count+valid_count)\n",
        "valid_split = valid_count / (train_count+test_count+valid_count)\n",
        "test_split = test_count / (train_count+test_count+valid_count)\n",
        "\n",
        "\n",
        "print(f\"Number of images in Train: {train_count} with split: {train_split}\")\n",
        "print(f\"Number of images in Valid: {valid_count} with split: {valid_split}\")\n",
        "print(f\"Number of images in Test: {test_count} with split: {test_split}\")"
      ],
      "metadata": {
        "id": "-knVf_3TkGbB",
        "colab": {
          "base_uri": "https://localhost:8080/"
        },
        "outputId": "41fcd83f-6974-4d80-a8c0-f156ba6b0cdc"
      },
      "execution_count": 8,
      "outputs": [
        {
          "output_type": "stream",
          "name": "stdout",
          "text": [
            "Number of images in Train: 84635 with split: 0.9415920342660066\n",
            "Number of images in Valid: 2625 with split: 0.029203982866996717\n",
            "Number of images in Test: 2625 with split: 0.029203982866996717\n"
          ]
        }
      ]
    },
    {
      "cell_type": "markdown",
      "source": [
        "#### There's an extra space for one of the birds in the train and test dir:"
      ],
      "metadata": {
        "id": "ik6RomOWMH4J"
      }
    },
    {
      "cell_type": "code",
      "source": [
        "def check_directories(path):\n",
        "    subdirs = os.listdir(path)\n",
        "    print(f'Total directories in {path}: {len(subdirs)}')\n",
        "    return set(os.listdir(path))\n",
        "\n",
        "# Retrieve the list of species in each directory\n",
        "train_species = check_directories(train_dir)\n",
        "test_species = check_directories(test_dir)\n",
        "valid_species = check_directories(valid_dir)\n",
        "\n",
        "# Find the union of all species (all species that appear in any directory)\n",
        "all_species = train_species.union(test_species).union(valid_species)\n",
        "\n",
        "# Find what is missing from each set\n",
        "missing_from_train = all_species - train_species\n",
        "missing_from_test = all_species - test_species\n",
        "missing_from_valid = all_species - valid_species\n",
        "\n",
        "print(\"Species missing from train:\", missing_from_train)\n",
        "print(\"Species missing from test:\", missing_from_test)\n",
        "print(\"Species missing from valid:\", missing_from_valid)\n"
      ],
      "metadata": {
        "colab": {
          "base_uri": "https://localhost:8080/"
        },
        "id": "JCS-iWqEKHE6",
        "outputId": "5aa0e51d-4c1b-4294-a290-e03376869401"
      },
      "execution_count": 9,
      "outputs": [
        {
          "output_type": "stream",
          "name": "stdout",
          "text": [
            "Total directories in /content/birds_dataset/train: 525\n",
            "Total directories in /content/birds_dataset/test: 525\n",
            "Total directories in /content/birds_dataset/valid: 525\n",
            "Species missing from train: {'PARAKETT AUKLET'}\n",
            "Species missing from test: {'PARAKETT AUKLET'}\n",
            "Species missing from valid: {'PARAKETT  AUKLET'}\n"
          ]
        }
      ]
    },
    {
      "cell_type": "code",
      "source": [],
      "metadata": {
        "id": "MZ8WzKJcKKhG"
      },
      "execution_count": 9,
      "outputs": []
    },
    {
      "cell_type": "code",
      "source": [
        "import os\n",
        "\n",
        "train_dir = '/content/birds_dataset/train'\n",
        "test_dir = '/content/birds_dataset/test'\n",
        "\n",
        "# Define the incorrect and correct paths for train and test\n",
        "incorrect_path_train = os.path.join(train_dir, 'PARAKETT  AUKLET')\n",
        "correct_path_train = os.path.join(train_dir, 'PARAKETT AUKLET')\n",
        "\n",
        "incorrect_path_test = os.path.join(test_dir, 'PARAKETT  AUKLET')\n",
        "correct_path_test = os.path.join(test_dir, 'PARAKETT AUKLET')\n",
        "\n",
        "# Rename the directories in train and test\n",
        "try:\n",
        "    os.rename(incorrect_path_train, correct_path_train)\n",
        "    print(f\"Renamed in train from '{incorrect_path_train}' to '{correct_path_train}'\")\n",
        "except FileNotFoundError as e:\n",
        "    print(f\"Error in train rename: {e}\")\n",
        "\n",
        "try:\n",
        "    os.rename(incorrect_path_test, correct_path_test)\n",
        "    print(f\"Renamed in test from '{incorrect_path_test}' to '{correct_path_test}'\")\n",
        "except FileNotFoundError as e:\n",
        "    print(f\"Error in test rename: {e}\")\n"
      ],
      "metadata": {
        "colab": {
          "base_uri": "https://localhost:8080/"
        },
        "id": "UJ1uIaLwKo2u",
        "outputId": "94847caa-ae6d-48d5-ae7e-216789b9e0a5"
      },
      "execution_count": 10,
      "outputs": [
        {
          "output_type": "stream",
          "name": "stdout",
          "text": [
            "Renamed in train from '/content/birds_dataset/train/PARAKETT  AUKLET' to '/content/birds_dataset/train/PARAKETT AUKLET'\n",
            "Renamed in test from '/content/birds_dataset/test/PARAKETT  AUKLET' to '/content/birds_dataset/test/PARAKETT AUKLET'\n"
          ]
        }
      ]
    },
    {
      "cell_type": "code",
      "source": [
        "def check_directories(path):\n",
        "    subdirs = os.listdir(path)\n",
        "    print(f'Total directories in {path}: {len(subdirs)}')\n",
        "    return set(os.listdir(path))\n",
        "\n",
        "# Retrieve the list of species in each directory\n",
        "train_species = check_directories(train_dir)\n",
        "test_species = check_directories(test_dir)\n",
        "valid_species = check_directories(valid_dir)\n",
        "\n",
        "# Find the union of all species (all species that appear in any directory)\n",
        "all_species = train_species.union(test_species).union(valid_species)\n",
        "\n",
        "# Find what is missing from each set\n",
        "missing_from_train = all_species - train_species\n",
        "missing_from_test = all_species - test_species\n",
        "missing_from_valid = all_species - valid_species\n",
        "\n",
        "print(\"Species missing from train:\", missing_from_train)\n",
        "print(\"Species missing from test:\", missing_from_test)\n",
        "print(\"Species missing from valid:\", missing_from_valid)\n"
      ],
      "metadata": {
        "colab": {
          "base_uri": "https://localhost:8080/"
        },
        "id": "d1QcGeYcLQ0R",
        "outputId": "3703e5b2-f515-450b-d9b9-828be27cc596"
      },
      "execution_count": 11,
      "outputs": [
        {
          "output_type": "stream",
          "name": "stdout",
          "text": [
            "Total directories in /content/birds_dataset/train: 525\n",
            "Total directories in /content/birds_dataset/test: 525\n",
            "Total directories in /content/birds_dataset/valid: 525\n",
            "Species missing from train: set()\n",
            "Species missing from test: set()\n",
            "Species missing from valid: set()\n"
          ]
        }
      ]
    },
    {
      "cell_type": "code",
      "source": [],
      "metadata": {
        "id": "Wm_Pv5sDKo6W"
      },
      "execution_count": 11,
      "outputs": []
    },
    {
      "cell_type": "markdown",
      "source": [
        "## Move around images so its roughly 80/10/10 split:\n",
        "Can manually specify a different split by choosing num_test_files and num_valid_files variables"
      ],
      "metadata": {
        "id": "H8GLfJMotLIU"
      }
    },
    {
      "cell_type": "code",
      "source": [
        "import os\n",
        "import shutil\n",
        "\n",
        "def adjust_dataset_split(train_dir, test_dir, valid_dir, num_test_files, num_valid_files):\n",
        "    # iterates through each species directory in the train directory\n",
        "    for species in os.listdir(train_dir):\n",
        "        species_train_dir = os.path.join(train_dir, species)\n",
        "        species_test_dir = os.path.join(test_dir, species)\n",
        "        species_valid_dir = os.path.join(valid_dir, species)\n",
        "\n",
        "        # train directory files for each species\n",
        "        files = os.listdir(species_train_dir)\n",
        "\n",
        "        # ensures test and valid directories exist\n",
        "        os.makedirs(species_test_dir, exist_ok=True)\n",
        "        os.makedirs(species_valid_dir, exist_ok=True)\n",
        "\n",
        "        # move files to test\n",
        "        for file in files[:num_test_files]:\n",
        "            shutil.move(os.path.join(species_train_dir, file), os.path.join(species_test_dir, file))\n",
        "\n",
        "        # update list of files remaining in train\n",
        "        remaining_files = os.listdir(species_train_dir)\n",
        "\n",
        "        # move files to valid\n",
        "        for file in remaining_files[:num_valid_files]:\n",
        "            shutil.move(os.path.join(species_train_dir, file), os.path.join(species_valid_dir, file))\n",
        "\n",
        "\n",
        "# specify number of files to move to respective dirs\n",
        "num_test_files = 10\n",
        "num_valid_files = 10\n",
        "\n",
        "\n",
        "adjust_dataset_split(train_dir, test_dir, valid_dir, num_test_files, num_valid_files)\n",
        "print(\"Files have been moved to achieve the specified dataset split.\")\n"
      ],
      "metadata": {
        "id": "-UzqfmvotWjP",
        "colab": {
          "base_uri": "https://localhost:8080/"
        },
        "outputId": "69fcc9b3-6967-489a-8fa1-5adefffe2ea4"
      },
      "execution_count": 12,
      "outputs": [
        {
          "output_type": "stream",
          "name": "stdout",
          "text": [
            "Files have been moved to achieve the specified dataset split.\n"
          ]
        }
      ]
    },
    {
      "cell_type": "markdown",
      "source": [],
      "metadata": {
        "id": "NWogJylV8K5Z"
      }
    },
    {
      "cell_type": "code",
      "source": [
        "train_count = count_images(train_dir)\n",
        "valid_count = count_images(valid_dir)\n",
        "test_count = count_images(test_dir)\n",
        "train_split = train_count / (train_count+test_count+valid_count)\n",
        "valid_split = valid_count / (train_count+test_count+valid_count)\n",
        "test_split = test_count / (train_count+test_count+valid_count)\n",
        "\n",
        "\n",
        "print(f\"Number of images in Train: {train_count} with proportion: {train_split}\")\n",
        "print(f\"Number of images in Valid: {valid_count} with proportion: {valid_split}\")\n",
        "print(f\"Number of images in Test: {test_count} with proportion: {test_split}\")"
      ],
      "metadata": {
        "colab": {
          "base_uri": "https://localhost:8080/"
        },
        "id": "yVaBWFb9wK8F",
        "outputId": "346dfb6b-2cf9-492e-b994-4365732219b9"
      },
      "execution_count": 13,
      "outputs": [
        {
          "output_type": "stream",
          "name": "stdout",
          "text": [
            "Number of images in Train: 74135 with proportion: 0.8247761027980197\n",
            "Number of images in Valid: 7875 with proportion: 0.08761194860099016\n",
            "Number of images in Test: 7875 with proportion: 0.08761194860099016\n"
          ]
        }
      ]
    },
    {
      "cell_type": "code",
      "source": [],
      "metadata": {
        "id": "-6JKK9MDLcek"
      },
      "execution_count": 13,
      "outputs": []
    },
    {
      "cell_type": "code",
      "source": [
        "def check_directories(path):\n",
        "    subdirs = os.listdir(path)\n",
        "    print(f'Total directories in {path}: {len(subdirs)}')\n",
        "    return set(os.listdir(path))\n",
        "\n",
        "# Retrieve the list of species in each directory\n",
        "train_species = check_directories(train_dir)\n",
        "test_species = check_directories(test_dir)\n",
        "valid_species = check_directories(valid_dir)\n",
        "\n",
        "# Find the union of all species (all species that appear in any directory)\n",
        "all_species = train_species.union(test_species).union(valid_species)\n",
        "\n",
        "# Find what is missing from each set\n",
        "missing_from_train = all_species - train_species\n",
        "missing_from_test = all_species - test_species\n",
        "missing_from_valid = all_species - valid_species\n",
        "\n",
        "print(\"Species missing from train:\", missing_from_train)\n",
        "print(\"Species missing from test:\", missing_from_test)\n",
        "print(\"Species missing from valid:\", missing_from_valid)\n"
      ],
      "metadata": {
        "id": "AYtWBRmjwMVQ",
        "colab": {
          "base_uri": "https://localhost:8080/"
        },
        "outputId": "7c9c4f66-01b0-4166-d78d-b77de8bcb384"
      },
      "execution_count": 14,
      "outputs": [
        {
          "output_type": "stream",
          "name": "stdout",
          "text": [
            "Total directories in /content/birds_dataset/train: 525\n",
            "Total directories in /content/birds_dataset/test: 525\n",
            "Total directories in /content/birds_dataset/valid: 525\n",
            "Species missing from train: set()\n",
            "Species missing from test: set()\n",
            "Species missing from valid: set()\n"
          ]
        }
      ]
    },
    {
      "cell_type": "code",
      "source": [],
      "metadata": {
        "id": "vlev1bjJg5yi"
      },
      "execution_count": 14,
      "outputs": []
    },
    {
      "cell_type": "code",
      "source": [],
      "metadata": {
        "id": "dHZC11Iug51o"
      },
      "execution_count": 14,
      "outputs": []
    },
    {
      "cell_type": "markdown",
      "source": [
        "## most frequent 50 birds:"
      ],
      "metadata": {
        "id": "38gT0tDTg6Lw"
      }
    },
    {
      "cell_type": "code",
      "source": [
        "# import shutil\n",
        "\n",
        "# def filter_directory(source_dir, target_dir, top_species):\n",
        "#     if not os.path.exists(target_dir):\n",
        "#         os.makedirs(target_dir)\n",
        "#     for species in top_species:\n",
        "#         source_species_path = os.path.join(source_dir, species)\n",
        "#         target_species_path = os.path.join(target_dir, species)\n",
        "#         if os.path.exists(source_species_path):\n",
        "#             shutil.copytree(source_species_path, target_species_path)\n",
        "\n",
        "# # Define your directory paths\n",
        "# original_train_dir = '/content/birds_dataset/train'\n",
        "# original_valid_dir = '/content/birds_dataset/valid'\n",
        "# original_test_dir = '/content/birds_dataset/test'\n",
        "\n",
        "# # Target directories for top 50 species\n",
        "# filtered_train_dir = '/content/birds_dataset_filtered/train'\n",
        "# filtered_valid_dir = '/content/birds_dataset_filtered/valid'\n",
        "# filtered_test_dir = '/content/birds_dataset_filtered/test'\n",
        "\n",
        "# # Filter the directories\n",
        "# filter_directory(original_train_dir, filtered_train_dir, top_50_species)\n",
        "# filter_directory(original_valid_dir, filtered_valid_dir, top_50_species)\n",
        "# filter_directory(original_test_dir, filtered_test_dir, top_50_species)\n"
      ],
      "metadata": {
        "id": "_e7q3fJ8hkHB"
      },
      "execution_count": 15,
      "outputs": []
    },
    {
      "cell_type": "code",
      "source": [
        "from tensorflow.keras.preprocessing import image_dataset_from_directory\n",
        "\n",
        "\n",
        "\n",
        "\n",
        "\n",
        "img_size = 224\n",
        "batch_size = 32\n",
        "\n",
        "train_data = image_dataset_from_directory(\n",
        "    train_dir,\n",
        "    image_size=(img_size, img_size),\n",
        "    batch_size=batch_size,\n",
        "    shuffle=True\n",
        ")\n",
        "\n",
        "val_data = image_dataset_from_directory(\n",
        "    valid_dir,\n",
        "    image_size=(img_size, img_size),\n",
        "    batch_size=batch_size,\n",
        "    shuffle=False\n",
        ")\n",
        "\n",
        "test_data = image_dataset_from_directory(\n",
        "    test_dir,\n",
        "    image_size=(img_size, img_size),\n",
        "    batch_size=batch_size,\n",
        "    shuffle=False\n",
        ")\n"
      ],
      "metadata": {
        "colab": {
          "base_uri": "https://localhost:8080/"
        },
        "id": "oXWtuYU-hm3f",
        "outputId": "e698a171-35d5-44a8-b85e-edb1419b4d0e"
      },
      "execution_count": 16,
      "outputs": [
        {
          "output_type": "stream",
          "name": "stdout",
          "text": [
            "Found 74135 files belonging to 525 classes.\n",
            "Found 7875 files belonging to 525 classes.\n",
            "Found 7875 files belonging to 525 classes.\n"
          ]
        }
      ]
    },
    {
      "cell_type": "code",
      "source": [
        "import tensorflow as tf\n",
        "from tensorflow.keras.models import Sequential\n",
        "from tensorflow.keras.layers import Flatten, Dense, Dropout\n",
        "from tensorflow.keras.applications import ResNet50\n"
      ],
      "metadata": {
        "id": "yALbynnhht3_"
      },
      "execution_count": 17,
      "outputs": []
    },
    {
      "cell_type": "code",
      "source": [
        "import numpy as np\n",
        "import tensorflow as tf\n",
        "\n",
        "def compute_image_statistics(data_generator):\n",
        "    all_images = []\n",
        "    for images, _ in data_generator.take(10):  # Take 10 batches\n",
        "        all_images.append(images.numpy())\n",
        "    all_images = np.concatenate(all_images)\n",
        "    mean = np.mean(all_images, axis=(0, 1, 2))\n",
        "    std = np.std(all_images, axis=(0, 1, 2))\n",
        "    return mean, std\n",
        "\n",
        "# Assuming 'train_data' is your training dataset loaded with tf.keras.utils.image_dataset_from_directory\n",
        "mean, std = compute_image_statistics(train_data)\n",
        "print(f\"Mean: {mean}, Standard Deviation: {std}\")\n",
        "\n",
        "# Compare these values to ImageNet's mean and std\n",
        "print(\"ImageNet means: ([123.68, 116.779, 103.939]), \", )"
      ],
      "metadata": {
        "colab": {
          "base_uri": "https://localhost:8080/"
        },
        "id": "if3sfpGUjPSX",
        "outputId": "464a85e8-5a72-4360-8e26-1b95cbd8714c"
      },
      "execution_count": 18,
      "outputs": [
        {
          "output_type": "stream",
          "name": "stdout",
          "text": [
            "Mean: [118.66132 119.6389  100.57725], Standard Deviation: [59.24695 58.69994 65.34119]\n",
            "ImageNet means: ([123.68, 116.779, 103.939]), \n"
          ]
        }
      ]
    },
    {
      "cell_type": "code",
      "source": [
        "from tensorflow.keras.applications.resnet50 import preprocess_input\n",
        "from tensorflow.keras.layers import Lambda, Flatten, Dense, Dropout\n",
        "from tensorflow.keras.models import Sequential\n",
        "\n",
        "model = Sequential([\n",
        "    Lambda(preprocess_input, input_shape=(224, 224, 3), name='preprocessing'),\n",
        "    ResNet50(include_top=False, pooling='avg', weights='imagenet'),\n",
        "    Flatten(),\n",
        "    Dense(512, activation='relu'),\n",
        "    Dropout(0.5),  # Adding dropout for regularization\n",
        "    Dense(525, activation='softmax')  # Adjusted for 50 classes\n",
        "])\n"
      ],
      "metadata": {
        "id": "fYUtPDL-iNml",
        "colab": {
          "base_uri": "https://localhost:8080/"
        },
        "outputId": "fe7b575c-15c3-47ef-b3ae-c486af830cb3"
      },
      "execution_count": 19,
      "outputs": [
        {
          "output_type": "stream",
          "name": "stdout",
          "text": [
            "Downloading data from https://storage.googleapis.com/tensorflow/keras-applications/resnet/resnet50_weights_tf_dim_ordering_tf_kernels_notop.h5\n",
            "94765736/94765736 [==============================] - 5s 0us/step\n"
          ]
        }
      ]
    },
    {
      "cell_type": "code",
      "source": [
        "from tensorflow.keras.optimizers import Adam\n",
        "\n",
        "model.compile(\n",
        "    optimizer=Adam(learning_rate=0.0001),\n",
        "    loss='sparse_categorical_crossentropy', #for integer class numbers\n",
        "    metrics=['accuracy']\n",
        ")\n"
      ],
      "metadata": {
        "id": "QTbwcms-iovQ"
      },
      "execution_count": 20,
      "outputs": []
    },
    {
      "cell_type": "code",
      "source": [],
      "metadata": {
        "id": "mktfLsn7ipJx"
      },
      "execution_count": 20,
      "outputs": []
    },
    {
      "cell_type": "code",
      "source": [
        "history = model.fit(\n",
        "    train_data,\n",
        "    epochs=20,  # Number of epochs to train for\n",
        "    validation_data=val_data,  # Validation data to evaluate the model\n",
        "    callbacks=[tf.keras.callbacks.EarlyStopping(monitor='val_loss', patience=3, restore_best_weights=True)],\n",
        "    verbose = 1\n",
        ")\n"
      ],
      "metadata": {
        "colab": {
          "base_uri": "https://localhost:8080/",
          "height": 391
        },
        "id": "-010Vu-sjyPw",
        "outputId": "bce53812-6f52-4f01-dfa5-9dee6cf32949"
      },
      "execution_count": 21,
      "outputs": [
        {
          "output_type": "stream",
          "name": "stdout",
          "text": [
            "Epoch 1/20\n",
            " 400/2317 [====>.........................] - ETA: 1:58 - loss: 5.4183 - accuracy: 0.0895"
          ]
        },
        {
          "output_type": "error",
          "ename": "KeyboardInterrupt",
          "evalue": "",
          "traceback": [
            "\u001b[0;31m---------------------------------------------------------------------------\u001b[0m",
            "\u001b[0;31mKeyboardInterrupt\u001b[0m                         Traceback (most recent call last)",
            "\u001b[0;32m<ipython-input-21-db6318a91105>\u001b[0m in \u001b[0;36m<cell line: 1>\u001b[0;34m()\u001b[0m\n\u001b[0;32m----> 1\u001b[0;31m history = model.fit(\n\u001b[0m\u001b[1;32m      2\u001b[0m     \u001b[0mtrain_data\u001b[0m\u001b[0;34m,\u001b[0m\u001b[0;34m\u001b[0m\u001b[0;34m\u001b[0m\u001b[0m\n\u001b[1;32m      3\u001b[0m     \u001b[0mepochs\u001b[0m\u001b[0;34m=\u001b[0m\u001b[0;36m20\u001b[0m\u001b[0;34m,\u001b[0m  \u001b[0;31m# Number of epochs to train for\u001b[0m\u001b[0;34m\u001b[0m\u001b[0;34m\u001b[0m\u001b[0m\n\u001b[1;32m      4\u001b[0m     \u001b[0mvalidation_data\u001b[0m\u001b[0;34m=\u001b[0m\u001b[0mval_data\u001b[0m\u001b[0;34m,\u001b[0m  \u001b[0;31m# Validation data to evaluate the model\u001b[0m\u001b[0;34m\u001b[0m\u001b[0;34m\u001b[0m\u001b[0m\n\u001b[1;32m      5\u001b[0m     \u001b[0mcallbacks\u001b[0m\u001b[0;34m=\u001b[0m\u001b[0;34m[\u001b[0m\u001b[0mtf\u001b[0m\u001b[0;34m.\u001b[0m\u001b[0mkeras\u001b[0m\u001b[0;34m.\u001b[0m\u001b[0mcallbacks\u001b[0m\u001b[0;34m.\u001b[0m\u001b[0mEarlyStopping\u001b[0m\u001b[0;34m(\u001b[0m\u001b[0mmonitor\u001b[0m\u001b[0;34m=\u001b[0m\u001b[0;34m'val_loss'\u001b[0m\u001b[0;34m,\u001b[0m \u001b[0mpatience\u001b[0m\u001b[0;34m=\u001b[0m\u001b[0;36m3\u001b[0m\u001b[0;34m,\u001b[0m \u001b[0mrestore_best_weights\u001b[0m\u001b[0;34m=\u001b[0m\u001b[0;32mTrue\u001b[0m\u001b[0;34m)\u001b[0m\u001b[0;34m]\u001b[0m\u001b[0;34m,\u001b[0m\u001b[0;34m\u001b[0m\u001b[0;34m\u001b[0m\u001b[0m\n",
            "\u001b[0;32m/usr/local/lib/python3.10/dist-packages/keras/src/utils/traceback_utils.py\u001b[0m in \u001b[0;36merror_handler\u001b[0;34m(*args, **kwargs)\u001b[0m\n\u001b[1;32m     63\u001b[0m         \u001b[0mfiltered_tb\u001b[0m \u001b[0;34m=\u001b[0m \u001b[0;32mNone\u001b[0m\u001b[0;34m\u001b[0m\u001b[0;34m\u001b[0m\u001b[0m\n\u001b[1;32m     64\u001b[0m         \u001b[0;32mtry\u001b[0m\u001b[0;34m:\u001b[0m\u001b[0;34m\u001b[0m\u001b[0;34m\u001b[0m\u001b[0m\n\u001b[0;32m---> 65\u001b[0;31m             \u001b[0;32mreturn\u001b[0m \u001b[0mfn\u001b[0m\u001b[0;34m(\u001b[0m\u001b[0;34m*\u001b[0m\u001b[0margs\u001b[0m\u001b[0;34m,\u001b[0m \u001b[0;34m**\u001b[0m\u001b[0mkwargs\u001b[0m\u001b[0;34m)\u001b[0m\u001b[0;34m\u001b[0m\u001b[0;34m\u001b[0m\u001b[0m\n\u001b[0m\u001b[1;32m     66\u001b[0m         \u001b[0;32mexcept\u001b[0m \u001b[0mException\u001b[0m \u001b[0;32mas\u001b[0m \u001b[0me\u001b[0m\u001b[0;34m:\u001b[0m\u001b[0;34m\u001b[0m\u001b[0;34m\u001b[0m\u001b[0m\n\u001b[1;32m     67\u001b[0m             \u001b[0mfiltered_tb\u001b[0m \u001b[0;34m=\u001b[0m \u001b[0m_process_traceback_frames\u001b[0m\u001b[0;34m(\u001b[0m\u001b[0me\u001b[0m\u001b[0;34m.\u001b[0m\u001b[0m__traceback__\u001b[0m\u001b[0;34m)\u001b[0m\u001b[0;34m\u001b[0m\u001b[0;34m\u001b[0m\u001b[0m\n",
            "\u001b[0;32m/usr/local/lib/python3.10/dist-packages/keras/src/engine/training.py\u001b[0m in \u001b[0;36mfit\u001b[0;34m(self, x, y, batch_size, epochs, verbose, callbacks, validation_split, validation_data, shuffle, class_weight, sample_weight, initial_epoch, steps_per_epoch, validation_steps, validation_batch_size, validation_freq, max_queue_size, workers, use_multiprocessing)\u001b[0m\n\u001b[1;32m   1805\u001b[0m                         ):\n\u001b[1;32m   1806\u001b[0m                             \u001b[0mcallbacks\u001b[0m\u001b[0;34m.\u001b[0m\u001b[0mon_train_batch_begin\u001b[0m\u001b[0;34m(\u001b[0m\u001b[0mstep\u001b[0m\u001b[0;34m)\u001b[0m\u001b[0;34m\u001b[0m\u001b[0;34m\u001b[0m\u001b[0m\n\u001b[0;32m-> 1807\u001b[0;31m                             \u001b[0mtmp_logs\u001b[0m \u001b[0;34m=\u001b[0m \u001b[0mself\u001b[0m\u001b[0;34m.\u001b[0m\u001b[0mtrain_function\u001b[0m\u001b[0;34m(\u001b[0m\u001b[0miterator\u001b[0m\u001b[0;34m)\u001b[0m\u001b[0;34m\u001b[0m\u001b[0;34m\u001b[0m\u001b[0m\n\u001b[0m\u001b[1;32m   1808\u001b[0m                             \u001b[0;32mif\u001b[0m \u001b[0mdata_handler\u001b[0m\u001b[0;34m.\u001b[0m\u001b[0mshould_sync\u001b[0m\u001b[0;34m:\u001b[0m\u001b[0;34m\u001b[0m\u001b[0;34m\u001b[0m\u001b[0m\n\u001b[1;32m   1809\u001b[0m                                 \u001b[0mcontext\u001b[0m\u001b[0;34m.\u001b[0m\u001b[0masync_wait\u001b[0m\u001b[0;34m(\u001b[0m\u001b[0;34m)\u001b[0m\u001b[0;34m\u001b[0m\u001b[0;34m\u001b[0m\u001b[0m\n",
            "\u001b[0;32m/usr/local/lib/python3.10/dist-packages/tensorflow/python/util/traceback_utils.py\u001b[0m in \u001b[0;36merror_handler\u001b[0;34m(*args, **kwargs)\u001b[0m\n\u001b[1;32m    148\u001b[0m     \u001b[0mfiltered_tb\u001b[0m \u001b[0;34m=\u001b[0m \u001b[0;32mNone\u001b[0m\u001b[0;34m\u001b[0m\u001b[0;34m\u001b[0m\u001b[0m\n\u001b[1;32m    149\u001b[0m     \u001b[0;32mtry\u001b[0m\u001b[0;34m:\u001b[0m\u001b[0;34m\u001b[0m\u001b[0;34m\u001b[0m\u001b[0m\n\u001b[0;32m--> 150\u001b[0;31m       \u001b[0;32mreturn\u001b[0m \u001b[0mfn\u001b[0m\u001b[0;34m(\u001b[0m\u001b[0;34m*\u001b[0m\u001b[0margs\u001b[0m\u001b[0;34m,\u001b[0m \u001b[0;34m**\u001b[0m\u001b[0mkwargs\u001b[0m\u001b[0;34m)\u001b[0m\u001b[0;34m\u001b[0m\u001b[0;34m\u001b[0m\u001b[0m\n\u001b[0m\u001b[1;32m    151\u001b[0m     \u001b[0;32mexcept\u001b[0m \u001b[0mException\u001b[0m \u001b[0;32mas\u001b[0m \u001b[0me\u001b[0m\u001b[0;34m:\u001b[0m\u001b[0;34m\u001b[0m\u001b[0;34m\u001b[0m\u001b[0m\n\u001b[1;32m    152\u001b[0m       \u001b[0mfiltered_tb\u001b[0m \u001b[0;34m=\u001b[0m \u001b[0m_process_traceback_frames\u001b[0m\u001b[0;34m(\u001b[0m\u001b[0me\u001b[0m\u001b[0;34m.\u001b[0m\u001b[0m__traceback__\u001b[0m\u001b[0;34m)\u001b[0m\u001b[0;34m\u001b[0m\u001b[0;34m\u001b[0m\u001b[0m\n",
            "\u001b[0;32m/usr/local/lib/python3.10/dist-packages/tensorflow/python/eager/polymorphic_function/polymorphic_function.py\u001b[0m in \u001b[0;36m__call__\u001b[0;34m(self, *args, **kwds)\u001b[0m\n\u001b[1;32m    830\u001b[0m \u001b[0;34m\u001b[0m\u001b[0m\n\u001b[1;32m    831\u001b[0m       \u001b[0;32mwith\u001b[0m \u001b[0mOptionalXlaContext\u001b[0m\u001b[0;34m(\u001b[0m\u001b[0mself\u001b[0m\u001b[0;34m.\u001b[0m\u001b[0m_jit_compile\u001b[0m\u001b[0;34m)\u001b[0m\u001b[0;34m:\u001b[0m\u001b[0;34m\u001b[0m\u001b[0;34m\u001b[0m\u001b[0m\n\u001b[0;32m--> 832\u001b[0;31m         \u001b[0mresult\u001b[0m \u001b[0;34m=\u001b[0m \u001b[0mself\u001b[0m\u001b[0;34m.\u001b[0m\u001b[0m_call\u001b[0m\u001b[0;34m(\u001b[0m\u001b[0;34m*\u001b[0m\u001b[0margs\u001b[0m\u001b[0;34m,\u001b[0m \u001b[0;34m**\u001b[0m\u001b[0mkwds\u001b[0m\u001b[0;34m)\u001b[0m\u001b[0;34m\u001b[0m\u001b[0;34m\u001b[0m\u001b[0m\n\u001b[0m\u001b[1;32m    833\u001b[0m \u001b[0;34m\u001b[0m\u001b[0m\n\u001b[1;32m    834\u001b[0m       \u001b[0mnew_tracing_count\u001b[0m \u001b[0;34m=\u001b[0m \u001b[0mself\u001b[0m\u001b[0;34m.\u001b[0m\u001b[0mexperimental_get_tracing_count\u001b[0m\u001b[0;34m(\u001b[0m\u001b[0;34m)\u001b[0m\u001b[0;34m\u001b[0m\u001b[0;34m\u001b[0m\u001b[0m\n",
            "\u001b[0;32m/usr/local/lib/python3.10/dist-packages/tensorflow/python/eager/polymorphic_function/polymorphic_function.py\u001b[0m in \u001b[0;36m_call\u001b[0;34m(self, *args, **kwds)\u001b[0m\n\u001b[1;32m    866\u001b[0m       \u001b[0;31m# In this case we have created variables on the first call, so we run the\u001b[0m\u001b[0;34m\u001b[0m\u001b[0;34m\u001b[0m\u001b[0m\n\u001b[1;32m    867\u001b[0m       \u001b[0;31m# defunned version which is guaranteed to never create variables.\u001b[0m\u001b[0;34m\u001b[0m\u001b[0;34m\u001b[0m\u001b[0m\n\u001b[0;32m--> 868\u001b[0;31m       return tracing_compilation.call_function(\n\u001b[0m\u001b[1;32m    869\u001b[0m           \u001b[0margs\u001b[0m\u001b[0;34m,\u001b[0m \u001b[0mkwds\u001b[0m\u001b[0;34m,\u001b[0m \u001b[0mself\u001b[0m\u001b[0;34m.\u001b[0m\u001b[0m_no_variable_creation_config\u001b[0m\u001b[0;34m\u001b[0m\u001b[0;34m\u001b[0m\u001b[0m\n\u001b[1;32m    870\u001b[0m       )\n",
            "\u001b[0;32m/usr/local/lib/python3.10/dist-packages/tensorflow/python/eager/polymorphic_function/tracing_compilation.py\u001b[0m in \u001b[0;36mcall_function\u001b[0;34m(args, kwargs, tracing_options)\u001b[0m\n\u001b[1;32m    137\u001b[0m   \u001b[0mbound_args\u001b[0m \u001b[0;34m=\u001b[0m \u001b[0mfunction\u001b[0m\u001b[0;34m.\u001b[0m\u001b[0mfunction_type\u001b[0m\u001b[0;34m.\u001b[0m\u001b[0mbind\u001b[0m\u001b[0;34m(\u001b[0m\u001b[0;34m*\u001b[0m\u001b[0margs\u001b[0m\u001b[0;34m,\u001b[0m \u001b[0;34m**\u001b[0m\u001b[0mkwargs\u001b[0m\u001b[0;34m)\u001b[0m\u001b[0;34m\u001b[0m\u001b[0;34m\u001b[0m\u001b[0m\n\u001b[1;32m    138\u001b[0m   \u001b[0mflat_inputs\u001b[0m \u001b[0;34m=\u001b[0m \u001b[0mfunction\u001b[0m\u001b[0;34m.\u001b[0m\u001b[0mfunction_type\u001b[0m\u001b[0;34m.\u001b[0m\u001b[0munpack_inputs\u001b[0m\u001b[0;34m(\u001b[0m\u001b[0mbound_args\u001b[0m\u001b[0;34m)\u001b[0m\u001b[0;34m\u001b[0m\u001b[0;34m\u001b[0m\u001b[0m\n\u001b[0;32m--> 139\u001b[0;31m   return function._call_flat(  # pylint: disable=protected-access\n\u001b[0m\u001b[1;32m    140\u001b[0m       \u001b[0mflat_inputs\u001b[0m\u001b[0;34m,\u001b[0m \u001b[0mcaptured_inputs\u001b[0m\u001b[0;34m=\u001b[0m\u001b[0mfunction\u001b[0m\u001b[0;34m.\u001b[0m\u001b[0mcaptured_inputs\u001b[0m\u001b[0;34m\u001b[0m\u001b[0;34m\u001b[0m\u001b[0m\n\u001b[1;32m    141\u001b[0m   )\n",
            "\u001b[0;32m/usr/local/lib/python3.10/dist-packages/tensorflow/python/eager/polymorphic_function/concrete_function.py\u001b[0m in \u001b[0;36m_call_flat\u001b[0;34m(self, tensor_inputs, captured_inputs)\u001b[0m\n\u001b[1;32m   1321\u001b[0m         and executing_eagerly):\n\u001b[1;32m   1322\u001b[0m       \u001b[0;31m# No tape is watching; skip to running the function.\u001b[0m\u001b[0;34m\u001b[0m\u001b[0;34m\u001b[0m\u001b[0m\n\u001b[0;32m-> 1323\u001b[0;31m       \u001b[0;32mreturn\u001b[0m \u001b[0mself\u001b[0m\u001b[0;34m.\u001b[0m\u001b[0m_inference_function\u001b[0m\u001b[0;34m.\u001b[0m\u001b[0mcall_preflattened\u001b[0m\u001b[0;34m(\u001b[0m\u001b[0margs\u001b[0m\u001b[0;34m)\u001b[0m\u001b[0;34m\u001b[0m\u001b[0;34m\u001b[0m\u001b[0m\n\u001b[0m\u001b[1;32m   1324\u001b[0m     forward_backward = self._select_forward_and_backward_functions(\n\u001b[1;32m   1325\u001b[0m         \u001b[0margs\u001b[0m\u001b[0;34m,\u001b[0m\u001b[0;34m\u001b[0m\u001b[0;34m\u001b[0m\u001b[0m\n",
            "\u001b[0;32m/usr/local/lib/python3.10/dist-packages/tensorflow/python/eager/polymorphic_function/atomic_function.py\u001b[0m in \u001b[0;36mcall_preflattened\u001b[0;34m(self, args)\u001b[0m\n\u001b[1;32m    214\u001b[0m   \u001b[0;32mdef\u001b[0m \u001b[0mcall_preflattened\u001b[0m\u001b[0;34m(\u001b[0m\u001b[0mself\u001b[0m\u001b[0;34m,\u001b[0m \u001b[0margs\u001b[0m\u001b[0;34m:\u001b[0m \u001b[0mSequence\u001b[0m\u001b[0;34m[\u001b[0m\u001b[0mcore\u001b[0m\u001b[0;34m.\u001b[0m\u001b[0mTensor\u001b[0m\u001b[0;34m]\u001b[0m\u001b[0;34m)\u001b[0m \u001b[0;34m->\u001b[0m \u001b[0mAny\u001b[0m\u001b[0;34m:\u001b[0m\u001b[0;34m\u001b[0m\u001b[0;34m\u001b[0m\u001b[0m\n\u001b[1;32m    215\u001b[0m     \u001b[0;34m\"\"\"Calls with flattened tensor inputs and returns the structured output.\"\"\"\u001b[0m\u001b[0;34m\u001b[0m\u001b[0;34m\u001b[0m\u001b[0m\n\u001b[0;32m--> 216\u001b[0;31m     \u001b[0mflat_outputs\u001b[0m \u001b[0;34m=\u001b[0m \u001b[0mself\u001b[0m\u001b[0;34m.\u001b[0m\u001b[0mcall_flat\u001b[0m\u001b[0;34m(\u001b[0m\u001b[0;34m*\u001b[0m\u001b[0margs\u001b[0m\u001b[0;34m)\u001b[0m\u001b[0;34m\u001b[0m\u001b[0;34m\u001b[0m\u001b[0m\n\u001b[0m\u001b[1;32m    217\u001b[0m     \u001b[0;32mreturn\u001b[0m \u001b[0mself\u001b[0m\u001b[0;34m.\u001b[0m\u001b[0mfunction_type\u001b[0m\u001b[0;34m.\u001b[0m\u001b[0mpack_output\u001b[0m\u001b[0;34m(\u001b[0m\u001b[0mflat_outputs\u001b[0m\u001b[0;34m)\u001b[0m\u001b[0;34m\u001b[0m\u001b[0;34m\u001b[0m\u001b[0m\n\u001b[1;32m    218\u001b[0m \u001b[0;34m\u001b[0m\u001b[0m\n",
            "\u001b[0;32m/usr/local/lib/python3.10/dist-packages/tensorflow/python/eager/polymorphic_function/atomic_function.py\u001b[0m in \u001b[0;36mcall_flat\u001b[0;34m(self, *args)\u001b[0m\n\u001b[1;32m    249\u001b[0m         \u001b[0;32mwith\u001b[0m \u001b[0mrecord\u001b[0m\u001b[0;34m.\u001b[0m\u001b[0mstop_recording\u001b[0m\u001b[0;34m(\u001b[0m\u001b[0;34m)\u001b[0m\u001b[0;34m:\u001b[0m\u001b[0;34m\u001b[0m\u001b[0;34m\u001b[0m\u001b[0m\n\u001b[1;32m    250\u001b[0m           \u001b[0;32mif\u001b[0m \u001b[0mself\u001b[0m\u001b[0;34m.\u001b[0m\u001b[0m_bound_context\u001b[0m\u001b[0;34m.\u001b[0m\u001b[0mexecuting_eagerly\u001b[0m\u001b[0;34m(\u001b[0m\u001b[0;34m)\u001b[0m\u001b[0;34m:\u001b[0m\u001b[0;34m\u001b[0m\u001b[0;34m\u001b[0m\u001b[0m\n\u001b[0;32m--> 251\u001b[0;31m             outputs = self._bound_context.call_function(\n\u001b[0m\u001b[1;32m    252\u001b[0m                 \u001b[0mself\u001b[0m\u001b[0;34m.\u001b[0m\u001b[0mname\u001b[0m\u001b[0;34m,\u001b[0m\u001b[0;34m\u001b[0m\u001b[0;34m\u001b[0m\u001b[0m\n\u001b[1;32m    253\u001b[0m                 \u001b[0mlist\u001b[0m\u001b[0;34m(\u001b[0m\u001b[0margs\u001b[0m\u001b[0;34m)\u001b[0m\u001b[0;34m,\u001b[0m\u001b[0;34m\u001b[0m\u001b[0;34m\u001b[0m\u001b[0m\n",
            "\u001b[0;32m/usr/local/lib/python3.10/dist-packages/tensorflow/python/eager/context.py\u001b[0m in \u001b[0;36mcall_function\u001b[0;34m(self, name, tensor_inputs, num_outputs)\u001b[0m\n\u001b[1;32m   1484\u001b[0m     \u001b[0mcancellation_context\u001b[0m \u001b[0;34m=\u001b[0m \u001b[0mcancellation\u001b[0m\u001b[0;34m.\u001b[0m\u001b[0mcontext\u001b[0m\u001b[0;34m(\u001b[0m\u001b[0;34m)\u001b[0m\u001b[0;34m\u001b[0m\u001b[0;34m\u001b[0m\u001b[0m\n\u001b[1;32m   1485\u001b[0m     \u001b[0;32mif\u001b[0m \u001b[0mcancellation_context\u001b[0m \u001b[0;32mis\u001b[0m \u001b[0;32mNone\u001b[0m\u001b[0;34m:\u001b[0m\u001b[0;34m\u001b[0m\u001b[0;34m\u001b[0m\u001b[0m\n\u001b[0;32m-> 1486\u001b[0;31m       outputs = execute.execute(\n\u001b[0m\u001b[1;32m   1487\u001b[0m           \u001b[0mname\u001b[0m\u001b[0;34m.\u001b[0m\u001b[0mdecode\u001b[0m\u001b[0;34m(\u001b[0m\u001b[0;34m\"utf-8\"\u001b[0m\u001b[0;34m)\u001b[0m\u001b[0;34m,\u001b[0m\u001b[0;34m\u001b[0m\u001b[0;34m\u001b[0m\u001b[0m\n\u001b[1;32m   1488\u001b[0m           \u001b[0mnum_outputs\u001b[0m\u001b[0;34m=\u001b[0m\u001b[0mnum_outputs\u001b[0m\u001b[0;34m,\u001b[0m\u001b[0;34m\u001b[0m\u001b[0;34m\u001b[0m\u001b[0m\n",
            "\u001b[0;32m/usr/local/lib/python3.10/dist-packages/tensorflow/python/eager/execute.py\u001b[0m in \u001b[0;36mquick_execute\u001b[0;34m(op_name, num_outputs, inputs, attrs, ctx, name)\u001b[0m\n\u001b[1;32m     51\u001b[0m   \u001b[0;32mtry\u001b[0m\u001b[0;34m:\u001b[0m\u001b[0;34m\u001b[0m\u001b[0;34m\u001b[0m\u001b[0m\n\u001b[1;32m     52\u001b[0m     \u001b[0mctx\u001b[0m\u001b[0;34m.\u001b[0m\u001b[0mensure_initialized\u001b[0m\u001b[0;34m(\u001b[0m\u001b[0;34m)\u001b[0m\u001b[0;34m\u001b[0m\u001b[0;34m\u001b[0m\u001b[0m\n\u001b[0;32m---> 53\u001b[0;31m     tensors = pywrap_tfe.TFE_Py_Execute(ctx._handle, device_name, op_name,\n\u001b[0m\u001b[1;32m     54\u001b[0m                                         inputs, attrs, num_outputs)\n\u001b[1;32m     55\u001b[0m   \u001b[0;32mexcept\u001b[0m \u001b[0mcore\u001b[0m\u001b[0;34m.\u001b[0m\u001b[0m_NotOkStatusException\u001b[0m \u001b[0;32mas\u001b[0m \u001b[0me\u001b[0m\u001b[0;34m:\u001b[0m\u001b[0;34m\u001b[0m\u001b[0;34m\u001b[0m\u001b[0m\n",
            "\u001b[0;31mKeyboardInterrupt\u001b[0m: "
          ]
        }
      ]
    },
    {
      "cell_type": "code",
      "source": [
        "# Save the entire model to a file\n",
        "model.save('path_to_my_model.h5')\n",
        "\n",
        "# Alternatively, you can save just the weights\n",
        "model.save_weights('path_to_my_weights.h5')\n"
      ],
      "metadata": {
        "id": "nP0LdsFikA-A"
      },
      "execution_count": null,
      "outputs": []
    },
    {
      "cell_type": "code",
      "source": [
        "import matplotlib.pyplot as plt\n",
        "\n",
        "# Plot training & validation accuracy values\n",
        "plt.plot(history.history['accuracy'])\n",
        "plt.plot(history.history['val_accuracy'])\n",
        "plt.title('Model accuracy')\n",
        "plt.ylabel('Accuracy')\n",
        "plt.xlabel('Epoch')\n",
        "plt.legend(['Train', 'Val'], loc='upper left')\n",
        "plt.show()\n",
        "\n",
        "# Plot training & validation loss values\n",
        "plt.plot(history.history['loss'])\n",
        "plt.plot(history.history['val_loss'])\n",
        "plt.title('Model loss')\n",
        "plt.ylabel('Loss')\n",
        "plt.xlabel('Epoch')\n",
        "plt.legend(['Train', 'Val'], loc='upper left')\n",
        "plt.show()\n"
      ],
      "metadata": {
        "id": "-YIKWtA6sgL9"
      },
      "execution_count": null,
      "outputs": []
    },
    {
      "cell_type": "code",
      "source": [
        "\n",
        "# Evaluate the model on the test set\n",
        "test_loss, test_accuracy = model.evaluate(test_data)\n",
        "\n",
        "print(f\"Test Loss: {test_loss}\")\n",
        "print(f\"Test Accuracy: {test_accuracy}\")\n"
      ],
      "metadata": {
        "id": "ozz3vbOLshiE"
      },
      "execution_count": null,
      "outputs": []
    },
    {
      "cell_type": "code",
      "source": [],
      "metadata": {
        "id": "n-OAXQKVe2h6"
      },
      "execution_count": null,
      "outputs": []
    },
    {
      "cell_type": "code",
      "source": [
        "from tensorflow.keras.applications.resnet50 import ResNet50, preprocess_input\n",
        "from tensorflow.keras.layers import Lambda, Flatten, Dense, Dropout\n",
        "from tensorflow.keras.models import Sequential\n",
        "from tensorflow.keras.optimizers import Adam\n",
        "\n",
        "# Define the model\n",
        "model = Sequential([\n",
        "    Lambda(preprocess_input, input_shape=(224, 224, 3), name='preprocessing'),\n",
        "    ResNet50(include_top=False, pooling='avg', weights='imagenet'),\n",
        "    Flatten(),\n",
        "    Dense(512, activation='relu'),\n",
        "    Dropout(0.5),  # Adding dropout for regularization\n",
        "    Dense(525, activation='softmax')  # Adjust the number of classes if necessary\n",
        "])\n"
      ],
      "metadata": {
        "id": "Ss5KJRQ1ez73"
      },
      "execution_count": 25,
      "outputs": []
    },
    {
      "cell_type": "code",
      "source": [
        "# model.layers[1].trainable = False"
      ],
      "metadata": {
        "id": "s0AjoJc8tK2Y"
      },
      "execution_count": 23,
      "outputs": []
    },
    {
      "cell_type": "code",
      "source": [
        "from tensorflow.keras.callbacks import ReduceLROnPlateau, EarlyStopping\n",
        "\n",
        "# Reduce learning rate when a metric has stopped improving\n",
        "reduce_lr = ReduceLROnPlateau(monitor='val_loss', factor=0.1, patience=2, verbose=1, min_lr=0.00001)\n",
        "\n",
        "# Early stopping to stop training when validation loss/accuracy has stopped improving\n",
        "early_stopping = EarlyStopping(monitor='val_loss', patience=5, restore_best_weights=True, verbose=1)\n",
        "\n",
        "# Compile the model\n",
        "model.compile(optimizer=Adam(learning_rate=0.0001),\n",
        "              loss='sparse_categorical_crossentropy',\n",
        "              metrics=['accuracy'])\n",
        "\n",
        "# Fit the model with the scheduler and early stopping\n",
        "history = model.fit(train_data,\n",
        "                    epochs=30,\n",
        "                    validation_data=val_data,\n",
        "                    callbacks=[reduce_lr, early_stopping],  # Include the ReduceLROnPlateau and EarlyStopping callbacks\n",
        "                    verbose=1)\n"
      ],
      "metadata": {
        "colab": {
          "base_uri": "https://localhost:8080/"
        },
        "id": "sgVzL6IrrL1b",
        "outputId": "35b45325-f391-4b2b-c902-e601826cde38"
      },
      "execution_count": 26,
      "outputs": [
        {
          "output_type": "stream",
          "name": "stdout",
          "text": [
            "Epoch 1/30\n",
            "2317/2317 [==============================] - 180s 66ms/step - loss: 2.3629 - accuracy: 0.5216 - val_loss: 0.5298 - val_accuracy: 0.8672 - lr: 1.0000e-04\n",
            "Epoch 2/30\n",
            "2317/2317 [==============================] - 148s 64ms/step - loss: 0.6136 - accuracy: 0.8486 - val_loss: 0.4249 - val_accuracy: 0.8954 - lr: 1.0000e-04\n",
            "Epoch 3/30\n",
            "2317/2317 [==============================] - 148s 64ms/step - loss: 0.3578 - accuracy: 0.9079 - val_loss: 0.4105 - val_accuracy: 0.9018 - lr: 1.0000e-04\n",
            "Epoch 4/30\n",
            "2317/2317 [==============================] - 148s 64ms/step - loss: 0.2475 - accuracy: 0.9345 - val_loss: 0.3985 - val_accuracy: 0.9059 - lr: 1.0000e-04\n",
            "Epoch 5/30\n",
            "2317/2317 [==============================] - 148s 64ms/step - loss: 0.1882 - accuracy: 0.9480 - val_loss: 0.3918 - val_accuracy: 0.9083 - lr: 1.0000e-04\n",
            "Epoch 6/30\n",
            "2317/2317 [==============================] - 148s 64ms/step - loss: 0.1525 - accuracy: 0.9570 - val_loss: 0.4176 - val_accuracy: 0.9081 - lr: 1.0000e-04\n",
            "Epoch 7/30\n",
            "2317/2317 [==============================] - 148s 64ms/step - loss: 0.1288 - accuracy: 0.9633 - val_loss: 0.3841 - val_accuracy: 0.9117 - lr: 1.0000e-04\n",
            "Epoch 8/30\n",
            "2317/2317 [==============================] - 148s 64ms/step - loss: 0.1110 - accuracy: 0.9679 - val_loss: 0.4041 - val_accuracy: 0.9139 - lr: 1.0000e-04\n",
            "Epoch 9/30\n",
            "2317/2317 [==============================] - ETA: 0s - loss: 0.1005 - accuracy: 0.9708\n",
            "Epoch 9: ReduceLROnPlateau reducing learning rate to 1e-05.\n",
            "2317/2317 [==============================] - 148s 64ms/step - loss: 0.1005 - accuracy: 0.9708 - val_loss: 0.4312 - val_accuracy: 0.9126 - lr: 1.0000e-04\n",
            "Epoch 10/30\n",
            "2317/2317 [==============================] - 148s 64ms/step - loss: 0.0365 - accuracy: 0.9895 - val_loss: 0.2577 - val_accuracy: 0.9492 - lr: 1.0000e-05\n",
            "Epoch 11/30\n",
            "2317/2317 [==============================] - 148s 64ms/step - loss: 0.0137 - accuracy: 0.9962 - val_loss: 0.2562 - val_accuracy: 0.9505 - lr: 1.0000e-05\n",
            "Epoch 12/30\n",
            "2317/2317 [==============================] - 148s 64ms/step - loss: 0.0085 - accuracy: 0.9980 - val_loss: 0.2591 - val_accuracy: 0.9515 - lr: 1.0000e-05\n",
            "Epoch 13/30\n",
            "2317/2317 [==============================] - 148s 64ms/step - loss: 0.0053 - accuracy: 0.9988 - val_loss: 0.2666 - val_accuracy: 0.9523 - lr: 1.0000e-05\n",
            "Epoch 14/30\n",
            "2317/2317 [==============================] - 148s 64ms/step - loss: 0.0045 - accuracy: 0.9989 - val_loss: 0.2716 - val_accuracy: 0.9517 - lr: 1.0000e-05\n",
            "Epoch 15/30\n",
            "2317/2317 [==============================] - 148s 64ms/step - loss: 0.0043 - accuracy: 0.9989 - val_loss: 0.2680 - val_accuracy: 0.9516 - lr: 1.0000e-05\n",
            "Epoch 16/30\n",
            "2317/2317 [==============================] - ETA: 0s - loss: 0.0036 - accuracy: 0.9992Restoring model weights from the end of the best epoch: 11.\n",
            "2317/2317 [==============================] - 148s 64ms/step - loss: 0.0036 - accuracy: 0.9992 - val_loss: 0.2808 - val_accuracy: 0.9521 - lr: 1.0000e-05\n",
            "Epoch 16: early stopping\n"
          ]
        }
      ]
    },
    {
      "cell_type": "code",
      "source": [
        "# Save the entire model to a file\n",
        "model.save('path_to_my_model3_no_freeze.h5')\n",
        "\n",
        "# Alternatively, you can save just the weights\n",
        "model.save_weights('path_to_my_weights3_no_freeze.h5')\n"
      ],
      "metadata": {
        "id": "ZlAbky5NrMCI",
        "colab": {
          "base_uri": "https://localhost:8080/"
        },
        "outputId": "69500c64-8577-4329-8cf0-350d6bcfb6dd"
      },
      "execution_count": 27,
      "outputs": [
        {
          "output_type": "stream",
          "name": "stderr",
          "text": [
            "/usr/local/lib/python3.10/dist-packages/keras/src/engine/training.py:3103: UserWarning: You are saving your model as an HDF5 file via `model.save()`. This file format is considered legacy. We recommend using instead the native Keras format, e.g. `model.save('my_model.keras')`.\n",
            "  saving_api.save_model(\n"
          ]
        }
      ]
    },
    {
      "cell_type": "code",
      "source": [
        "import matplotlib.pyplot as plt\n",
        "\n",
        "# Plot training & validation accuracy values\n",
        "plt.plot(history.history['accuracy'])\n",
        "plt.plot(history.history['val_accuracy'])\n",
        "plt.title('Model accuracy')\n",
        "plt.ylabel('Accuracy')\n",
        "plt.xlabel('Epoch')\n",
        "plt.legend(['Train', 'Val'], loc='upper left')\n",
        "plt.show()\n",
        "\n",
        "# Plot training & validation loss values\n",
        "plt.plot(history.history['loss'])\n",
        "plt.plot(history.history['val_loss'])\n",
        "plt.title('Model loss')\n",
        "plt.ylabel('Loss')\n",
        "plt.xlabel('Epoch')\n",
        "plt.legend(['Train', 'Val'], loc='upper left')\n",
        "plt.show()\n"
      ],
      "metadata": {
        "id": "n_LoC2Ca0KfQ",
        "colab": {
          "base_uri": "https://localhost:8080/",
          "height": 927
        },
        "outputId": "7ddeaae1-55a4-407c-aad1-9c3bc2aef5b2"
      },
      "execution_count": 28,
      "outputs": [
        {
          "output_type": "display_data",
          "data": {
            "text/plain": [
              "<Figure size 640x480 with 1 Axes>"
            ],
            "image/png": "[encoded data removed]"
          },
          "metadata": {}
        },
        {
          "output_type": "display_data",
          "data": {
            "text/plain": [
              "<Figure size 640x480 with 1 Axes>"
            ],
            "image/png": "[encoded data removed]"
          },
          "metadata": {}
        }
      ]
    },
    {
      "cell_type": "code",
      "source": [
        "\n",
        "# Evaluate the model on the test set\n",
        "test_loss, test_accuracy = model.evaluate(test_data)\n",
        "\n",
        "print(f\"Test Loss: {test_loss}\")\n",
        "print(f\"Test Accuracy: {test_accuracy}\")\n"
      ],
      "metadata": {
        "id": "UhaqdkU-0M_U",
        "colab": {
          "base_uri": "https://localhost:8080/"
        },
        "outputId": "419ccc11-345f-4fa1-91fb-d0b582cd1810"
      },
      "execution_count": 29,
      "outputs": [
        {
          "output_type": "stream",
          "name": "stdout",
          "text": [
            "247/247 [==============================] - 6s 25ms/step - loss: 0.2112 - accuracy: 0.9567\n",
            "Test Loss: 0.2112153172492981\n",
            "Test Accuracy: 0.9566984176635742\n"
          ]
        }
      ]
    },
    {
      "cell_type": "code",
      "source": [
        "# Assuming the model has already been trained and the best weights have been restored\n",
        "\n",
        "# Evaluate the model on the training set\n",
        "train_loss, train_accuracy = model.evaluate(train_data)\n",
        "print(f\"Train Loss: {train_loss}\")\n",
        "print(f\"Train Accuracy: {train_accuracy}\")\n",
        "\n",
        "# Evaluate the model on the validation set\n",
        "val_loss, val_accuracy = model.evaluate(val_data)\n",
        "print(f\"Validation Loss: {val_loss}\")\n",
        "print(f\"Validation Accuracy: {val_accuracy}\")\n",
        "\n",
        "# Evaluate the model on the test set\n",
        "test_loss, test_accuracy = model.evaluate(test_data)\n",
        "print(f\"Test Loss: {test_loss}\")\n",
        "print(f\"Test Accuracy: {test_accuracy}\")\n"
      ],
      "metadata": {
        "id": "8zEr5lr-0Qma",
        "colab": {
          "base_uri": "https://localhost:8080/"
        },
        "outputId": "13327382-b2b3-47ad-c8e0-07ceda2cdeb8"
      },
      "execution_count": 30,
      "outputs": [
        {
          "output_type": "stream",
          "name": "stdout",
          "text": [
            "2317/2317 [==============================] - 57s 24ms/step - loss: 8.6041e-04 - accuracy: 0.9998\n",
            "Train Loss: 0.0008604107424616814\n",
            "Train Accuracy: 0.9998246431350708\n",
            "247/247 [==============================] - 6s 24ms/step - loss: 0.2562 - accuracy: 0.9505\n",
            "Validation Loss: 0.2562370300292969\n",
            "Validation Accuracy: 0.9504761695861816\n",
            "247/247 [==============================] - 6s 25ms/step - loss: 0.2112 - accuracy: 0.9567\n",
            "Test Loss: 0.21121534705162048\n",
            "Test Accuracy: 0.9566984176635742\n"
          ]
        }
      ]
    },
    {
      "cell_type": "code",
      "source": [],
      "metadata": {
        "id": "eI-HGml783_4"
      },
      "execution_count": null,
      "outputs": []
    },
    {
      "cell_type": "markdown",
      "source": [
        "## trying to prevent overfitting"
      ],
      "metadata": {
        "id": "P838YkXq-RyC"
      }
    },
    {
      "cell_type": "code",
      "source": [
        "from tensorflow.keras.applications.resnet50 import ResNet50, preprocess_input\n",
        "from tensorflow.keras.layers import Lambda, Flatten, Dense, Dropout\n",
        "from tensorflow.keras.models import Sequential\n",
        "from tensorflow.keras.optimizers import Adam\n",
        "from tensorflow.keras.regularizers import l2\n",
        "from tensorflow.keras.preprocessing.image import ImageDataGenerator\n",
        "from tensorflow.keras.callbacks import ReduceLROnPlateau, EarlyStopping, ModelCheckpoint\n",
        "\n",
        "# Define the model\n",
        "model = Sequential([\n",
        "    Lambda(preprocess_input, input_shape=(224, 224, 3), name='preprocessing'),\n",
        "    ResNet50(include_top=False, pooling='avg', weights='imagenet'),\n",
        "    Flatten(),\n",
        "    Dense(512, activation='relu', kernel_regularizer=l2(0.01)),  # Add L2 regularization\n",
        "    Dropout(0.5),  # Increase dropout rate for regularization\n",
        "    Dense(512, activation='relu', kernel_regularizer=l2(0.01)),  # Add an additional dense layer with L2 regularization\n",
        "    Dropout(0.5),  # Add dropout\n",
        "    Dense(525, activation='softmax')  # Adjust the number of classes if necessary\n",
        "])\n",
        "\n",
        "# Compile the model\n",
        "model.compile(optimizer=Adam(learning_rate=0.0001),\n",
        "              loss='sparse_categorical_crossentropy',\n",
        "              metrics=['accuracy'])\n",
        "\n",
        "# Reduce learning rate when a metric has stopped improving\n",
        "reduce_lr = ReduceLROnPlateau(monitor='val_loss', factor=0.1, patience=2, verbose=1, min_lr=0.00001)\n",
        "\n",
        "# Early stopping to stop training when validation loss has stopped improving\n",
        "early_stopping = EarlyStopping(monitor='val_loss', patience=5, restore_best_weights=True, verbose=1)\n",
        "\n",
        "# Model checkpoint to save the model weights at each epoch\n",
        "checkpoint_dir = '/content/checkpoints'\n",
        "if not os.path.exists(checkpoint_dir):\n",
        "    os.makedirs(checkpoint_dir)\n",
        "checkpoint = ModelCheckpoint(filepath=os.path.join(checkpoint_dir, 'model_epoch_{epoch:02d}.h5'),\n",
        "                             save_weights_only=True,\n",
        "                             save_freq='epoch',\n",
        "                             verbose=1)\n",
        "\n",
        "# Fit the model with the scheduler, early stopping, and model checkpoint\n",
        "history = model.fit(train_data,\n",
        "                    epochs=50,\n",
        "                    validation_data=val_data,\n",
        "                    callbacks=[reduce_lr, early_stopping, checkpoint],  # Include all the callbacks\n",
        "                    verbose=1)\n"
      ],
      "metadata": {
        "colab": {
          "base_uri": "https://localhost:8080/"
        },
        "id": "dYHBjryX-Br0",
        "outputId": "ce657f98-dcc1-416e-901e-e0726c090972"
      },
      "execution_count": 32,
      "outputs": [
        {
          "output_type": "stream",
          "name": "stdout",
          "text": [
            "Epoch 1/50\n",
            "2317/2317 [==============================] - ETA: 0s - loss: 9.4303 - accuracy: 0.1717\n",
            "Epoch 1: saving model to /content/checkpoints/model_epoch_01.h5\n",
            "2317/2317 [==============================] - 179s 65ms/step - loss: 9.4303 - accuracy: 0.1717 - val_loss: 4.0459 - val_accuracy: 0.6428 - lr: 1.0000e-04\n",
            "Epoch 2/50\n",
            "2317/2317 [==============================] - ETA: 0s - loss: 3.4219 - accuracy: 0.5699\n",
            "Epoch 2: saving model to /content/checkpoints/model_epoch_02.h5\n",
            "2317/2317 [==============================] - 150s 65ms/step - loss: 3.4219 - accuracy: 0.5699 - val_loss: 2.0071 - val_accuracy: 0.8272 - lr: 1.0000e-04\n",
            "Epoch 3/50\n",
            "2317/2317 [==============================] - ETA: 0s - loss: 1.9677 - accuracy: 0.7579\n",
            "Epoch 3: saving model to /content/checkpoints/model_epoch_03.h5\n",
            "2317/2317 [==============================] - 150s 65ms/step - loss: 1.9677 - accuracy: 0.7579 - val_loss: 1.3536 - val_accuracy: 0.8737 - lr: 1.0000e-04\n",
            "Epoch 4/50\n",
            "2317/2317 [==============================] - ETA: 0s - loss: 1.3194 - accuracy: 0.8444\n",
            "Epoch 4: saving model to /content/checkpoints/model_epoch_04.h5\n",
            "2317/2317 [==============================] - 150s 65ms/step - loss: 1.3194 - accuracy: 0.8444 - val_loss: 1.0314 - val_accuracy: 0.8945 - lr: 1.0000e-04\n",
            "Epoch 5/50\n",
            "2317/2317 [==============================] - ETA: 0s - loss: 0.9871 - accuracy: 0.8885\n",
            "Epoch 5: saving model to /content/checkpoints/model_epoch_05.h5\n",
            "2317/2317 [==============================] - 149s 64ms/step - loss: 0.9871 - accuracy: 0.8885 - val_loss: 0.9158 - val_accuracy: 0.8952 - lr: 1.0000e-04\n",
            "Epoch 6/50\n",
            "2317/2317 [==============================] - ETA: 0s - loss: 0.7852 - accuracy: 0.9169\n",
            "Epoch 6: saving model to /content/checkpoints/model_epoch_06.h5\n",
            "2317/2317 [==============================] - 150s 65ms/step - loss: 0.7852 - accuracy: 0.9169 - val_loss: 0.8309 - val_accuracy: 0.9003 - lr: 1.0000e-04\n",
            "Epoch 7/50\n",
            "2317/2317 [==============================] - ETA: 0s - loss: 0.6719 - accuracy: 0.9318\n",
            "Epoch 7: saving model to /content/checkpoints/model_epoch_07.h5\n",
            "2317/2317 [==============================] - 150s 65ms/step - loss: 0.6719 - accuracy: 0.9318 - val_loss: 0.8401 - val_accuracy: 0.8884 - lr: 1.0000e-04\n",
            "Epoch 8/50\n",
            "2317/2317 [==============================] - ETA: 0s - loss: 0.5758 - accuracy: 0.9448\n",
            "Epoch 8: saving model to /content/checkpoints/model_epoch_08.h5\n",
            "2317/2317 [==============================] - 150s 65ms/step - loss: 0.5758 - accuracy: 0.9448 - val_loss: 0.7788 - val_accuracy: 0.8961 - lr: 1.0000e-04\n",
            "Epoch 9/50\n",
            "2317/2317 [==============================] - ETA: 0s - loss: 0.5178 - accuracy: 0.9523\n",
            "Epoch 9: saving model to /content/checkpoints/model_epoch_09.h5\n",
            "2317/2317 [==============================] - 149s 64ms/step - loss: 0.5178 - accuracy: 0.9523 - val_loss: 0.7901 - val_accuracy: 0.8907 - lr: 1.0000e-04\n",
            "Epoch 10/50\n",
            "2317/2317 [==============================] - ETA: 0s - loss: 0.4819 - accuracy: 0.9562\n",
            "Epoch 10: saving model to /content/checkpoints/model_epoch_10.h5\n",
            "2317/2317 [==============================] - 150s 65ms/step - loss: 0.4819 - accuracy: 0.9562 - val_loss: 0.7128 - val_accuracy: 0.9040 - lr: 1.0000e-04\n",
            "Epoch 11/50\n",
            "2317/2317 [==============================] - ETA: 0s - loss: 0.4372 - accuracy: 0.9629\n",
            "Epoch 11: saving model to /content/checkpoints/model_epoch_11.h5\n",
            "2317/2317 [==============================] - 150s 65ms/step - loss: 0.4372 - accuracy: 0.9629 - val_loss: 0.7443 - val_accuracy: 0.8982 - lr: 1.0000e-04\n",
            "Epoch 12/50\n",
            "2317/2317 [==============================] - ETA: 0s - loss: 0.4096 - accuracy: 0.9660\n",
            "Epoch 12: saving model to /content/checkpoints/model_epoch_12.h5\n",
            "2317/2317 [==============================] - 150s 65ms/step - loss: 0.4096 - accuracy: 0.9660 - val_loss: 0.6528 - val_accuracy: 0.9124 - lr: 1.0000e-04\n",
            "Epoch 13/50\n",
            "2317/2317 [==============================] - ETA: 0s - loss: 0.3884 - accuracy: 0.9684\n",
            "Epoch 13: saving model to /content/checkpoints/model_epoch_13.h5\n",
            "2317/2317 [==============================] - 150s 65ms/step - loss: 0.3884 - accuracy: 0.9684 - val_loss: 0.7437 - val_accuracy: 0.8935 - lr: 1.0000e-04\n",
            "Epoch 14/50\n",
            "2317/2317 [==============================] - ETA: 0s - loss: 0.3647 - accuracy: 0.9724\n",
            "Epoch 14: saving model to /content/checkpoints/model_epoch_14.h5\n",
            "2317/2317 [==============================] - 150s 65ms/step - loss: 0.3647 - accuracy: 0.9724 - val_loss: 0.6230 - val_accuracy: 0.9166 - lr: 1.0000e-04\n",
            "Epoch 15/50\n",
            "2317/2317 [==============================] - ETA: 0s - loss: 0.3501 - accuracy: 0.9733\n",
            "Epoch 15: saving model to /content/checkpoints/model_epoch_15.h5\n",
            "2317/2317 [==============================] - 150s 65ms/step - loss: 0.3501 - accuracy: 0.9733 - val_loss: 0.6118 - val_accuracy: 0.9190 - lr: 1.0000e-04\n",
            "Epoch 16/50\n",
            "2317/2317 [==============================] - ETA: 0s - loss: 0.3340 - accuracy: 0.9751\n",
            "Epoch 16: saving model to /content/checkpoints/model_epoch_16.h5\n",
            "2317/2317 [==============================] - 151s 65ms/step - loss: 0.3340 - accuracy: 0.9751 - val_loss: 0.6222 - val_accuracy: 0.9168 - lr: 1.0000e-04\n",
            "Epoch 17/50\n",
            "2317/2317 [==============================] - ETA: 0s - loss: 0.3218 - accuracy: 0.9764\n",
            "Epoch 17: ReduceLROnPlateau reducing learning rate to 1e-05.\n",
            "\n",
            "Epoch 17: saving model to /content/checkpoints/model_epoch_17.h5\n",
            "2317/2317 [==============================] - 150s 65ms/step - loss: 0.3218 - accuracy: 0.9764 - val_loss: 0.6600 - val_accuracy: 0.9027 - lr: 1.0000e-04\n",
            "Epoch 18/50\n",
            "2317/2317 [==============================] - ETA: 0s - loss: 0.2243 - accuracy: 0.9934\n",
            "Epoch 18: saving model to /content/checkpoints/model_epoch_18.h5\n",
            "2317/2317 [==============================] - 150s 65ms/step - loss: 0.2243 - accuracy: 0.9934 - val_loss: 0.4543 - val_accuracy: 0.9404 - lr: 1.0000e-05\n",
            "Epoch 19/50\n",
            "2317/2317 [==============================] - ETA: 0s - loss: 0.1815 - accuracy: 0.9974\n",
            "Epoch 19: saving model to /content/checkpoints/model_epoch_19.h5\n",
            "2317/2317 [==============================] - 150s 65ms/step - loss: 0.1815 - accuracy: 0.9974 - val_loss: 0.4228 - val_accuracy: 0.9425 - lr: 1.0000e-05\n",
            "Epoch 20/50\n",
            "2317/2317 [==============================] - ETA: 0s - loss: 0.1648 - accuracy: 0.9980\n",
            "Epoch 20: saving model to /content/checkpoints/model_epoch_20.h5\n",
            "2317/2317 [==============================] - 150s 65ms/step - loss: 0.1648 - accuracy: 0.9980 - val_loss: 0.4058 - val_accuracy: 0.9449 - lr: 1.0000e-05\n",
            "Epoch 21/50\n",
            "2317/2317 [==============================] - ETA: 0s - loss: 0.1527 - accuracy: 0.9987\n",
            "Epoch 21: saving model to /content/checkpoints/model_epoch_21.h5\n",
            "2317/2317 [==============================] - 149s 64ms/step - loss: 0.1527 - accuracy: 0.9987 - val_loss: 0.3976 - val_accuracy: 0.9465 - lr: 1.0000e-05\n",
            "Epoch 22/50\n",
            "2317/2317 [==============================] - ETA: 0s - loss: 0.1451 - accuracy: 0.9989\n",
            "Epoch 22: saving model to /content/checkpoints/model_epoch_22.h5\n",
            "2317/2317 [==============================] - 150s 65ms/step - loss: 0.1451 - accuracy: 0.9989 - val_loss: 0.3915 - val_accuracy: 0.9457 - lr: 1.0000e-05\n",
            "Epoch 23/50\n",
            "2317/2317 [==============================] - ETA: 0s - loss: 0.1386 - accuracy: 0.9990\n",
            "Epoch 23: saving model to /content/checkpoints/model_epoch_23.h5\n",
            "2317/2317 [==============================] - 150s 65ms/step - loss: 0.1386 - accuracy: 0.9990 - val_loss: 0.3842 - val_accuracy: 0.9458 - lr: 1.0000e-05\n",
            "Epoch 24/50\n",
            "2317/2317 [==============================] - ETA: 0s - loss: 0.1335 - accuracy: 0.9990\n",
            "Epoch 24: saving model to /content/checkpoints/model_epoch_24.h5\n",
            "2317/2317 [==============================] - 150s 65ms/step - loss: 0.1335 - accuracy: 0.9990 - val_loss: 0.3780 - val_accuracy: 0.9463 - lr: 1.0000e-05\n",
            "Epoch 25/50\n",
            "2317/2317 [==============================] - ETA: 0s - loss: 0.1287 - accuracy: 0.9991\n",
            "Epoch 25: saving model to /content/checkpoints/model_epoch_25.h5\n",
            "2317/2317 [==============================] - 150s 65ms/step - loss: 0.1287 - accuracy: 0.9991 - val_loss: 0.3747 - val_accuracy: 0.9464 - lr: 1.0000e-05\n",
            "Epoch 26/50\n",
            "2317/2317 [==============================] - ETA: 0s - loss: 0.1248 - accuracy: 0.9993\n",
            "Epoch 26: saving model to /content/checkpoints/model_epoch_26.h5\n",
            "2317/2317 [==============================] - 150s 65ms/step - loss: 0.1248 - accuracy: 0.9993 - val_loss: 0.3792 - val_accuracy: 0.9472 - lr: 1.0000e-05\n",
            "Epoch 27/50\n",
            "2317/2317 [==============================] - ETA: 0s - loss: 0.1212 - accuracy: 0.9993\n",
            "Epoch 27: saving model to /content/checkpoints/model_epoch_27.h5\n",
            "2317/2317 [==============================] - 150s 65ms/step - loss: 0.1212 - accuracy: 0.9993 - val_loss: 0.3709 - val_accuracy: 0.9474 - lr: 1.0000e-05\n",
            "Epoch 28/50\n",
            "2317/2317 [==============================] - ETA: 0s - loss: 0.1183 - accuracy: 0.9994\n",
            "Epoch 28: saving model to /content/checkpoints/model_epoch_28.h5\n",
            "2317/2317 [==============================] - 150s 65ms/step - loss: 0.1183 - accuracy: 0.9994 - val_loss: 0.3715 - val_accuracy: 0.9484 - lr: 1.0000e-05\n",
            "Epoch 29/50\n",
            "2317/2317 [==============================] - ETA: 0s - loss: 0.1156 - accuracy: 0.9994\n",
            "Epoch 29: saving model to /content/checkpoints/model_epoch_29.h5\n",
            "2317/2317 [==============================] - 150s 65ms/step - loss: 0.1156 - accuracy: 0.9994 - val_loss: 0.3685 - val_accuracy: 0.9465 - lr: 1.0000e-05\n",
            "Epoch 30/50\n",
            "2317/2317 [==============================] - ETA: 0s - loss: 0.1131 - accuracy: 0.9994\n",
            "Epoch 30: saving model to /content/checkpoints/model_epoch_30.h5\n",
            "2317/2317 [==============================] - 149s 65ms/step - loss: 0.1131 - accuracy: 0.9994 - val_loss: 0.3744 - val_accuracy: 0.9459 - lr: 1.0000e-05\n",
            "Epoch 31/50\n",
            "2317/2317 [==============================] - ETA: 0s - loss: 0.1108 - accuracy: 0.9994\n",
            "Epoch 31: saving model to /content/checkpoints/model_epoch_31.h5\n",
            "2317/2317 [==============================] - 150s 65ms/step - loss: 0.1108 - accuracy: 0.9994 - val_loss: 0.3696 - val_accuracy: 0.9460 - lr: 1.0000e-05\n",
            "Epoch 32/50\n",
            "2317/2317 [==============================] - ETA: 0s - loss: 0.1081 - accuracy: 0.9995\n",
            "Epoch 32: saving model to /content/checkpoints/model_epoch_32.h5\n",
            "2317/2317 [==============================] - 150s 65ms/step - loss: 0.1081 - accuracy: 0.9995 - val_loss: 0.3669 - val_accuracy: 0.9474 - lr: 1.0000e-05\n",
            "Epoch 33/50\n",
            "2317/2317 [==============================] - ETA: 0s - loss: 0.1053 - accuracy: 0.9995\n",
            "Epoch 33: saving model to /content/checkpoints/model_epoch_33.h5\n",
            "2317/2317 [==============================] - 150s 65ms/step - loss: 0.1053 - accuracy: 0.9995 - val_loss: 0.3618 - val_accuracy: 0.9467 - lr: 1.0000e-05\n",
            "Epoch 34/50\n",
            "2317/2317 [==============================] - ETA: 0s - loss: 0.1038 - accuracy: 0.9995\n",
            "Epoch 34: saving model to /content/checkpoints/model_epoch_34.h5\n",
            "2317/2317 [==============================] - 150s 65ms/step - loss: 0.1038 - accuracy: 0.9995 - val_loss: 0.3643 - val_accuracy: 0.9468 - lr: 1.0000e-05\n",
            "Epoch 35/50\n",
            "2317/2317 [==============================] - ETA: 0s - loss: 0.1019 - accuracy: 0.9995\n",
            "Epoch 35: saving model to /content/checkpoints/model_epoch_35.h5\n",
            "2317/2317 [==============================] - 150s 65ms/step - loss: 0.1019 - accuracy: 0.9995 - val_loss: 0.3706 - val_accuracy: 0.9458 - lr: 1.0000e-05\n",
            "Epoch 36/50\n",
            "2317/2317 [==============================] - ETA: 0s - loss: 0.0998 - accuracy: 0.9996\n",
            "Epoch 36: saving model to /content/checkpoints/model_epoch_36.h5\n",
            "2317/2317 [==============================] - 150s 65ms/step - loss: 0.0998 - accuracy: 0.9996 - val_loss: 0.3613 - val_accuracy: 0.9462 - lr: 1.0000e-05\n",
            "Epoch 37/50\n",
            "2317/2317 [==============================] - ETA: 0s - loss: 0.0984 - accuracy: 0.9996\n",
            "Epoch 37: saving model to /content/checkpoints/model_epoch_37.h5\n",
            "2317/2317 [==============================] - 150s 65ms/step - loss: 0.0984 - accuracy: 0.9996 - val_loss: 0.3696 - val_accuracy: 0.9454 - lr: 1.0000e-05\n",
            "Epoch 38/50\n",
            "2317/2317 [==============================] - ETA: 0s - loss: 0.0963 - accuracy: 0.9996\n",
            "Epoch 38: saving model to /content/checkpoints/model_epoch_38.h5\n",
            "2317/2317 [==============================] - 150s 65ms/step - loss: 0.0963 - accuracy: 0.9996 - val_loss: 0.3651 - val_accuracy: 0.9463 - lr: 1.0000e-05\n",
            "Epoch 39/50\n",
            "2317/2317 [==============================] - ETA: 0s - loss: 0.0950 - accuracy: 0.9995\n",
            "Epoch 39: saving model to /content/checkpoints/model_epoch_39.h5\n",
            "2317/2317 [==============================] - 150s 65ms/step - loss: 0.0950 - accuracy: 0.9995 - val_loss: 0.3619 - val_accuracy: 0.9487 - lr: 1.0000e-05\n",
            "Epoch 40/50\n",
            "2317/2317 [==============================] - ETA: 0s - loss: 0.0931 - accuracy: 0.9996\n",
            "Epoch 40: saving model to /content/checkpoints/model_epoch_40.h5\n",
            "2317/2317 [==============================] - 150s 65ms/step - loss: 0.0931 - accuracy: 0.9996 - val_loss: 0.3650 - val_accuracy: 0.9472 - lr: 1.0000e-05\n",
            "Epoch 41/50\n",
            "2317/2317 [==============================] - ETA: 0s - loss: 0.0917 - accuracy: 0.9997\n",
            "Epoch 41: saving model to /content/checkpoints/model_epoch_41.h5\n",
            "2317/2317 [==============================] - 150s 65ms/step - loss: 0.0917 - accuracy: 0.9997 - val_loss: 0.3543 - val_accuracy: 0.9486 - lr: 1.0000e-05\n",
            "Epoch 42/50\n",
            "2317/2317 [==============================] - ETA: 0s - loss: 0.0905 - accuracy: 0.9996\n",
            "Epoch 42: saving model to /content/checkpoints/model_epoch_42.h5\n",
            "2317/2317 [==============================] - 149s 64ms/step - loss: 0.0905 - accuracy: 0.9996 - val_loss: 0.3641 - val_accuracy: 0.9457 - lr: 1.0000e-05\n",
            "Epoch 43/50\n",
            "2317/2317 [==============================] - ETA: 0s - loss: 0.0892 - accuracy: 0.9997\n",
            "Epoch 43: saving model to /content/checkpoints/model_epoch_43.h5\n",
            "2317/2317 [==============================] - 150s 65ms/step - loss: 0.0892 - accuracy: 0.9997 - val_loss: 0.3610 - val_accuracy: 0.9473 - lr: 1.0000e-05\n",
            "Epoch 44/50\n",
            "2317/2317 [==============================] - ETA: 0s - loss: 0.0871 - accuracy: 0.9997\n",
            "Epoch 44: saving model to /content/checkpoints/model_epoch_44.h5\n",
            "2317/2317 [==============================] - 150s 65ms/step - loss: 0.0871 - accuracy: 0.9997 - val_loss: 0.3567 - val_accuracy: 0.9474 - lr: 1.0000e-05\n",
            "Epoch 45/50\n",
            "2317/2317 [==============================] - ETA: 0s - loss: 0.0865 - accuracy: 0.9996\n",
            "Epoch 45: saving model to /content/checkpoints/model_epoch_45.h5\n",
            "2317/2317 [==============================] - 150s 65ms/step - loss: 0.0865 - accuracy: 0.9996 - val_loss: 0.3593 - val_accuracy: 0.9470 - lr: 1.0000e-05\n",
            "Epoch 46/50\n",
            "2317/2317 [==============================] - ETA: 0s - loss: 0.0850 - accuracy: 0.9997Restoring model weights from the end of the best epoch: 41.\n",
            "\n",
            "Epoch 46: saving model to /content/checkpoints/model_epoch_46.h5\n",
            "2317/2317 [==============================] - 150s 65ms/step - loss: 0.0850 - accuracy: 0.9997 - val_loss: 0.3589 - val_accuracy: 0.9464 - lr: 1.0000e-05\n",
            "Epoch 46: early stopping\n"
          ]
        }
      ]
    },
    {
      "cell_type": "code",
      "source": [
        "import matplotlib.pyplot as plt\n",
        "\n",
        "# Plot training & validation accuracy values\n",
        "plt.plot(history.history['accuracy'])\n",
        "plt.plot(history.history['val_accuracy'])\n",
        "plt.title('Model accuracy')\n",
        "plt.ylabel('Accuracy')\n",
        "plt.xlabel('Epoch')\n",
        "plt.legend(['Train', 'Val'], loc='upper left')\n",
        "plt.show()\n",
        "\n",
        "# Plot training & validation loss values\n",
        "plt.plot(history.history['loss'])\n",
        "plt.plot(history.history['val_loss'])\n",
        "plt.title('Model loss')\n",
        "plt.ylabel('Loss')\n",
        "plt.xlabel('Epoch')\n",
        "plt.legend(['Train', 'Val'], loc='upper left')\n",
        "plt.show()\n"
      ],
      "metadata": {
        "colab": {
          "base_uri": "https://localhost:8080/",
          "height": 927
        },
        "id": "EVeeomk2-DDk",
        "outputId": "c4bf7f12-96f7-4ecc-9c1c-0670061f67d9"
      },
      "execution_count": 33,
      "outputs": [
        {
          "output_type": "display_data",
          "data": {
            "text/plain": [
              "<Figure size 640x480 with 1 Axes>"
            ],
            "image/png": "[encoded data removed]"
          },
          "metadata": {}
        },
        {
          "output_type": "display_data",
          "data": {
            "text/plain": [
              "<Figure size 640x480 with 1 Axes>"
            ],
            "image/png": "[encoded data removed]"
          },
          "metadata": {}
        }
      ]
    },
    {
      "cell_type": "code",
      "source": [
        "# Assuming the model has already been trained and the best weights have been restored\n",
        "\n",
        "# Evaluate the model on the training set\n",
        "train_loss, train_accuracy = model.evaluate(train_data)\n",
        "print(f\"Train Loss: {train_loss}\")\n",
        "print(f\"Train Accuracy: {train_accuracy}\")\n",
        "\n",
        "# Evaluate the model on the validation set\n",
        "val_loss, val_accuracy = model.evaluate(val_data)\n",
        "print(f\"Validation Loss: {val_loss}\")\n",
        "print(f\"Validation Accuracy: {val_accuracy}\")\n",
        "\n",
        "# Evaluate the model on the test set\n",
        "test_loss, test_accuracy = model.evaluate(test_data)\n",
        "print(f\"Test Loss: {test_loss}\")\n",
        "print(f\"Test Accuracy: {test_accuracy}\")\n"
      ],
      "metadata": {
        "colab": {
          "base_uri": "https://localhost:8080/"
        },
        "id": "N2UHt8g9AcCI",
        "outputId": "8e9cbd78-0058-4546-c893-ec303010b7f6"
      },
      "execution_count": 34,
      "outputs": [
        {
          "output_type": "stream",
          "name": "stdout",
          "text": [
            "2317/2317 [==============================] - 56s 24ms/step - loss: 0.0759 - accuracy: 1.0000\n",
            "Train Loss: 0.07586294412612915\n",
            "Train Accuracy: 0.9999865293502808\n",
            "247/247 [==============================] - 6s 25ms/step - loss: 0.3543 - accuracy: 0.9486\n",
            "Validation Loss: 0.3543054759502411\n",
            "Validation Accuracy: 0.9485714435577393\n",
            "247/247 [==============================] - 6s 25ms/step - loss: 0.3344 - accuracy: 0.9526\n",
            "Test Loss: 0.33437055349349976\n",
            "Test Accuracy: 0.9526349306106567\n"
          ]
        }
      ]
    },
    {
      "cell_type": "code",
      "source": [
        "\n",
        "# Load the model weights from epoch 20\n",
        "epoch_to_load = 10\n",
        "model.load_weights(os.path.join(checkpoint_dir, f'model_epoch_{epoch_to_load:02d}.h5'))\n",
        "\n",
        "# Evaluate the model on the training set\n",
        "train_loss, train_accuracy = model.evaluate(train_data)\n",
        "print(f\"Train Loss: {train_loss}\")\n",
        "print(f\"Train Accuracy: {train_accuracy}\")\n",
        "\n",
        "# Evaluate the model on the validation set\n",
        "val_loss, val_accuracy = model.evaluate(val_data)\n",
        "print(f\"Validation Loss: {val_loss}\")\n",
        "print(f\"Validation Accuracy: {val_accuracy}\")\n",
        "\n",
        "# Evaluate the model on the test set\n",
        "test_loss, test_accuracy = model.evaluate(test_data)\n",
        "print(f\"Test Loss: {test_loss}\")\n",
        "print(f\"Test Accuracy: {test_accuracy}\")\n"
      ],
      "metadata": {
        "id": "is8hy0__Zjj7",
        "outputId": "6c0426d4-6757-407a-af7c-38e575118840",
        "colab": {
          "base_uri": "https://localhost:8080/"
        }
      },
      "execution_count": 36,
      "outputs": [
        {
          "output_type": "stream",
          "name": "stdout",
          "text": [
            "2317/2317 [==============================] - 56s 24ms/step - loss: 0.3382 - accuracy: 0.9855\n",
            "Train Loss: 0.33817756175994873\n",
            "Train Accuracy: 0.9855399131774902\n",
            "247/247 [==============================] - 6s 25ms/step - loss: 0.7128 - accuracy: 0.9040\n",
            "Validation Loss: 0.7128370404243469\n",
            "Validation Accuracy: 0.9039999842643738\n",
            "247/247 [==============================] - 6s 25ms/step - loss: 0.6946 - accuracy: 0.9074\n",
            "Test Loss: 0.6945732831954956\n",
            "Test Accuracy: 0.9074285626411438\n"
          ]
        }
      ]
    },
    {
      "cell_type": "code",
      "source": [],
      "metadata": {
        "id": "byTDGxXcAdge"
      },
      "execution_count": null,
      "outputs": []
    },
    {
      "cell_type": "code",
      "source": [],
      "metadata": {
        "id": "tQtvHe-yKrEK"
      },
      "execution_count": null,
      "outputs": []
    },
    {
      "cell_type": "code",
      "source": [
        "import tensorflow as tf\n",
        "from tensorflow.keras.applications import ResNet50, preprocess_input\n",
        "from tensorflow.keras.layers import Lambda, Flatten, Dense, Dropout\n",
        "from tensorflow.keras.models import Sequential\n",
        "from tensorflow.keras.optimizers import Adam\n",
        "from tensorflow.keras.regularizers import l2\n",
        "from tensorflow.keras.preprocessing.image import ImageDataGenerator\n",
        "from tensorflow.keras.callbacks import ReduceLROnPlateau, EarlyStopping, ModelCheckpoint\n",
        "import os\n",
        "import shutil\n",
        "\n",
        "# Clear Keras session\n",
        "tf.keras.backend.clear_session()\n",
        "\n",
        "# Remove previous checkpoints if any\n",
        "checkpoint_dir = '/content/checkpoints'\n",
        "if os.path.exists(checkpoint_dir):\n",
        "    shutil.rmtree(checkpoint_dir)\n",
        "os.makedirs(checkpoint_dir)\n",
        "\n",
        "# Load the ResNet50 model with pre-trained weights and without the top classification layer\n",
        "resnet_base = ResNet50(include_top=False, pooling='avg', weights='imagenet', input_shape=(224, 224, 3))\n",
        "\n",
        "# Freeze all the layers in the ResNet50 model\n",
        "for layer in resnet_base.layers:\n",
        "    layer.trainable = False\n",
        "\n",
        "# Define the model\n",
        "model = Sequential([\n",
        "    Lambda(preprocess_input, input_shape=(224, 224, 3), name='preprocessing'),\n",
        "    resnet_base,\n",
        "    Flatten(),\n",
        "    Dense(512, activation='relu', kernel_regularizer=l2(0.01)),  # Add L2 regularization\n",
        "    Dropout(0.5),  # Increase dropout rate for regularization\n",
        "    Dense(512, activation='relu', kernel_regularizer=l2(0.01)),  # Add an additional dense layer with L2 regularization\n",
        "    Dropout(0.5),  # Add dropout\n",
        "    Dense(525, activation='softmax')  # Adjust the number of classes if necessary\n",
        "])\n",
        "\n",
        "# Compile the model\n",
        "model.compile(optimizer=Adam(learning_rate=0.0001, decay=1e-6),\n",
        "              loss='sparse_categorical_crossentropy',\n",
        "              metrics=['accuracy'])\n",
        "\n",
        "# Callbacks\n",
        "reduce_lr = ReduceLROnPlateau(monitor='val_loss', factor=0.1, patience=2, verbose=1, min_lr=0.00001)\n",
        "early_stopping = EarlyStopping(monitor='val_loss', patience=5, restore_best_weights=True, verbose=1)\n",
        "checkpoint = ModelCheckpoint(filepath=os.path.join(checkpoint_dir, 'model_epoch_{epoch:02d}.h5'),\n",
        "                             save_weights_only=True,\n",
        "                             save_freq='epoch',\n",
        "                             verbose=1)\n",
        "\n",
        "# ImageDataGenerator for loading images without augmentation\n",
        "datagen = ImageDataGenerator(preprocessing_function=preprocess_input)\n",
        "\n",
        "# Load training data\n",
        "train_data = datagen.flow_from_directory(\n",
        "    train_dir,\n",
        "    target_size=(224, 224),\n",
        "    batch_size=32,\n",
        "    class_mode='sparse'\n",
        ")\n",
        "\n",
        "# Load validation data\n",
        "val_data = datagen.flow_from_directory(\n",
        "    valid_dir,\n",
        "    target_size=(224, 224),\n",
        "    batch_size=32,\n",
        "    class_mode='sparse',\n",
        "    shuffle=False\n",
        ")\n",
        "\n",
        "# Load test data\n",
        "test_data = datagen.flow_from_directory(\n",
        "    test_dir,\n",
        "    target_size=(224, 224),\n",
        "    batch_size=32,\n",
        "    class_mode='sparse',\n",
        "    shuffle=False\n",
        ")\n",
        "\n",
        "# Fit the model with the scheduler, early stopping, and model checkpoint\n",
        "history = model.fit(train_data,\n",
        "                    epochs=50,\n",
        "                    validation_data=val_data,\n",
        "                    callbacks=[reduce_lr, early_stopping, checkpoint],  # Include all the callbacks\n",
        "                    verbose=1)\n"
      ],
      "metadata": {
        "id": "ylNrF_EpKrHq"
      },
      "execution_count": null,
      "outputs": []
    },
    {
      "cell_type": "code",
      "source": [
        "import matplotlib.pyplot as plt\n",
        "\n",
        "# Plot training & validation accuracy values\n",
        "plt.plot(history.history['accuracy'])\n",
        "plt.plot(history.history['val_accuracy'])\n",
        "plt.title('Model accuracy')\n",
        "plt.ylabel('Accuracy')\n",
        "plt.xlabel('Epoch')\n",
        "plt.legend(['Train', 'Val'], loc='upper left')\n",
        "plt.show()\n",
        "\n",
        "# Plot training & validation loss values\n",
        "plt.plot(history.history['loss'])\n",
        "plt.plot(history.history['val_loss'])\n",
        "plt.title('Model loss')\n",
        "plt.ylabel('Loss')\n",
        "plt.xlabel('Epoch')\n",
        "plt.legend(['Train', 'Val'], loc='upper left')\n",
        "plt.show()\n"
      ],
      "metadata": {
        "id": "NwrGpAyaKtee"
      },
      "execution_count": null,
      "outputs": []
    },
    {
      "cell_type": "code",
      "source": [
        "# Assuming the model has already been trained and the best weights have been restored\n",
        "\n",
        "# Evaluate the model on the training set\n",
        "train_loss, train_accuracy = model.evaluate(train_data)\n",
        "print(f\"Train Loss: {train_loss}\")\n",
        "print(f\"Train Accuracy: {train_accuracy}\")\n",
        "\n",
        "# Evaluate the model on the validation set\n",
        "val_loss, val_accuracy = model.evaluate(val_data)\n",
        "print(f\"Validation Loss: {val_loss}\")\n",
        "print(f\"Validation Accuracy: {val_accuracy}\")\n",
        "\n",
        "# Evaluate the model on the test set\n",
        "test_loss, test_accuracy = model.evaluate(test_data)\n",
        "print(f\"Test Loss: {test_loss}\")\n",
        "print(f\"Test Accuracy: {test_accuracy}\")\n"
      ],
      "metadata": {
        "id": "CoVd6MJOKthK"
      },
      "execution_count": null,
      "outputs": []
    }
  ]
}