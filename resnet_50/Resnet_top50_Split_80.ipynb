{
  "nbformat": 4,
  "nbformat_minor": 0,
  "metadata": {
    "colab": {
      "provenance": [],
      "gpuType": "T4"
    },
    "kernelspec": {
      "name": "python3",
      "display_name": "Python 3"
    },
    "language_info": {
      "name": "python"
    },
    "accelerator": "GPU"
  },
  "cells": [
    {
      "cell_type": "markdown",
      "source": [
        "# First Download Data using api:\n",
        "https://www.kaggle.com/discussions/general/74235"
      ],
      "metadata": {
        "id": "JlLL-uvVsrt1"
      }
    },
    {
      "cell_type": "code",
      "source": [
        " !pip install -q kaggle"
      ],
      "metadata": {
        "id": "kapPDOgnsqmi"
      },
      "execution_count": 1,
      "outputs": []
    },
    {
      "cell_type": "code",
      "source": [
        " from google.colab import files\n",
        " # upload json file:\n",
        " files.upload()"
      ],
      "metadata": {
        "colab": {
          "base_uri": "https://localhost:8080/",
          "height": 90
        },
        "id": "u3ghUBUJilNM",
        "outputId": "455a5365-a178-426b-eb49-40a1237dec57"
      },
      "execution_count": 2,
      "outputs": [
        {
          "output_type": "display_data",
          "data": {
            "text/plain": [
              "<IPython.core.display.HTML object>"
            ],
            "text/html": [
              "\n",
              "     <input type=\"file\" id=\"files-23630d35-274c-4fb0-90c9-eb2147820f11\" name=\"files[]\" multiple disabled\n",
              "        style=\"border:none\" />\n",
              "     <output id=\"result-23630d35-274c-4fb0-90c9-eb2147820f11\">\n",
              "      Upload widget is only available when the cell has been executed in the\n",
              "      current browser session. Please rerun this cell to enable.\n",
              "      </output>\n",
              "      <script>// Copyright 2017 Google LLC\n",
              "//\n",
              "// Licensed under the Apache License, Version 2.0 (the \"License\");\n",
              "// you may not use this file except in compliance with the License.\n",
              "// You may obtain a copy of the License at\n",
              "//\n",
              "//      http://www.apache.org/licenses/LICENSE-2.0\n",
              "//\n",
              "// Unless required by applicable law or agreed to in writing, software\n",
              "// distributed under the License is distributed on an \"AS IS\" BASIS,\n",
              "// WITHOUT WARRANTIES OR CONDITIONS OF ANY KIND, either express or implied.\n",
              "// See the License for the specific language governing permissions and\n",
              "// limitations under the License.\n",
              "\n",
              "/**\n",
              " * @fileoverview Helpers for google.colab Python module.\n",
              " */\n",
              "(function(scope) {\n",
              "function span(text, styleAttributes = {}) {\n",
              "  const element = document.createElement('span');\n",
              "  element.textContent = text;\n",
              "  for (const key of Object.keys(styleAttributes)) {\n",
              "    element.style[key] = styleAttributes[key];\n",
              "  }\n",
              "  return element;\n",
              "}\n",
              "\n",
              "// Max number of bytes which will be uploaded at a time.\n",
              "const MAX_PAYLOAD_SIZE = 100 * 1024;\n",
              "\n",
              "function _uploadFiles(inputId, outputId) {\n",
              "  const steps = uploadFilesStep(inputId, outputId);\n",
              "  const outputElement = document.getElementById(outputId);\n",
              "  // Cache steps on the outputElement to make it available for the next call\n",
              "  // to uploadFilesContinue from Python.\n",
              "  outputElement.steps = steps;\n",
              "\n",
              "  return _uploadFilesContinue(outputId);\n",
              "}\n",
              "\n",
              "// This is roughly an async generator (not supported in the browser yet),\n",
              "// where there are multiple asynchronous steps and the Python side is going\n",
              "// to poll for completion of each step.\n",
              "// This uses a Promise to block the python side on completion of each step,\n",
              "// then passes the result of the previous step as the input to the next step.\n",
              "function _uploadFilesContinue(outputId) {\n",
              "  const outputElement = document.getElementById(outputId);\n",
              "  const steps = outputElement.steps;\n",
              "\n",
              "  const next = steps.next(outputElement.lastPromiseValue);\n",
              "  return Promise.resolve(next.value.promise).then((value) => {\n",
              "    // Cache the last promise value to make it available to the next\n",
              "    // step of the generator.\n",
              "    outputElement.lastPromiseValue = value;\n",
              "    return next.value.response;\n",
              "  });\n",
              "}\n",
              "\n",
              "/**\n",
              " * Generator function which is called between each async step of the upload\n",
              " * process.\n",
              " * @param {string} inputId Element ID of the input file picker element.\n",
              " * @param {string} outputId Element ID of the output display.\n",
              " * @return {!Iterable<!Object>} Iterable of next steps.\n",
              " */\n",
              "function* uploadFilesStep(inputId, outputId) {\n",
              "  const inputElement = document.getElementById(inputId);\n",
              "  inputElement.disabled = false;\n",
              "\n",
              "  const outputElement = document.getElementById(outputId);\n",
              "  outputElement.innerHTML = '';\n",
              "\n",
              "  const pickedPromise = new Promise((resolve) => {\n",
              "    inputElement.addEventListener('change', (e) => {\n",
              "      resolve(e.target.files);\n",
              "    });\n",
              "  });\n",
              "\n",
              "  const cancel = document.createElement('button');\n",
              "  inputElement.parentElement.appendChild(cancel);\n",
              "  cancel.textContent = 'Cancel upload';\n",
              "  const cancelPromise = new Promise((resolve) => {\n",
              "    cancel.onclick = () => {\n",
              "      resolve(null);\n",
              "    };\n",
              "  });\n",
              "\n",
              "  // Wait for the user to pick the files.\n",
              "  const files = yield {\n",
              "    promise: Promise.race([pickedPromise, cancelPromise]),\n",
              "    response: {\n",
              "      action: 'starting',\n",
              "    }\n",
              "  };\n",
              "\n",
              "  cancel.remove();\n",
              "\n",
              "  // Disable the input element since further picks are not allowed.\n",
              "  inputElement.disabled = true;\n",
              "\n",
              "  if (!files) {\n",
              "    return {\n",
              "      response: {\n",
              "        action: 'complete',\n",
              "      }\n",
              "    };\n",
              "  }\n",
              "\n",
              "  for (const file of files) {\n",
              "    const li = document.createElement('li');\n",
              "    li.append(span(file.name, {fontWeight: 'bold'}));\n",
              "    li.append(span(\n",
              "        `(${file.type || 'n/a'}) - ${file.size} bytes, ` +\n",
              "        `last modified: ${\n",
              "            file.lastModifiedDate ? file.lastModifiedDate.toLocaleDateString() :\n",
              "                                    'n/a'} - `));\n",
              "    const percent = span('0% done');\n",
              "    li.appendChild(percent);\n",
              "\n",
              "    outputElement.appendChild(li);\n",
              "\n",
              "    const fileDataPromise = new Promise((resolve) => {\n",
              "      const reader = new FileReader();\n",
              "      reader.onload = (e) => {\n",
              "        resolve(e.target.result);\n",
              "      };\n",
              "      reader.readAsArrayBuffer(file);\n",
              "    });\n",
              "    // Wait for the data to be ready.\n",
              "    let fileData = yield {\n",
              "      promise: fileDataPromise,\n",
              "      response: {\n",
              "        action: 'continue',\n",
              "      }\n",
              "    };\n",
              "\n",
              "    // Use a chunked sending to avoid message size limits. See b/62115660.\n",
              "    let position = 0;\n",
              "    do {\n",
              "      const length = Math.min(fileData.byteLength - position, MAX_PAYLOAD_SIZE);\n",
              "      const chunk = new Uint8Array(fileData, position, length);\n",
              "      position += length;\n",
              "\n",
              "      const base64 = btoa(String.fromCharCode.apply(null, chunk));\n",
              "      yield {\n",
              "        response: {\n",
              "          action: 'append',\n",
              "          file: file.name,\n",
              "          data: base64,\n",
              "        },\n",
              "      };\n",
              "\n",
              "      let percentDone = fileData.byteLength === 0 ?\n",
              "          100 :\n",
              "          Math.round((position / fileData.byteLength) * 100);\n",
              "      percent.textContent = `${percentDone}% done`;\n",
              "\n",
              "    } while (position < fileData.byteLength);\n",
              "  }\n",
              "\n",
              "  // All done.\n",
              "  yield {\n",
              "    response: {\n",
              "      action: 'complete',\n",
              "    }\n",
              "  };\n",
              "}\n",
              "\n",
              "scope.google = scope.google || {};\n",
              "scope.google.colab = scope.google.colab || {};\n",
              "scope.google.colab._files = {\n",
              "  _uploadFiles,\n",
              "  _uploadFilesContinue,\n",
              "};\n",
              "})(self);\n",
              "</script> "
            ]
          },
          "metadata": {}
        },
        {
          "output_type": "stream",
          "name": "stdout",
          "text": [
            "Saving kaggle.json to kaggle.json\n"
          ]
        },
        {
          "output_type": "execute_result",
          "data": {
            "text/plain": [
              "{'kaggle.json': b'{\"username\":\"jackparkinson\",\"key\":\"fab3b257b9f0ef42e6a66b63e329f43e\"}'}"
            ]
          },
          "metadata": {},
          "execution_count": 2
        }
      ]
    },
    {
      "cell_type": "code",
      "source": [
        "! mkdir ~/.kaggle\n",
        "! cp kaggle.json ~/.kaggle/"
      ],
      "metadata": {
        "id": "FzgHALPsivvF"
      },
      "execution_count": 3,
      "outputs": []
    },
    {
      "cell_type": "code",
      "source": [
        " ! chmod 600 ~/.kaggle/kaggle.json"
      ],
      "metadata": {
        "id": "o1cWTQNQi3n1"
      },
      "execution_count": 4,
      "outputs": []
    },
    {
      "cell_type": "code",
      "source": [
        "! kaggle datasets download -d gpiosenka/100-bird-species"
      ],
      "metadata": {
        "colab": {
          "base_uri": "https://localhost:8080/"
        },
        "id": "UsbEixj8i5gX",
        "outputId": "64b64fac-14e6-425e-a150-a1d9c4a89752"
      },
      "execution_count": 5,
      "outputs": [
        {
          "output_type": "stream",
          "name": "stdout",
          "text": [
            "Dataset URL: https://www.kaggle.com/datasets/gpiosenka/100-bird-species\n",
            "License(s): CC0-1.0\n",
            "Downloading 100-bird-species.zip to /content\n",
            " 99% 1.94G/1.96G [00:22<00:00, 123MB/s]\n",
            "100% 1.96G/1.96G [00:22<00:00, 94.3MB/s]\n"
          ]
        }
      ]
    },
    {
      "cell_type": "markdown",
      "source": [
        "## Set up paths"
      ],
      "metadata": {
        "id": "YBNW-YVitHJt"
      }
    },
    {
      "cell_type": "code",
      "source": [
        "import zipfile\n",
        "import os"
      ],
      "metadata": {
        "id": "2jUW6tTCjFJ5"
      },
      "execution_count": 6,
      "outputs": []
    },
    {
      "cell_type": "code",
      "source": [
        "zip_path = '/content/100-bird-species.zip'\n",
        "\n",
        "# directory to unzip (can change if you want)\n",
        "extract_to = '/content/birds_dataset'\n",
        "\n",
        "# removes any current directory with name\n",
        "if os.path.exists(extract_to):\n",
        "    !rm -rf {extract_to}\n",
        "\n",
        "os.makedirs(extract_to, exist_ok=True)\n",
        "\n",
        "with zipfile.ZipFile(zip_path, 'r') as zip_ref:\n",
        "    zip_ref.extractall(extract_to)\n",
        "\n",
        "print(\"Unzipping completed!\")"
      ],
      "metadata": {
        "colab": {
          "base_uri": "https://localhost:8080/"
        },
        "id": "ASWmvtk6kE9P",
        "outputId": "fcb51ec7-4248-4446-e1a3-fe8ff17be466"
      },
      "execution_count": 7,
      "outputs": [
        {
          "output_type": "stream",
          "name": "stdout",
          "text": [
            "Unzipping completed!\n"
          ]
        }
      ]
    },
    {
      "cell_type": "code",
      "source": [
        "\n",
        "\n",
        "train_dir = '/content/birds_dataset/train'\n",
        "test_dir = '/content/birds_dataset/test'\n",
        "valid_dir = '/content/birds_dataset/valid'\n",
        "\n",
        "# counts files\n",
        "def count_images(directory):\n",
        "    count = 0\n",
        "    for _, _, files in os.walk(directory):\n",
        "        count += len(files)\n",
        "    return count\n",
        "\n",
        "train_count = count_images(train_dir)\n",
        "valid_count = count_images(valid_dir)\n",
        "test_count = count_images(test_dir)\n",
        "train_split = train_count / (train_count+test_count+valid_count)\n",
        "valid_split = valid_count / (train_count+test_count+valid_count)\n",
        "test_split = test_count / (train_count+test_count+valid_count)\n",
        "\n",
        "\n",
        "print(f\"Number of images in Train: {train_count} with split: {train_split}\")\n",
        "print(f\"Number of images in Valid: {valid_count} with split: {valid_split}\")\n",
        "print(f\"Number of images in Test: {test_count} with split: {test_split}\")"
      ],
      "metadata": {
        "id": "-knVf_3TkGbB",
        "colab": {
          "base_uri": "https://localhost:8080/"
        },
        "outputId": "f36f59ac-e7a9-4174-a074-a8a449ed3823"
      },
      "execution_count": 8,
      "outputs": [
        {
          "output_type": "stream",
          "name": "stdout",
          "text": [
            "Number of images in Train: 84635 with split: 0.9415920342660066\n",
            "Number of images in Valid: 2625 with split: 0.029203982866996717\n",
            "Number of images in Test: 2625 with split: 0.029203982866996717\n"
          ]
        }
      ]
    },
    {
      "cell_type": "markdown",
      "source": [
        "#### There's an extra space for one of the birds in the train and test dir:"
      ],
      "metadata": {
        "id": "ik6RomOWMH4J"
      }
    },
    {
      "cell_type": "code",
      "source": [
        "def check_directories(path):\n",
        "    subdirs = os.listdir(path)\n",
        "    print(f'Total directories in {path}: {len(subdirs)}')\n",
        "    return set(os.listdir(path))\n",
        "\n",
        "# Retrieve the list of species in each directory\n",
        "train_species = check_directories(train_dir)\n",
        "test_species = check_directories(test_dir)\n",
        "valid_species = check_directories(valid_dir)\n",
        "\n",
        "# Find the union of all species (all species that appear in any directory)\n",
        "all_species = train_species.union(test_species).union(valid_species)\n",
        "\n",
        "# Find what is missing from each set\n",
        "missing_from_train = all_species - train_species\n",
        "missing_from_test = all_species - test_species\n",
        "missing_from_valid = all_species - valid_species\n",
        "\n",
        "print(\"Species missing from train:\", missing_from_train)\n",
        "print(\"Species missing from test:\", missing_from_test)\n",
        "print(\"Species missing from valid:\", missing_from_valid)\n"
      ],
      "metadata": {
        "colab": {
          "base_uri": "https://localhost:8080/"
        },
        "id": "JCS-iWqEKHE6",
        "outputId": "1291682e-cae5-4a26-cee2-68f0591d413f"
      },
      "execution_count": 9,
      "outputs": [
        {
          "output_type": "stream",
          "name": "stdout",
          "text": [
            "Total directories in /content/birds_dataset/train: 525\n",
            "Total directories in /content/birds_dataset/test: 525\n",
            "Total directories in /content/birds_dataset/valid: 525\n",
            "Species missing from train: {'PARAKETT AUKLET'}\n",
            "Species missing from test: {'PARAKETT AUKLET'}\n",
            "Species missing from valid: {'PARAKETT  AUKLET'}\n"
          ]
        }
      ]
    },
    {
      "cell_type": "code",
      "source": [],
      "metadata": {
        "id": "MZ8WzKJcKKhG"
      },
      "execution_count": 9,
      "outputs": []
    },
    {
      "cell_type": "code",
      "source": [
        "import os\n",
        "\n",
        "train_dir = '/content/birds_dataset/train'\n",
        "test_dir = '/content/birds_dataset/test'\n",
        "\n",
        "# Define the incorrect and correct paths for train and test\n",
        "incorrect_path_train = os.path.join(train_dir, 'PARAKETT  AUKLET')\n",
        "correct_path_train = os.path.join(train_dir, 'PARAKETT AUKLET')\n",
        "\n",
        "incorrect_path_test = os.path.join(test_dir, 'PARAKETT  AUKLET')\n",
        "correct_path_test = os.path.join(test_dir, 'PARAKETT AUKLET')\n",
        "\n",
        "# Rename the directories in train and test\n",
        "try:\n",
        "    os.rename(incorrect_path_train, correct_path_train)\n",
        "    print(f\"Renamed in train from '{incorrect_path_train}' to '{correct_path_train}'\")\n",
        "except FileNotFoundError as e:\n",
        "    print(f\"Error in train rename: {e}\")\n",
        "\n",
        "try:\n",
        "    os.rename(incorrect_path_test, correct_path_test)\n",
        "    print(f\"Renamed in test from '{incorrect_path_test}' to '{correct_path_test}'\")\n",
        "except FileNotFoundError as e:\n",
        "    print(f\"Error in test rename: {e}\")\n"
      ],
      "metadata": {
        "colab": {
          "base_uri": "https://localhost:8080/"
        },
        "id": "UJ1uIaLwKo2u",
        "outputId": "1ce539e1-85cc-4eef-9d60-bbb109422a50"
      },
      "execution_count": 10,
      "outputs": [
        {
          "output_type": "stream",
          "name": "stdout",
          "text": [
            "Renamed in train from '/content/birds_dataset/train/PARAKETT  AUKLET' to '/content/birds_dataset/train/PARAKETT AUKLET'\n",
            "Renamed in test from '/content/birds_dataset/test/PARAKETT  AUKLET' to '/content/birds_dataset/test/PARAKETT AUKLET'\n"
          ]
        }
      ]
    },
    {
      "cell_type": "code",
      "source": [
        "def check_directories(path):\n",
        "    subdirs = os.listdir(path)\n",
        "    print(f'Total directories in {path}: {len(subdirs)}')\n",
        "    return set(os.listdir(path))\n",
        "\n",
        "# Retrieve the list of species in each directory\n",
        "train_species = check_directories(train_dir)\n",
        "test_species = check_directories(test_dir)\n",
        "valid_species = check_directories(valid_dir)\n",
        "\n",
        "# Find the union of all species (all species that appear in any directory)\n",
        "all_species = train_species.union(test_species).union(valid_species)\n",
        "\n",
        "# Find what is missing from each set\n",
        "missing_from_train = all_species - train_species\n",
        "missing_from_test = all_species - test_species\n",
        "missing_from_valid = all_species - valid_species\n",
        "\n",
        "print(\"Species missing from train:\", missing_from_train)\n",
        "print(\"Species missing from test:\", missing_from_test)\n",
        "print(\"Species missing from valid:\", missing_from_valid)\n"
      ],
      "metadata": {
        "colab": {
          "base_uri": "https://localhost:8080/"
        },
        "id": "d1QcGeYcLQ0R",
        "outputId": "d30dc3cc-44ee-46d5-9663-6ddcef8f819a"
      },
      "execution_count": 11,
      "outputs": [
        {
          "output_type": "stream",
          "name": "stdout",
          "text": [
            "Total directories in /content/birds_dataset/train: 525\n",
            "Total directories in /content/birds_dataset/test: 525\n",
            "Total directories in /content/birds_dataset/valid: 525\n",
            "Species missing from train: set()\n",
            "Species missing from test: set()\n",
            "Species missing from valid: set()\n"
          ]
        }
      ]
    },
    {
      "cell_type": "code",
      "source": [],
      "metadata": {
        "id": "Wm_Pv5sDKo6W"
      },
      "execution_count": 11,
      "outputs": []
    },
    {
      "cell_type": "markdown",
      "source": [
        "## Move around images so its roughly 80/10/10 split:\n",
        "Can manually specify a different split by choosing num_test_files and num_valid_files variables"
      ],
      "metadata": {
        "id": "H8GLfJMotLIU"
      }
    },
    {
      "cell_type": "code",
      "source": [
        "import os\n",
        "import shutil\n",
        "\n",
        "def adjust_dataset_split(train_dir, test_dir, valid_dir, num_test_files, num_valid_files):\n",
        "    # iterates through each species directory in the train directory\n",
        "    for species in os.listdir(train_dir):\n",
        "        species_train_dir = os.path.join(train_dir, species)\n",
        "        species_test_dir = os.path.join(test_dir, species)\n",
        "        species_valid_dir = os.path.join(valid_dir, species)\n",
        "\n",
        "        # train directory files for each species\n",
        "        files = os.listdir(species_train_dir)\n",
        "\n",
        "        # ensures test and valid directories exist\n",
        "        os.makedirs(species_test_dir, exist_ok=True)\n",
        "        os.makedirs(species_valid_dir, exist_ok=True)\n",
        "\n",
        "        # move files to test\n",
        "        for file in files[:num_test_files]:\n",
        "            shutil.move(os.path.join(species_train_dir, file), os.path.join(species_test_dir, file))\n",
        "\n",
        "        # update list of files remaining in train\n",
        "        remaining_files = os.listdir(species_train_dir)\n",
        "\n",
        "        # move files to valid\n",
        "        for file in remaining_files[:num_valid_files]:\n",
        "            shutil.move(os.path.join(species_train_dir, file), os.path.join(species_valid_dir, file))\n",
        "\n",
        "\n",
        "# specify number of files to move to respective dirs\n",
        "num_test_files = 10\n",
        "num_valid_files = 10\n",
        "\n",
        "\n",
        "adjust_dataset_split(train_dir, test_dir, valid_dir, num_test_files, num_valid_files)\n",
        "print(\"Files have been moved to achieve the specified dataset split.\")\n"
      ],
      "metadata": {
        "id": "-UzqfmvotWjP",
        "colab": {
          "base_uri": "https://localhost:8080/"
        },
        "outputId": "c0a82156-5f95-42aa-fd54-dbf62de7210f"
      },
      "execution_count": 12,
      "outputs": [
        {
          "output_type": "stream",
          "name": "stdout",
          "text": [
            "Files have been moved to achieve the specified dataset split.\n"
          ]
        }
      ]
    },
    {
      "cell_type": "code",
      "source": [
        "train_count = count_images(train_dir)\n",
        "valid_count = count_images(valid_dir)\n",
        "test_count = count_images(test_dir)\n",
        "train_split = train_count / (train_count+test_count+valid_count)\n",
        "valid_split = valid_count / (train_count+test_count+valid_count)\n",
        "test_split = test_count / (train_count+test_count+valid_count)\n",
        "\n",
        "\n",
        "print(f\"Number of images in Train: {train_count} with proportion: {train_split}\")\n",
        "print(f\"Number of images in Valid: {valid_count} with proportion: {valid_split}\")\n",
        "print(f\"Number of images in Test: {test_count} with proportion: {test_split}\")"
      ],
      "metadata": {
        "colab": {
          "base_uri": "https://localhost:8080/"
        },
        "id": "yVaBWFb9wK8F",
        "outputId": "025cf1e8-7664-4364-ec2e-750276a300df"
      },
      "execution_count": 13,
      "outputs": [
        {
          "output_type": "stream",
          "name": "stdout",
          "text": [
            "Number of images in Train: 74135 with proportion: 0.8249504818285002\n",
            "Number of images in Valid: 7856 with proportion: 0.08741904613535709\n",
            "Number of images in Test: 7875 with proportion: 0.0876304720361427\n"
          ]
        }
      ]
    },
    {
      "cell_type": "code",
      "source": [
        "def check_directories(path):\n",
        "    subdirs = os.listdir(path)\n",
        "    print(f'Total directories in {path}: {len(subdirs)}')\n",
        "    return set(os.listdir(path))\n",
        "\n",
        "# Retrieve the list of species in each directory\n",
        "train_species = check_directories(train_dir)\n",
        "test_species = check_directories(test_dir)\n",
        "valid_species = check_directories(valid_dir)\n",
        "\n",
        "# Find the union of all species (all species that appear in any directory)\n",
        "all_species = train_species.union(test_species).union(valid_species)\n",
        "\n",
        "# Find what is missing from each set\n",
        "missing_from_train = all_species - train_species\n",
        "missing_from_test = all_species - test_species\n",
        "missing_from_valid = all_species - valid_species\n",
        "\n",
        "print(\"Species missing from train:\", missing_from_train)\n",
        "print(\"Species missing from test:\", missing_from_test)\n",
        "print(\"Species missing from valid:\", missing_from_valid)\n"
      ],
      "metadata": {
        "id": "AYtWBRmjwMVQ",
        "colab": {
          "base_uri": "https://localhost:8080/"
        },
        "outputId": "3a51aee7-0de4-4b93-bd1c-9cb5173e0117"
      },
      "execution_count": 14,
      "outputs": [
        {
          "output_type": "stream",
          "name": "stdout",
          "text": [
            "Total directories in /content/birds_dataset/train: 525\n",
            "Total directories in /content/birds_dataset/test: 525\n",
            "Total directories in /content/birds_dataset/valid: 525\n",
            "Species missing from train: set()\n",
            "Species missing from test: set()\n",
            "Species missing from valid: set()\n"
          ]
        }
      ]
    },
    {
      "cell_type": "code",
      "source": [],
      "metadata": {
        "id": "vlev1bjJg5yi"
      },
      "execution_count": 14,
      "outputs": []
    },
    {
      "cell_type": "code",
      "source": [],
      "metadata": {
        "id": "dHZC11Iug51o"
      },
      "execution_count": 14,
      "outputs": []
    },
    {
      "cell_type": "markdown",
      "source": [
        "## most frequent 50 birds:"
      ],
      "metadata": {
        "id": "38gT0tDTg6Lw"
      }
    },
    {
      "cell_type": "code",
      "source": [
        "import os\n",
        "\n",
        "def count_images_in_directories(directory):\n",
        "    species_count = {}\n",
        "    for species in os.listdir(directory):\n",
        "        species_path = os.path.join(directory, species)\n",
        "        if os.path.isdir(species_path):\n",
        "            species_count[species] = len(os.listdir(species_path))\n",
        "    return species_count\n",
        "\n",
        "train_dir = '/content/birds_dataset/train'\n",
        "species_counts = count_images_in_directories(train_dir)"
      ],
      "metadata": {
        "id": "zASSWezTg7gF"
      },
      "execution_count": 15,
      "outputs": []
    },
    {
      "cell_type": "code",
      "source": [
        "top_50_species = sorted(species_counts, key=species_counts.get, reverse=True)[:50]\n"
      ],
      "metadata": {
        "id": "n-z3u1qohhHU"
      },
      "execution_count": 16,
      "outputs": []
    },
    {
      "cell_type": "code",
      "source": [
        "import shutil\n",
        "\n",
        "def filter_directory(source_dir, target_dir, top_species):\n",
        "    if not os.path.exists(target_dir):\n",
        "        os.makedirs(target_dir)\n",
        "    for species in top_species:\n",
        "        source_species_path = os.path.join(source_dir, species)\n",
        "        target_species_path = os.path.join(target_dir, species)\n",
        "        if os.path.exists(source_species_path):\n",
        "            shutil.copytree(source_species_path, target_species_path)\n",
        "\n",
        "# Define your directory paths\n",
        "original_train_dir = '/content/birds_dataset/train'\n",
        "original_valid_dir = '/content/birds_dataset/valid'\n",
        "original_test_dir = '/content/birds_dataset/test'\n",
        "\n",
        "# Target directories for top 50 species\n",
        "filtered_train_dir = '/content/birds_dataset_filtered/train'\n",
        "filtered_valid_dir = '/content/birds_dataset_filtered/valid'\n",
        "filtered_test_dir = '/content/birds_dataset_filtered/test'\n",
        "\n",
        "# Filter the directories\n",
        "filter_directory(original_train_dir, filtered_train_dir, top_50_species)\n",
        "filter_directory(original_valid_dir, filtered_valid_dir, top_50_species)\n",
        "filter_directory(original_test_dir, filtered_test_dir, top_50_species)\n"
      ],
      "metadata": {
        "id": "_e7q3fJ8hkHB"
      },
      "execution_count": 17,
      "outputs": []
    },
    {
      "cell_type": "code",
      "source": [
        "from tensorflow.keras.preprocessing import image_dataset_from_directory\n",
        "\n",
        "\n",
        "img_size = 224\n",
        "batch_size = 32\n",
        "\n",
        "train_data = image_dataset_from_directory(\n",
        "    filtered_train_dir,\n",
        "    image_size=(img_size, img_size),\n",
        "    batch_size=batch_size,\n",
        "    shuffle=True\n",
        ")\n",
        "\n",
        "val_data = image_dataset_from_directory(\n",
        "    filtered_valid_dir,\n",
        "    image_size=(img_size, img_size),\n",
        "    batch_size=batch_size,\n",
        "    shuffle=False\n",
        ")\n",
        "\n",
        "test_data = image_dataset_from_directory(\n",
        "    filtered_test_dir,\n",
        "    image_size=(img_size, img_size),\n",
        "    batch_size=batch_size,\n",
        "    shuffle=False\n",
        ")\n"
      ],
      "metadata": {
        "colab": {
          "base_uri": "https://localhost:8080/"
        },
        "id": "oXWtuYU-hm3f",
        "outputId": "0f29b4f2-43b9-4c1c-99c7-3be9084f7db0"
      },
      "execution_count": 18,
      "outputs": [
        {
          "output_type": "stream",
          "name": "stdout",
          "text": [
            "Found 9252 files belonging to 50 classes.\n",
            "Found 742 files belonging to 50 classes.\n",
            "Found 750 files belonging to 50 classes.\n"
          ]
        }
      ]
    },
    {
      "cell_type": "code",
      "source": [
        "import tensorflow as tf\n",
        "from tensorflow.keras.models import Sequential\n",
        "from tensorflow.keras.layers import Flatten, Dense, Dropout\n",
        "from tensorflow.keras.applications import ResNet50\n"
      ],
      "metadata": {
        "id": "yALbynnhht3_"
      },
      "execution_count": 19,
      "outputs": []
    },
    {
      "cell_type": "code",
      "source": [
        "import numpy as np\n",
        "import tensorflow as tf\n",
        "\n",
        "def compute_image_statistics(data_generator):\n",
        "    all_images = []\n",
        "    for images, _ in data_generator.take(10):  # Take 10 batches\n",
        "        all_images.append(images.numpy())\n",
        "    all_images = np.concatenate(all_images)\n",
        "    mean = np.mean(all_images, axis=(0, 1, 2))\n",
        "    std = np.std(all_images, axis=(0, 1, 2))\n",
        "    return mean, std\n",
        "\n",
        "# Assuming 'train_data' is your training dataset loaded with tf.keras.utils.image_dataset_from_directory\n",
        "mean, std = compute_image_statistics(train_data)\n",
        "print(f\"Mean: {mean}, Standard Deviation: {std}\")\n",
        "\n",
        "# Compare these values to ImageNet's mean and std\n",
        "print(\"ImageNet means: ([123.68, 116.779, 103.939]), \", )"
      ],
      "metadata": {
        "colab": {
          "base_uri": "https://localhost:8080/"
        },
        "id": "if3sfpGUjPSX",
        "outputId": "3798ee04-7c28-4a44-8b0c-7943498bf656"
      },
      "execution_count": 20,
      "outputs": [
        {
          "output_type": "stream",
          "name": "stdout",
          "text": [
            "Mean: [125.27984  124.31006  104.827484], Standard Deviation: [60.049824 58.906208 63.97131 ]\n",
            "ImageNet means: ([123.68, 116.779, 103.939]), \n"
          ]
        }
      ]
    },
    {
      "cell_type": "code",
      "source": [
        "from tensorflow.keras.applications.resnet50 import preprocess_input\n",
        "from tensorflow.keras.layers import Lambda, Flatten, Dense, Dropout\n",
        "from tensorflow.keras.models import Sequential\n",
        "\n",
        "model = Sequential([\n",
        "    Lambda(preprocess_input, input_shape=(224, 224, 3), name='preprocessing'),\n",
        "    ResNet50(include_top=False, pooling='avg', weights='imagenet'),\n",
        "    Flatten(),\n",
        "    Dense(512, activation='relu'),\n",
        "    Dropout(0.5),  # Adding dropout for regularization\n",
        "    Dense(50, activation='softmax')  # Adjusted for 50 classes\n",
        "])\n"
      ],
      "metadata": {
        "colab": {
          "base_uri": "https://localhost:8080/"
        },
        "id": "fYUtPDL-iNml",
        "outputId": "11455189-5e3b-4845-c83d-4e76dedf26bd"
      },
      "execution_count": 21,
      "outputs": [
        {
          "output_type": "stream",
          "name": "stdout",
          "text": [
            "Downloading data from https://storage.googleapis.com/tensorflow/keras-applications/resnet/resnet50_weights_tf_dim_ordering_tf_kernels_notop.h5\n",
            "94765736/94765736 [==============================] - 0s 0us/step\n"
          ]
        }
      ]
    },
    {
      "cell_type": "code",
      "source": [
        "from tensorflow.keras.optimizers import Adam\n",
        "\n",
        "model.compile(\n",
        "    optimizer=Adam(learning_rate=0.0001),\n",
        "    loss='sparse_categorical_crossentropy', #for integer class numbers\n",
        "    metrics=['accuracy']\n",
        ")\n"
      ],
      "metadata": {
        "id": "QTbwcms-iovQ"
      },
      "execution_count": 22,
      "outputs": []
    },
    {
      "cell_type": "code",
      "source": [],
      "metadata": {
        "id": "mktfLsn7ipJx"
      },
      "execution_count": 22,
      "outputs": []
    },
    {
      "cell_type": "code",
      "source": [
        "history = model.fit(\n",
        "    train_data,\n",
        "    epochs=20,  # Number of epochs to train for\n",
        "    validation_data=val_data,  # Validation data to evaluate the model\n",
        "    callbacks=[tf.keras.callbacks.EarlyStopping(monitor='val_loss', patience=3, restore_best_weights=True)],\n",
        "    verbose = 1\n",
        ")\n"
      ],
      "metadata": {
        "colab": {
          "base_uri": "https://localhost:8080/"
        },
        "id": "-010Vu-sjyPw",
        "outputId": "be2863fb-4472-4fe3-b57e-f3164c3f22a6"
      },
      "execution_count": 23,
      "outputs": [
        {
          "output_type": "stream",
          "name": "stdout",
          "text": [
            "Epoch 1/20\n",
            "290/290 [==============================] - 143s 351ms/step - loss: 0.9578 - accuracy: 0.7702 - val_loss: 0.1726 - val_accuracy: 0.9569\n",
            "Epoch 2/20\n",
            "290/290 [==============================] - 98s 336ms/step - loss: 0.1073 - accuracy: 0.9743 - val_loss: 0.0961 - val_accuracy: 0.9730\n",
            "Epoch 3/20\n",
            "290/290 [==============================] - 98s 336ms/step - loss: 0.0575 - accuracy: 0.9847 - val_loss: 0.1171 - val_accuracy: 0.9704\n",
            "Epoch 4/20\n",
            "290/290 [==============================] - 97s 335ms/step - loss: 0.0419 - accuracy: 0.9892 - val_loss: 0.1144 - val_accuracy: 0.9704\n",
            "Epoch 5/20\n",
            "290/290 [==============================] - 97s 335ms/step - loss: 0.0402 - accuracy: 0.9893 - val_loss: 0.1890 - val_accuracy: 0.9420\n"
          ]
        }
      ]
    },
    {
      "cell_type": "code",
      "source": [
        "# Save the entire model to a file\n",
        "model.save('path_to_my_model.h5')\n",
        "\n",
        "# Alternatively, you can save just the weights\n",
        "model.save_weights('path_to_my_weights.h5')\n"
      ],
      "metadata": {
        "colab": {
          "base_uri": "https://localhost:8080/"
        },
        "id": "nP0LdsFikA-A",
        "outputId": "4e08afcf-1485-4288-cbce-0a04f3411740"
      },
      "execution_count": 24,
      "outputs": [
        {
          "output_type": "stream",
          "name": "stderr",
          "text": [
            "/usr/local/lib/python3.10/dist-packages/keras/src/engine/training.py:3103: UserWarning: You are saving your model as an HDF5 file via `model.save()`. This file format is considered legacy. We recommend using instead the native Keras format, e.g. `model.save('my_model.keras')`.\n",
            "  saving_api.save_model(\n"
          ]
        }
      ]
    },
    {
      "cell_type": "code",
      "source": [
        "import matplotlib.pyplot as plt\n",
        "\n",
        "# Plot training & validation accuracy values\n",
        "plt.plot(history.history['accuracy'])\n",
        "plt.plot(history.history['val_accuracy'])\n",
        "plt.title('Model accuracy')\n",
        "plt.ylabel('Accuracy')\n",
        "plt.xlabel('Epoch')\n",
        "plt.legend(['Train', 'Val'], loc='upper left')\n",
        "plt.show()\n",
        "\n",
        "# Plot training & validation loss values\n",
        "plt.plot(history.history['loss'])\n",
        "plt.plot(history.history['val_loss'])\n",
        "plt.title('Model loss')\n",
        "plt.ylabel('Loss')\n",
        "plt.xlabel('Epoch')\n",
        "plt.legend(['Train', 'Val'], loc='upper left')\n",
        "plt.show()\n"
      ],
      "metadata": {
        "colab": {
          "base_uri": "https://localhost:8080/",
          "height": 927
        },
        "id": "-YIKWtA6sgL9",
        "outputId": "71eb9f34-02b9-4b3c-83e6-96bf257a5c9a"
      },
      "execution_count": 25,
      "outputs": [
        {
          "output_type": "display_data",
          "data": {
            "text/plain": [
              "<Figure size 640x480 with 1 Axes>"
            ],
            "image/png": "[encoded data removed]"
          },
          "metadata": {}
        },
        {
          "output_type": "display_data",
          "data": {
            "text/plain": [
              "<Figure size 640x480 with 1 Axes>"
            ],
            "image/png": "[encoded data removed]"
          },
          "metadata": {}
        }
      ]
    },
    {
      "cell_type": "code",
      "source": [
        "\n",
        "# Evaluate the model on the test set\n",
        "test_loss, test_accuracy = model.evaluate(test_data)\n",
        "\n",
        "print(f\"Test Loss: {test_loss}\")\n",
        "print(f\"Test Accuracy: {test_accuracy}\")\n"
      ],
      "metadata": {
        "colab": {
          "base_uri": "https://localhost:8080/"
        },
        "id": "ozz3vbOLshiE",
        "outputId": "30060203-bb97-47dd-cb1c-dee70af8e8fb"
      },
      "execution_count": 26,
      "outputs": [
        {
          "output_type": "stream",
          "name": "stdout",
          "text": [
            "24/24 [==============================] - 4s 150ms/step - loss: 0.1356 - accuracy: 0.9653\n",
            "Test Loss: 0.1355578750371933\n",
            "Test Accuracy: 0.9653333425521851\n"
          ]
        }
      ]
    },
    {
      "cell_type": "code",
      "source": [],
      "metadata": {
        "id": "s0AjoJc8tK2Y"
      },
      "execution_count": null,
      "outputs": []
    },
    {
      "cell_type": "code",
      "source": [
        "from tensorflow.keras.callbacks import ReduceLROnPlateau\n",
        "\n",
        "# Reduce learning rate when a metric has stopped improving.\n",
        "reduce_lr = ReduceLROnPlateau(monitor='val_loss', factor=0.1, patience=2, verbose=1, min_lr=0.00001)\n",
        "\n",
        "# Compile the model\n",
        "model.compile(optimizer=Adam(learning_rate=0.0001),\n",
        "              loss='sparse_categorical_crossentropy',\n",
        "              metrics=['accuracy'])\n",
        "\n",
        "# Fit the model with the scheduler\n",
        "history = model.fit(train_data,\n",
        "                    epochs=20,\n",
        "                    validation_data=val_data,\n",
        "                    callbacks=[reduce_lr])  # Include the ReduceLROnPlateau callback here\n"
      ],
      "metadata": {
        "colab": {
          "base_uri": "https://localhost:8080/"
        },
        "id": "sgVzL6IrrL1b",
        "outputId": "5a55ad00-8f99-40d6-fe62-db999a5420ba"
      },
      "execution_count": 27,
      "outputs": [
        {
          "output_type": "stream",
          "name": "stdout",
          "text": [
            "Epoch 1/20\n",
            "290/290 [==============================] - 130s 339ms/step - loss: 0.0839 - accuracy: 0.9757 - val_loss: 0.1842 - val_accuracy: 0.9461 - lr: 1.0000e-04\n",
            "Epoch 2/20\n",
            "290/290 [==============================] - 97s 335ms/step - loss: 0.0716 - accuracy: 0.9804 - val_loss: 0.2133 - val_accuracy: 0.9407 - lr: 1.0000e-04\n",
            "Epoch 3/20\n",
            "290/290 [==============================] - ETA: 0s - loss: 0.0400 - accuracy: 0.9890\n",
            "Epoch 3: ReduceLROnPlateau reducing learning rate to 1e-05.\n",
            "290/290 [==============================] - 98s 336ms/step - loss: 0.0400 - accuracy: 0.9890 - val_loss: 0.1866 - val_accuracy: 0.9569 - lr: 1.0000e-04\n",
            "Epoch 4/20\n",
            "290/290 [==============================] - 97s 335ms/step - loss: 0.0184 - accuracy: 0.9954 - val_loss: 0.0955 - val_accuracy: 0.9784 - lr: 1.0000e-05\n",
            "Epoch 5/20\n",
            "290/290 [==============================] - 97s 335ms/step - loss: 0.0092 - accuracy: 0.9974 - val_loss: 0.0985 - val_accuracy: 0.9798 - lr: 1.0000e-05\n",
            "Epoch 6/20\n",
            "290/290 [==============================] - 97s 335ms/step - loss: 0.0052 - accuracy: 0.9989 - val_loss: 0.0967 - val_accuracy: 0.9811 - lr: 1.0000e-05\n",
            "Epoch 7/20\n",
            "290/290 [==============================] - 98s 338ms/step - loss: 0.0040 - accuracy: 0.9991 - val_loss: 0.0921 - val_accuracy: 0.9811 - lr: 1.0000e-05\n",
            "Epoch 8/20\n",
            "290/290 [==============================] - 97s 334ms/step - loss: 0.0038 - accuracy: 0.9995 - val_loss: 0.0919 - val_accuracy: 0.9811 - lr: 1.0000e-05\n",
            "Epoch 9/20\n",
            "290/290 [==============================] - 98s 336ms/step - loss: 0.0043 - accuracy: 0.9989 - val_loss: 0.0982 - val_accuracy: 0.9784 - lr: 1.0000e-05\n",
            "Epoch 10/20\n",
            "290/290 [==============================] - 97s 336ms/step - loss: 0.0042 - accuracy: 0.9990 - val_loss: 0.0972 - val_accuracy: 0.9798 - lr: 1.0000e-05\n",
            "Epoch 11/20\n",
            "290/290 [==============================] - 97s 335ms/step - loss: 0.0014 - accuracy: 1.0000 - val_loss: 0.0950 - val_accuracy: 0.9798 - lr: 1.0000e-05\n",
            "Epoch 12/20\n",
            "290/290 [==============================] - 97s 334ms/step - loss: 0.0015 - accuracy: 0.9999 - val_loss: 0.0900 - val_accuracy: 0.9798 - lr: 1.0000e-05\n",
            "Epoch 13/20\n",
            "290/290 [==============================] - 98s 336ms/step - loss: 0.0015 - accuracy: 0.9996 - val_loss: 0.0919 - val_accuracy: 0.9784 - lr: 1.0000e-05\n",
            "Epoch 14/20\n",
            "290/290 [==============================] - 98s 336ms/step - loss: 0.0012 - accuracy: 0.9997 - val_loss: 0.0998 - val_accuracy: 0.9784 - lr: 1.0000e-05\n",
            "Epoch 15/20\n",
            "290/290 [==============================] - 97s 336ms/step - loss: 8.4799e-04 - accuracy: 1.0000 - val_loss: 0.0945 - val_accuracy: 0.9811 - lr: 1.0000e-05\n",
            "Epoch 16/20\n",
            "290/290 [==============================] - 97s 335ms/step - loss: 0.0012 - accuracy: 0.9998 - val_loss: 0.0872 - val_accuracy: 0.9825 - lr: 1.0000e-05\n",
            "Epoch 17/20\n",
            "290/290 [==============================] - 97s 334ms/step - loss: 6.1571e-04 - accuracy: 1.0000 - val_loss: 0.0849 - val_accuracy: 0.9838 - lr: 1.0000e-05\n",
            "Epoch 18/20\n",
            "290/290 [==============================] - 97s 335ms/step - loss: 8.8792e-04 - accuracy: 0.9998 - val_loss: 0.0898 - val_accuracy: 0.9825 - lr: 1.0000e-05\n",
            "Epoch 19/20\n",
            "290/290 [==============================] - 98s 338ms/step - loss: 0.0011 - accuracy: 0.9998 - val_loss: 0.0981 - val_accuracy: 0.9798 - lr: 1.0000e-05\n",
            "Epoch 20/20\n",
            "290/290 [==============================] - 97s 335ms/step - loss: 5.8537e-04 - accuracy: 1.0000 - val_loss: 0.1060 - val_accuracy: 0.9784 - lr: 1.0000e-05\n"
          ]
        }
      ]
    },
    {
      "cell_type": "code",
      "source": [
        "# Save the entire model to a file\n",
        "model.save('path_to_my_model2.h5')\n",
        "\n",
        "# Alternatively, you can save just the weights\n",
        "model.save_weights('path_to_my_weights2.h5')\n"
      ],
      "metadata": {
        "id": "ZlAbky5NrMCI"
      },
      "execution_count": 28,
      "outputs": []
    },
    {
      "cell_type": "code",
      "source": [
        "import matplotlib.pyplot as plt\n",
        "\n",
        "# Plot training & validation accuracy values\n",
        "plt.plot(history.history['accuracy'])\n",
        "plt.plot(history.history['val_accuracy'])\n",
        "plt.title('Model accuracy')\n",
        "plt.ylabel('Accuracy')\n",
        "plt.xlabel('Epoch')\n",
        "plt.legend(['Train', 'Val'], loc='upper left')\n",
        "plt.show()\n",
        "\n",
        "# Plot training & validation loss values\n",
        "plt.plot(history.history['loss'])\n",
        "plt.plot(history.history['val_loss'])\n",
        "plt.title('Model loss')\n",
        "plt.ylabel('Loss')\n",
        "plt.xlabel('Epoch')\n",
        "plt.legend(['Train', 'Val'], loc='upper left')\n",
        "plt.show()\n"
      ],
      "metadata": {
        "colab": {
          "base_uri": "https://localhost:8080/",
          "height": 927
        },
        "id": "n_LoC2Ca0KfQ",
        "outputId": "5e24a3bf-b3a3-4092-f49f-35976e935ad9"
      },
      "execution_count": 29,
      "outputs": [
        {
          "output_type": "display_data",
          "data": {
            "text/plain": [
              "<Figure size 640x480 with 1 Axes>"
            ],
            "image/png": "[encoded data removed]"
          },
          "metadata": {}
        },
        {
          "output_type": "display_data",
          "data": {
            "text/plain": [
              "<Figure size 640x480 with 1 Axes>"
            ],
            "image/png": "[encoded data removed]"
          },
          "metadata": {}
        }
      ]
    },
    {
      "cell_type": "code",
      "source": [
        "\n",
        "# Evaluate the model on the test set\n",
        "test_loss, test_accuracy = model.evaluate(test_data)\n",
        "\n",
        "print(f\"Test Loss: {test_loss}\")\n",
        "print(f\"Test Accuracy: {test_accuracy}\")\n"
      ],
      "metadata": {
        "colab": {
          "base_uri": "https://localhost:8080/"
        },
        "id": "UhaqdkU-0M_U",
        "outputId": "37753b05-abe1-442f-ae2d-8c6cfca920f9"
      },
      "execution_count": 30,
      "outputs": [
        {
          "output_type": "stream",
          "name": "stdout",
          "text": [
            "24/24 [==============================] - 3s 102ms/step - loss: 0.0901 - accuracy: 0.9800\n",
            "Test Loss: 0.09009704738855362\n",
            "Test Accuracy: 0.9800000190734863\n"
          ]
        }
      ]
    },
    {
      "cell_type": "code",
      "source": [],
      "metadata": {
        "id": "8zEr5lr-0Qma"
      },
      "execution_count": null,
      "outputs": []
    }
  ]
}