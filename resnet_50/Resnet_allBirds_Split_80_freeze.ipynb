{
  "nbformat": 4,
  "nbformat_minor": 0,
  "metadata": {
    "colab": {
      "provenance": [],
      "machine_shape": "hm",
      "gpuType": "A100"
    },
    "kernelspec": {
      "name": "python3",
      "display_name": "Python 3"
    },
    "language_info": {
      "name": "python"
    },
    "accelerator": "GPU"
  },
  "cells": [
    {
      "cell_type": "markdown",
      "source": [
        "# First Download Data using api:\n",
        "https://www.kaggle.com/discussions/general/74235"
      ],
      "metadata": {
        "id": "JlLL-uvVsrt1"
      }
    },
    {
      "cell_type": "code",
      "source": [
        " !pip install -q kaggle"
      ],
      "metadata": {
        "id": "kapPDOgnsqmi"
      },
      "execution_count": 1,
      "outputs": []
    },
    {
      "cell_type": "code",
      "source": [
        " from google.colab import files\n",
        " # upload json file:\n",
        " files.upload()"
      ],
      "metadata": {
        "colab": {
          "base_uri": "https://localhost:8080/",
          "height": 88
        },
        "id": "u3ghUBUJilNM",
        "outputId": "9f49ab44-5499-42d1-ad5a-11d3f87c7cc9"
      },
      "execution_count": 2,
      "outputs": [
        {
          "output_type": "display_data",
          "data": {
            "text/plain": [
              "<IPython.core.display.HTML object>"
            ],
            "text/html": [
              "\n",
              "     <input type=\"file\" id=\"files-443c046d-ed4e-4a5c-8d6b-668dcf6042b6\" name=\"files[]\" multiple disabled\n",
              "        style=\"border:none\" />\n",
              "     <output id=\"result-443c046d-ed4e-4a5c-8d6b-668dcf6042b6\">\n",
              "      Upload widget is only available when the cell has been executed in the\n",
              "      current browser session. Please rerun this cell to enable.\n",
              "      </output>\n",
              "      <script>// Copyright 2017 Google LLC\n",
              "//\n",
              "// Licensed under the Apache License, Version 2.0 (the \"License\");\n",
              "// you may not use this file except in compliance with the License.\n",
              "// You may obtain a copy of the License at\n",
              "//\n",
              "//      http://www.apache.org/licenses/LICENSE-2.0\n",
              "//\n",
              "// Unless required by applicable law or agreed to in writing, software\n",
              "// distributed under the License is distributed on an \"AS IS\" BASIS,\n",
              "// WITHOUT WARRANTIES OR CONDITIONS OF ANY KIND, either express or implied.\n",
              "// See the License for the specific language governing permissions and\n",
              "// limitations under the License.\n",
              "\n",
              "/**\n",
              " * @fileoverview Helpers for google.colab Python module.\n",
              " */\n",
              "(function(scope) {\n",
              "function span(text, styleAttributes = {}) {\n",
              "  const element = document.createElement('span');\n",
              "  element.textContent = text;\n",
              "  for (const key of Object.keys(styleAttributes)) {\n",
              "    element.style[key] = styleAttributes[key];\n",
              "  }\n",
              "  return element;\n",
              "}\n",
              "\n",
              "// Max number of bytes which will be uploaded at a time.\n",
              "const MAX_PAYLOAD_SIZE = 100 * 1024;\n",
              "\n",
              "function _uploadFiles(inputId, outputId) {\n",
              "  const steps = uploadFilesStep(inputId, outputId);\n",
              "  const outputElement = document.getElementById(outputId);\n",
              "  // Cache steps on the outputElement to make it available for the next call\n",
              "  // to uploadFilesContinue from Python.\n",
              "  outputElement.steps = steps;\n",
              "\n",
              "  return _uploadFilesContinue(outputId);\n",
              "}\n",
              "\n",
              "// This is roughly an async generator (not supported in the browser yet),\n",
              "// where there are multiple asynchronous steps and the Python side is going\n",
              "// to poll for completion of each step.\n",
              "// This uses a Promise to block the python side on completion of each step,\n",
              "// then passes the result of the previous step as the input to the next step.\n",
              "function _uploadFilesContinue(outputId) {\n",
              "  const outputElement = document.getElementById(outputId);\n",
              "  const steps = outputElement.steps;\n",
              "\n",
              "  const next = steps.next(outputElement.lastPromiseValue);\n",
              "  return Promise.resolve(next.value.promise).then((value) => {\n",
              "    // Cache the last promise value to make it available to the next\n",
              "    // step of the generator.\n",
              "    outputElement.lastPromiseValue = value;\n",
              "    return next.value.response;\n",
              "  });\n",
              "}\n",
              "\n",
              "/**\n",
              " * Generator function which is called between each async step of the upload\n",
              " * process.\n",
              " * @param {string} inputId Element ID of the input file picker element.\n",
              " * @param {string} outputId Element ID of the output display.\n",
              " * @return {!Iterable<!Object>} Iterable of next steps.\n",
              " */\n",
              "function* uploadFilesStep(inputId, outputId) {\n",
              "  const inputElement = document.getElementById(inputId);\n",
              "  inputElement.disabled = false;\n",
              "\n",
              "  const outputElement = document.getElementById(outputId);\n",
              "  outputElement.innerHTML = '';\n",
              "\n",
              "  const pickedPromise = new Promise((resolve) => {\n",
              "    inputElement.addEventListener('change', (e) => {\n",
              "      resolve(e.target.files);\n",
              "    });\n",
              "  });\n",
              "\n",
              "  const cancel = document.createElement('button');\n",
              "  inputElement.parentElement.appendChild(cancel);\n",
              "  cancel.textContent = 'Cancel upload';\n",
              "  const cancelPromise = new Promise((resolve) => {\n",
              "    cancel.onclick = () => {\n",
              "      resolve(null);\n",
              "    };\n",
              "  });\n",
              "\n",
              "  // Wait for the user to pick the files.\n",
              "  const files = yield {\n",
              "    promise: Promise.race([pickedPromise, cancelPromise]),\n",
              "    response: {\n",
              "      action: 'starting',\n",
              "    }\n",
              "  };\n",
              "\n",
              "  cancel.remove();\n",
              "\n",
              "  // Disable the input element since further picks are not allowed.\n",
              "  inputElement.disabled = true;\n",
              "\n",
              "  if (!files) {\n",
              "    return {\n",
              "      response: {\n",
              "        action: 'complete',\n",
              "      }\n",
              "    };\n",
              "  }\n",
              "\n",
              "  for (const file of files) {\n",
              "    const li = document.createElement('li');\n",
              "    li.append(span(file.name, {fontWeight: 'bold'}));\n",
              "    li.append(span(\n",
              "        `(${file.type || 'n/a'}) - ${file.size} bytes, ` +\n",
              "        `last modified: ${\n",
              "            file.lastModifiedDate ? file.lastModifiedDate.toLocaleDateString() :\n",
              "                                    'n/a'} - `));\n",
              "    const percent = span('0% done');\n",
              "    li.appendChild(percent);\n",
              "\n",
              "    outputElement.appendChild(li);\n",
              "\n",
              "    const fileDataPromise = new Promise((resolve) => {\n",
              "      const reader = new FileReader();\n",
              "      reader.onload = (e) => {\n",
              "        resolve(e.target.result);\n",
              "      };\n",
              "      reader.readAsArrayBuffer(file);\n",
              "    });\n",
              "    // Wait for the data to be ready.\n",
              "    let fileData = yield {\n",
              "      promise: fileDataPromise,\n",
              "      response: {\n",
              "        action: 'continue',\n",
              "      }\n",
              "    };\n",
              "\n",
              "    // Use a chunked sending to avoid message size limits. See b/62115660.\n",
              "    let position = 0;\n",
              "    do {\n",
              "      const length = Math.min(fileData.byteLength - position, MAX_PAYLOAD_SIZE);\n",
              "      const chunk = new Uint8Array(fileData, position, length);\n",
              "      position += length;\n",
              "\n",
              "      const base64 = btoa(String.fromCharCode.apply(null, chunk));\n",
              "      yield {\n",
              "        response: {\n",
              "          action: 'append',\n",
              "          file: file.name,\n",
              "          data: base64,\n",
              "        },\n",
              "      };\n",
              "\n",
              "      let percentDone = fileData.byteLength === 0 ?\n",
              "          100 :\n",
              "          Math.round((position / fileData.byteLength) * 100);\n",
              "      percent.textContent = `${percentDone}% done`;\n",
              "\n",
              "    } while (position < fileData.byteLength);\n",
              "  }\n",
              "\n",
              "  // All done.\n",
              "  yield {\n",
              "    response: {\n",
              "      action: 'complete',\n",
              "    }\n",
              "  };\n",
              "}\n",
              "\n",
              "scope.google = scope.google || {};\n",
              "scope.google.colab = scope.google.colab || {};\n",
              "scope.google.colab._files = {\n",
              "  _uploadFiles,\n",
              "  _uploadFilesContinue,\n",
              "};\n",
              "})(self);\n",
              "</script> "
            ]
          },
          "metadata": {}
        },
        {
          "output_type": "stream",
          "name": "stdout",
          "text": [
            "Saving kaggle (1).json to kaggle (1).json\n"
          ]
        },
        {
          "output_type": "execute_result",
          "data": {
            "text/plain": [
              "{'kaggle (1).json': b'{\"username\":\"jackparkinson\",\"key\":\"01e20c0f4474bf5f6cda58ac1e9a83a4\"}'}"
            ]
          },
          "metadata": {},
          "execution_count": 2
        }
      ]
    },
    {
      "cell_type": "code",
      "source": [
        "! mkdir ~/.kaggle\n",
        "! cp kaggle.json ~/.kaggle/"
      ],
      "metadata": {
        "id": "FzgHALPsivvF",
        "colab": {
          "base_uri": "https://localhost:8080/"
        },
        "outputId": "e817aadc-a4e4-49ee-d351-a6c38d049ba1"
      },
      "execution_count": 3,
      "outputs": [
        {
          "output_type": "stream",
          "name": "stdout",
          "text": [
            "cp: cannot stat 'kaggle.json': No such file or directory\n"
          ]
        }
      ]
    },
    {
      "cell_type": "code",
      "source": [
        " ! chmod 600 ~/.kaggle/kaggle.json"
      ],
      "metadata": {
        "id": "o1cWTQNQi3n1",
        "colab": {
          "base_uri": "https://localhost:8080/"
        },
        "outputId": "266bda65-05bf-4463-bd3d-ef47c5dd5083"
      },
      "execution_count": 4,
      "outputs": [
        {
          "output_type": "stream",
          "name": "stdout",
          "text": [
            "chmod: cannot access '/root/.kaggle/kaggle.json': No such file or directory\n"
          ]
        }
      ]
    },
    {
      "cell_type": "code",
      "source": [
        "! kaggle datasets download -d gpiosenka/100-bird-species"
      ],
      "metadata": {
        "colab": {
          "base_uri": "https://localhost:8080/"
        },
        "id": "UsbEixj8i5gX",
        "outputId": "47a5f4b9-0383-4747-ac72-64e1778a2b3b"
      },
      "execution_count": 5,
      "outputs": [
        {
          "output_type": "stream",
          "name": "stdout",
          "text": [
            "Dataset URL: https://www.kaggle.com/datasets/gpiosenka/100-bird-species\n",
            "License(s): CC0-1.0\n",
            "Downloading 100-bird-species.zip to /content\n",
            " 99% 1.94G/1.96G [00:14<00:00, 149MB/s]\n",
            "100% 1.96G/1.96G [00:14<00:00, 141MB/s]\n"
          ]
        }
      ]
    },
    {
      "cell_type": "markdown",
      "source": [
        "## Set up paths"
      ],
      "metadata": {
        "id": "YBNW-YVitHJt"
      }
    },
    {
      "cell_type": "code",
      "source": [
        "import zipfile\n",
        "import os"
      ],
      "metadata": {
        "id": "2jUW6tTCjFJ5"
      },
      "execution_count": 6,
      "outputs": []
    },
    {
      "cell_type": "code",
      "source": [
        "zip_path = '/content/100-bird-species.zip'\n",
        "\n",
        "# directory to unzip (can change if you want)\n",
        "extract_to = '/content/birds_dataset'\n",
        "\n",
        "# removes any current directory with name\n",
        "if os.path.exists(extract_to):\n",
        "    !rm -rf {extract_to}\n",
        "\n",
        "os.makedirs(extract_to, exist_ok=True)\n",
        "\n",
        "with zipfile.ZipFile(zip_path, 'r') as zip_ref:\n",
        "    zip_ref.extractall(extract_to)\n",
        "\n",
        "print(\"Unzipping completed!\")"
      ],
      "metadata": {
        "colab": {
          "base_uri": "https://localhost:8080/"
        },
        "id": "ASWmvtk6kE9P",
        "outputId": "30d59591-f4a1-41d3-b9c9-cd0d9356cabf"
      },
      "execution_count": 7,
      "outputs": [
        {
          "output_type": "stream",
          "name": "stdout",
          "text": [
            "Unzipping completed!\n"
          ]
        }
      ]
    },
    {
      "cell_type": "code",
      "source": [
        "\n",
        "\n",
        "train_dir = '/content/birds_dataset/train'\n",
        "test_dir = '/content/birds_dataset/test'\n",
        "valid_dir = '/content/birds_dataset/valid'\n",
        "\n",
        "# counts files\n",
        "def count_images(directory):\n",
        "    count = 0\n",
        "    for _, _, files in os.walk(directory):\n",
        "        count += len(files)\n",
        "    return count\n",
        "\n",
        "train_count = count_images(train_dir)\n",
        "valid_count = count_images(valid_dir)\n",
        "test_count = count_images(test_dir)\n",
        "train_split = train_count / (train_count+test_count+valid_count)\n",
        "valid_split = valid_count / (train_count+test_count+valid_count)\n",
        "test_split = test_count / (train_count+test_count+valid_count)\n",
        "\n",
        "\n",
        "print(f\"Number of images in Train: {train_count} with split: {train_split}\")\n",
        "print(f\"Number of images in Valid: {valid_count} with split: {valid_split}\")\n",
        "print(f\"Number of images in Test: {test_count} with split: {test_split}\")"
      ],
      "metadata": {
        "id": "-knVf_3TkGbB",
        "colab": {
          "base_uri": "https://localhost:8080/"
        },
        "outputId": "efa52662-7300-4243-897d-f0c6767657fc"
      },
      "execution_count": 8,
      "outputs": [
        {
          "output_type": "stream",
          "name": "stdout",
          "text": [
            "Number of images in Train: 84635 with split: 0.9415920342660066\n",
            "Number of images in Valid: 2625 with split: 0.029203982866996717\n",
            "Number of images in Test: 2625 with split: 0.029203982866996717\n"
          ]
        }
      ]
    },
    {
      "cell_type": "markdown",
      "source": [
        "#### There's an extra space for one of the birds in the train and test dir:"
      ],
      "metadata": {
        "id": "ik6RomOWMH4J"
      }
    },
    {
      "cell_type": "code",
      "source": [
        "def check_directories(path):\n",
        "    subdirs = os.listdir(path)\n",
        "    print(f'Total directories in {path}: {len(subdirs)}')\n",
        "    return set(os.listdir(path))\n",
        "\n",
        "# Retrieve the list of species in each directory\n",
        "train_species = check_directories(train_dir)\n",
        "test_species = check_directories(test_dir)\n",
        "valid_species = check_directories(valid_dir)\n",
        "\n",
        "# Find the union of all species (all species that appear in any directory)\n",
        "all_species = train_species.union(test_species).union(valid_species)\n",
        "\n",
        "# Find what is missing from each set\n",
        "missing_from_train = all_species - train_species\n",
        "missing_from_test = all_species - test_species\n",
        "missing_from_valid = all_species - valid_species\n",
        "\n",
        "print(\"Species missing from train:\", missing_from_train)\n",
        "print(\"Species missing from test:\", missing_from_test)\n",
        "print(\"Species missing from valid:\", missing_from_valid)\n"
      ],
      "metadata": {
        "colab": {
          "base_uri": "https://localhost:8080/"
        },
        "id": "JCS-iWqEKHE6",
        "outputId": "58e5fabe-00e5-4af2-bc00-f2f346166ff4"
      },
      "execution_count": 9,
      "outputs": [
        {
          "output_type": "stream",
          "name": "stdout",
          "text": [
            "Total directories in /content/birds_dataset/train: 525\n",
            "Total directories in /content/birds_dataset/test: 525\n",
            "Total directories in /content/birds_dataset/valid: 525\n",
            "Species missing from train: {'PARAKETT AUKLET'}\n",
            "Species missing from test: {'PARAKETT AUKLET'}\n",
            "Species missing from valid: {'PARAKETT  AUKLET'}\n"
          ]
        }
      ]
    },
    {
      "cell_type": "code",
      "source": [],
      "metadata": {
        "id": "MZ8WzKJcKKhG"
      },
      "execution_count": 9,
      "outputs": []
    },
    {
      "cell_type": "code",
      "source": [
        "import os\n",
        "\n",
        "train_dir = '/content/birds_dataset/train'\n",
        "test_dir = '/content/birds_dataset/test'\n",
        "\n",
        "# Define the incorrect and correct paths for train and test\n",
        "incorrect_path_train = os.path.join(train_dir, 'PARAKETT  AUKLET')\n",
        "correct_path_train = os.path.join(train_dir, 'PARAKETT AUKLET')\n",
        "\n",
        "incorrect_path_test = os.path.join(test_dir, 'PARAKETT  AUKLET')\n",
        "correct_path_test = os.path.join(test_dir, 'PARAKETT AUKLET')\n",
        "\n",
        "# Rename the directories in train and test\n",
        "try:\n",
        "    os.rename(incorrect_path_train, correct_path_train)\n",
        "    print(f\"Renamed in train from '{incorrect_path_train}' to '{correct_path_train}'\")\n",
        "except FileNotFoundError as e:\n",
        "    print(f\"Error in train rename: {e}\")\n",
        "\n",
        "try:\n",
        "    os.rename(incorrect_path_test, correct_path_test)\n",
        "    print(f\"Renamed in test from '{incorrect_path_test}' to '{correct_path_test}'\")\n",
        "except FileNotFoundError as e:\n",
        "    print(f\"Error in test rename: {e}\")\n"
      ],
      "metadata": {
        "colab": {
          "base_uri": "https://localhost:8080/"
        },
        "id": "UJ1uIaLwKo2u",
        "outputId": "16728764-9d2f-4224-c993-60b484fb03ee"
      },
      "execution_count": 10,
      "outputs": [
        {
          "output_type": "stream",
          "name": "stdout",
          "text": [
            "Renamed in train from '/content/birds_dataset/train/PARAKETT  AUKLET' to '/content/birds_dataset/train/PARAKETT AUKLET'\n",
            "Renamed in test from '/content/birds_dataset/test/PARAKETT  AUKLET' to '/content/birds_dataset/test/PARAKETT AUKLET'\n"
          ]
        }
      ]
    },
    {
      "cell_type": "code",
      "source": [
        "def check_directories(path):\n",
        "    subdirs = os.listdir(path)\n",
        "    print(f'Total directories in {path}: {len(subdirs)}')\n",
        "    return set(os.listdir(path))\n",
        "\n",
        "# Retrieve the list of species in each directory\n",
        "train_species = check_directories(train_dir)\n",
        "test_species = check_directories(test_dir)\n",
        "valid_species = check_directories(valid_dir)\n",
        "\n",
        "# Find the union of all species (all species that appear in any directory)\n",
        "all_species = train_species.union(test_species).union(valid_species)\n",
        "\n",
        "# Find what is missing from each set\n",
        "missing_from_train = all_species - train_species\n",
        "missing_from_test = all_species - test_species\n",
        "missing_from_valid = all_species - valid_species\n",
        "\n",
        "print(\"Species missing from train:\", missing_from_train)\n",
        "print(\"Species missing from test:\", missing_from_test)\n",
        "print(\"Species missing from valid:\", missing_from_valid)\n"
      ],
      "metadata": {
        "colab": {
          "base_uri": "https://localhost:8080/"
        },
        "id": "d1QcGeYcLQ0R",
        "outputId": "effc2776-e098-42c2-dccd-44dda3dce015"
      },
      "execution_count": 11,
      "outputs": [
        {
          "output_type": "stream",
          "name": "stdout",
          "text": [
            "Total directories in /content/birds_dataset/train: 525\n",
            "Total directories in /content/birds_dataset/test: 525\n",
            "Total directories in /content/birds_dataset/valid: 525\n",
            "Species missing from train: set()\n",
            "Species missing from test: set()\n",
            "Species missing from valid: set()\n"
          ]
        }
      ]
    },
    {
      "cell_type": "code",
      "source": [],
      "metadata": {
        "id": "Wm_Pv5sDKo6W"
      },
      "execution_count": 11,
      "outputs": []
    },
    {
      "cell_type": "markdown",
      "source": [
        "## Move around images so its roughly 80/10/10 split:\n",
        "Can manually specify a different split by choosing num_test_files and num_valid_files variables"
      ],
      "metadata": {
        "id": "H8GLfJMotLIU"
      }
    },
    {
      "cell_type": "code",
      "source": [
        "import os\n",
        "import shutil\n",
        "\n",
        "def adjust_dataset_split(train_dir, test_dir, valid_dir, num_test_files, num_valid_files):\n",
        "    # iterates through each species directory in the train directory\n",
        "    for species in os.listdir(train_dir):\n",
        "        species_train_dir = os.path.join(train_dir, species)\n",
        "        species_test_dir = os.path.join(test_dir, species)\n",
        "        species_valid_dir = os.path.join(valid_dir, species)\n",
        "\n",
        "        # train directory files for each species\n",
        "        files = os.listdir(species_train_dir)\n",
        "\n",
        "        # ensures test and valid directories exist\n",
        "        os.makedirs(species_test_dir, exist_ok=True)\n",
        "        os.makedirs(species_valid_dir, exist_ok=True)\n",
        "\n",
        "        # move files to test\n",
        "        for file in files[:num_test_files]:\n",
        "            shutil.move(os.path.join(species_train_dir, file), os.path.join(species_test_dir, file))\n",
        "\n",
        "        # update list of files remaining in train\n",
        "        remaining_files = os.listdir(species_train_dir)\n",
        "\n",
        "        # move files to valid\n",
        "        for file in remaining_files[:num_valid_files]:\n",
        "            shutil.move(os.path.join(species_train_dir, file), os.path.join(species_valid_dir, file))\n",
        "\n",
        "\n",
        "# specify number of files to move to respective dirs\n",
        "num_test_files = 10\n",
        "num_valid_files = 10\n",
        "\n",
        "\n",
        "adjust_dataset_split(train_dir, test_dir, valid_dir, num_test_files, num_valid_files)\n",
        "print(\"Files have been moved to achieve the specified dataset split.\")\n"
      ],
      "metadata": {
        "id": "-UzqfmvotWjP",
        "colab": {
          "base_uri": "https://localhost:8080/"
        },
        "outputId": "c9b49462-c347-4f20-ada9-3d22f85669b1"
      },
      "execution_count": 12,
      "outputs": [
        {
          "output_type": "stream",
          "name": "stdout",
          "text": [
            "Files have been moved to achieve the specified dataset split.\n"
          ]
        }
      ]
    },
    {
      "cell_type": "markdown",
      "source": [],
      "metadata": {
        "id": "NWogJylV8K5Z"
      }
    },
    {
      "cell_type": "code",
      "source": [
        "train_count = count_images(train_dir)\n",
        "valid_count = count_images(valid_dir)\n",
        "test_count = count_images(test_dir)\n",
        "train_split = train_count / (train_count+test_count+valid_count)\n",
        "valid_split = valid_count / (train_count+test_count+valid_count)\n",
        "test_split = test_count / (train_count+test_count+valid_count)\n",
        "\n",
        "\n",
        "print(f\"Number of images in Train: {train_count} with proportion: {train_split}\")\n",
        "print(f\"Number of images in Valid: {valid_count} with proportion: {valid_split}\")\n",
        "print(f\"Number of images in Test: {test_count} with proportion: {test_split}\")"
      ],
      "metadata": {
        "colab": {
          "base_uri": "https://localhost:8080/"
        },
        "id": "yVaBWFb9wK8F",
        "outputId": "eb44d346-74f0-49a9-8135-636a4d198f66"
      },
      "execution_count": 13,
      "outputs": [
        {
          "output_type": "stream",
          "name": "stdout",
          "text": [
            "Number of images in Train: 74135 with proportion: 0.8247761027980197\n",
            "Number of images in Valid: 7875 with proportion: 0.08761194860099016\n",
            "Number of images in Test: 7875 with proportion: 0.08761194860099016\n"
          ]
        }
      ]
    },
    {
      "cell_type": "code",
      "source": [],
      "metadata": {
        "id": "-6JKK9MDLcek"
      },
      "execution_count": 13,
      "outputs": []
    },
    {
      "cell_type": "code",
      "source": [
        "def check_directories(path):\n",
        "    subdirs = os.listdir(path)\n",
        "    print(f'Total directories in {path}: {len(subdirs)}')\n",
        "    return set(os.listdir(path))\n",
        "\n",
        "# Retrieve the list of species in each directory\n",
        "train_species = check_directories(train_dir)\n",
        "test_species = check_directories(test_dir)\n",
        "valid_species = check_directories(valid_dir)\n",
        "\n",
        "# Find the union of all species (all species that appear in any directory)\n",
        "all_species = train_species.union(test_species).union(valid_species)\n",
        "\n",
        "# Find what is missing from each set\n",
        "missing_from_train = all_species - train_species\n",
        "missing_from_test = all_species - test_species\n",
        "missing_from_valid = all_species - valid_species\n",
        "\n",
        "print(\"Species missing from train:\", missing_from_train)\n",
        "print(\"Species missing from test:\", missing_from_test)\n",
        "print(\"Species missing from valid:\", missing_from_valid)\n"
      ],
      "metadata": {
        "id": "AYtWBRmjwMVQ",
        "colab": {
          "base_uri": "https://localhost:8080/"
        },
        "outputId": "7ad35125-aed9-4920-bac4-d66882057aec"
      },
      "execution_count": 14,
      "outputs": [
        {
          "output_type": "stream",
          "name": "stdout",
          "text": [
            "Total directories in /content/birds_dataset/train: 525\n",
            "Total directories in /content/birds_dataset/test: 525\n",
            "Total directories in /content/birds_dataset/valid: 525\n",
            "Species missing from train: set()\n",
            "Species missing from test: set()\n",
            "Species missing from valid: set()\n"
          ]
        }
      ]
    },
    {
      "cell_type": "code",
      "source": [],
      "metadata": {
        "id": "vlev1bjJg5yi"
      },
      "execution_count": 14,
      "outputs": []
    },
    {
      "cell_type": "code",
      "source": [],
      "metadata": {
        "id": "dHZC11Iug51o"
      },
      "execution_count": 14,
      "outputs": []
    },
    {
      "cell_type": "markdown",
      "source": [
        "## most frequent 50 birds:"
      ],
      "metadata": {
        "id": "38gT0tDTg6Lw"
      }
    },
    {
      "cell_type": "code",
      "source": [
        "# import shutil\n",
        "\n",
        "# def filter_directory(source_dir, target_dir, top_species):\n",
        "#     if not os.path.exists(target_dir):\n",
        "#         os.makedirs(target_dir)\n",
        "#     for species in top_species:\n",
        "#         source_species_path = os.path.join(source_dir, species)\n",
        "#         target_species_path = os.path.join(target_dir, species)\n",
        "#         if os.path.exists(source_species_path):\n",
        "#             shutil.copytree(source_species_path, target_species_path)\n",
        "\n",
        "# # Define your directory paths\n",
        "# original_train_dir = '/content/birds_dataset/train'\n",
        "# original_valid_dir = '/content/birds_dataset/valid'\n",
        "# original_test_dir = '/content/birds_dataset/test'\n",
        "\n",
        "# # Target directories for top 50 species\n",
        "# filtered_train_dir = '/content/birds_dataset_filtered/train'\n",
        "# filtered_valid_dir = '/content/birds_dataset_filtered/valid'\n",
        "# filtered_test_dir = '/content/birds_dataset_filtered/test'\n",
        "\n",
        "# # Filter the directories\n",
        "# filter_directory(original_train_dir, filtered_train_dir, top_50_species)\n",
        "# filter_directory(original_valid_dir, filtered_valid_dir, top_50_species)\n",
        "# filter_directory(original_test_dir, filtered_test_dir, top_50_species)\n"
      ],
      "metadata": {
        "id": "_e7q3fJ8hkHB"
      },
      "execution_count": 15,
      "outputs": []
    },
    {
      "cell_type": "code",
      "source": [
        "from tensorflow.keras.preprocessing import image_dataset_from_directory\n",
        "\n",
        "\n",
        "\n",
        "\n",
        "\n",
        "img_size = 224\n",
        "batch_size = 32\n",
        "\n",
        "train_data = image_dataset_from_directory(\n",
        "    train_dir,\n",
        "    image_size=(img_size, img_size),\n",
        "    batch_size=batch_size,\n",
        "    shuffle=True\n",
        ")\n",
        "\n",
        "val_data = image_dataset_from_directory(\n",
        "    valid_dir,\n",
        "    image_size=(img_size, img_size),\n",
        "    batch_size=batch_size,\n",
        "    shuffle=False\n",
        ")\n",
        "\n",
        "test_data = image_dataset_from_directory(\n",
        "    test_dir,\n",
        "    image_size=(img_size, img_size),\n",
        "    batch_size=batch_size,\n",
        "    shuffle=False\n",
        ")\n"
      ],
      "metadata": {
        "colab": {
          "base_uri": "https://localhost:8080/"
        },
        "id": "oXWtuYU-hm3f",
        "outputId": "9b2207fb-09ec-4157-9550-f951c0b133d7"
      },
      "execution_count": 16,
      "outputs": [
        {
          "output_type": "stream",
          "name": "stdout",
          "text": [
            "Found 74135 files belonging to 525 classes.\n",
            "Found 7875 files belonging to 525 classes.\n",
            "Found 7875 files belonging to 525 classes.\n"
          ]
        }
      ]
    },
    {
      "cell_type": "code",
      "source": [
        "import tensorflow as tf\n",
        "from tensorflow.keras.models import Sequential\n",
        "from tensorflow.keras.layers import Flatten, Dense, Dropout\n",
        "from tensorflow.keras.applications import ResNet50\n"
      ],
      "metadata": {
        "id": "yALbynnhht3_"
      },
      "execution_count": 17,
      "outputs": []
    },
    {
      "cell_type": "code",
      "source": [
        "import numpy as np\n",
        "import tensorflow as tf\n",
        "\n",
        "def compute_image_statistics(data_generator):\n",
        "    all_images = []\n",
        "    for images, _ in data_generator.take(10):  # Take 10 batches\n",
        "        all_images.append(images.numpy())\n",
        "    all_images = np.concatenate(all_images)\n",
        "    mean = np.mean(all_images, axis=(0, 1, 2))\n",
        "    std = np.std(all_images, axis=(0, 1, 2))\n",
        "    return mean, std\n",
        "\n",
        "# Assuming 'train_data' is your training dataset loaded with tf.keras.utils.image_dataset_from_directory\n",
        "mean, std = compute_image_statistics(train_data)\n",
        "print(f\"Mean: {mean}, Standard Deviation: {std}\")\n",
        "\n",
        "# Compare these values to ImageNet's mean and std\n",
        "print(\"ImageNet means: ([123.68, 116.779, 103.939]), \", )"
      ],
      "metadata": {
        "colab": {
          "base_uri": "https://localhost:8080/"
        },
        "id": "if3sfpGUjPSX",
        "outputId": "f021de7d-5599-4537-dabb-e61ac7446611"
      },
      "execution_count": 18,
      "outputs": [
        {
          "output_type": "stream",
          "name": "stdout",
          "text": [
            "Mean: [119.19461 117.36251  98.66595], Standard Deviation: [60.63031  58.590107 64.38694 ]\n",
            "ImageNet means: ([123.68, 116.779, 103.939]), \n"
          ]
        }
      ]
    },
    {
      "cell_type": "code",
      "source": [
        "from tensorflow.keras.applications.resnet50 import preprocess_input\n",
        "from tensorflow.keras.layers import Lambda, Flatten, Dense, Dropout\n",
        "from tensorflow.keras.models import Sequential\n",
        "\n",
        "model = Sequential([\n",
        "    Lambda(preprocess_input, input_shape=(224, 224, 3), name='preprocessing'),\n",
        "    ResNet50(include_top=False, pooling='avg', weights='imagenet'),\n",
        "    Flatten(),\n",
        "    Dense(512, activation='relu'),\n",
        "    Dropout(0.5),  # Adding dropout for regularization\n",
        "    Dense(525, activation='softmax')  # Adjusted for 50 classes\n",
        "])\n"
      ],
      "metadata": {
        "id": "fYUtPDL-iNml",
        "colab": {
          "base_uri": "https://localhost:8080/"
        },
        "outputId": "b01413f5-0d03-4a4a-9439-4acab076b816"
      },
      "execution_count": 19,
      "outputs": [
        {
          "output_type": "stream",
          "name": "stdout",
          "text": [
            "Downloading data from https://storage.googleapis.com/tensorflow/keras-applications/resnet/resnet50_weights_tf_dim_ordering_tf_kernels_notop.h5\n",
            "94765736/94765736 [==============================] - 1s 0us/step\n"
          ]
        }
      ]
    },
    {
      "cell_type": "code",
      "source": [
        "from tensorflow.keras.optimizers import Adam\n",
        "\n",
        "model.compile(\n",
        "    optimizer=Adam(learning_rate=0.0001),\n",
        "    loss='sparse_categorical_crossentropy', #for integer class numbers\n",
        "    metrics=['accuracy']\n",
        ")\n"
      ],
      "metadata": {
        "id": "QTbwcms-iovQ"
      },
      "execution_count": null,
      "outputs": []
    },
    {
      "cell_type": "code",
      "source": [],
      "metadata": {
        "id": "mktfLsn7ipJx"
      },
      "execution_count": null,
      "outputs": []
    },
    {
      "cell_type": "code",
      "source": [
        "history = model.fit(\n",
        "    train_data,\n",
        "    epochs=20,  # Number of epochs to train for\n",
        "    validation_data=val_data,  # Validation data to evaluate the model\n",
        "    callbacks=[tf.keras.callbacks.EarlyStopping(monitor='val_loss', patience=3, restore_best_weights=True)],\n",
        "    verbose = 1\n",
        ")\n"
      ],
      "metadata": {
        "colab": {
          "base_uri": "https://localhost:8080/",
          "height": 391
        },
        "id": "-010Vu-sjyPw",
        "outputId": "bce53812-6f52-4f01-dfa5-9dee6cf32949"
      },
      "execution_count": null,
      "outputs": [
        {
          "output_type": "stream",
          "name": "stdout",
          "text": [
            "Epoch 1/20\n",
            " 400/2317 [====>.........................] - ETA: 1:58 - loss: 5.4183 - accuracy: 0.0895"
          ]
        },
        {
          "output_type": "error",
          "ename": "KeyboardInterrupt",
          "evalue": "",
          "traceback": [
            "\u001b[0;31m---------------------------------------------------------------------------\u001b[0m",
            "\u001b[0;31mKeyboardInterrupt\u001b[0m                         Traceback (most recent call last)",
            "\u001b[0;32m<ipython-input-21-db6318a91105>\u001b[0m in \u001b[0;36m<cell line: 1>\u001b[0;34m()\u001b[0m\n\u001b[0;32m----> 1\u001b[0;31m history = model.fit(\n\u001b[0m\u001b[1;32m      2\u001b[0m     \u001b[0mtrain_data\u001b[0m\u001b[0;34m,\u001b[0m\u001b[0;34m\u001b[0m\u001b[0;34m\u001b[0m\u001b[0m\n\u001b[1;32m      3\u001b[0m     \u001b[0mepochs\u001b[0m\u001b[0;34m=\u001b[0m\u001b[0;36m20\u001b[0m\u001b[0;34m,\u001b[0m  \u001b[0;31m# Number of epochs to train for\u001b[0m\u001b[0;34m\u001b[0m\u001b[0;34m\u001b[0m\u001b[0m\n\u001b[1;32m      4\u001b[0m     \u001b[0mvalidation_data\u001b[0m\u001b[0;34m=\u001b[0m\u001b[0mval_data\u001b[0m\u001b[0;34m,\u001b[0m  \u001b[0;31m# Validation data to evaluate the model\u001b[0m\u001b[0;34m\u001b[0m\u001b[0;34m\u001b[0m\u001b[0m\n\u001b[1;32m      5\u001b[0m     \u001b[0mcallbacks\u001b[0m\u001b[0;34m=\u001b[0m\u001b[0;34m[\u001b[0m\u001b[0mtf\u001b[0m\u001b[0;34m.\u001b[0m\u001b[0mkeras\u001b[0m\u001b[0;34m.\u001b[0m\u001b[0mcallbacks\u001b[0m\u001b[0;34m.\u001b[0m\u001b[0mEarlyStopping\u001b[0m\u001b[0;34m(\u001b[0m\u001b[0mmonitor\u001b[0m\u001b[0;34m=\u001b[0m\u001b[0;34m'val_loss'\u001b[0m\u001b[0;34m,\u001b[0m \u001b[0mpatience\u001b[0m\u001b[0;34m=\u001b[0m\u001b[0;36m3\u001b[0m\u001b[0;34m,\u001b[0m \u001b[0mrestore_best_weights\u001b[0m\u001b[0;34m=\u001b[0m\u001b[0;32mTrue\u001b[0m\u001b[0;34m)\u001b[0m\u001b[0;34m]\u001b[0m\u001b[0;34m,\u001b[0m\u001b[0;34m\u001b[0m\u001b[0;34m\u001b[0m\u001b[0m\n",
            "\u001b[0;32m/usr/local/lib/python3.10/dist-packages/keras/src/utils/traceback_utils.py\u001b[0m in \u001b[0;36merror_handler\u001b[0;34m(*args, **kwargs)\u001b[0m\n\u001b[1;32m     63\u001b[0m         \u001b[0mfiltered_tb\u001b[0m \u001b[0;34m=\u001b[0m \u001b[0;32mNone\u001b[0m\u001b[0;34m\u001b[0m\u001b[0;34m\u001b[0m\u001b[0m\n\u001b[1;32m     64\u001b[0m         \u001b[0;32mtry\u001b[0m\u001b[0;34m:\u001b[0m\u001b[0;34m\u001b[0m\u001b[0;34m\u001b[0m\u001b[0m\n\u001b[0;32m---> 65\u001b[0;31m             \u001b[0;32mreturn\u001b[0m \u001b[0mfn\u001b[0m\u001b[0;34m(\u001b[0m\u001b[0;34m*\u001b[0m\u001b[0margs\u001b[0m\u001b[0;34m,\u001b[0m \u001b[0;34m**\u001b[0m\u001b[0mkwargs\u001b[0m\u001b[0;34m)\u001b[0m\u001b[0;34m\u001b[0m\u001b[0;34m\u001b[0m\u001b[0m\n\u001b[0m\u001b[1;32m     66\u001b[0m         \u001b[0;32mexcept\u001b[0m \u001b[0mException\u001b[0m \u001b[0;32mas\u001b[0m \u001b[0me\u001b[0m\u001b[0;34m:\u001b[0m\u001b[0;34m\u001b[0m\u001b[0;34m\u001b[0m\u001b[0m\n\u001b[1;32m     67\u001b[0m             \u001b[0mfiltered_tb\u001b[0m \u001b[0;34m=\u001b[0m \u001b[0m_process_traceback_frames\u001b[0m\u001b[0;34m(\u001b[0m\u001b[0me\u001b[0m\u001b[0;34m.\u001b[0m\u001b[0m__traceback__\u001b[0m\u001b[0;34m)\u001b[0m\u001b[0;34m\u001b[0m\u001b[0;34m\u001b[0m\u001b[0m\n",
            "\u001b[0;32m/usr/local/lib/python3.10/dist-packages/keras/src/engine/training.py\u001b[0m in \u001b[0;36mfit\u001b[0;34m(self, x, y, batch_size, epochs, verbose, callbacks, validation_split, validation_data, shuffle, class_weight, sample_weight, initial_epoch, steps_per_epoch, validation_steps, validation_batch_size, validation_freq, max_queue_size, workers, use_multiprocessing)\u001b[0m\n\u001b[1;32m   1805\u001b[0m                         ):\n\u001b[1;32m   1806\u001b[0m                             \u001b[0mcallbacks\u001b[0m\u001b[0;34m.\u001b[0m\u001b[0mon_train_batch_begin\u001b[0m\u001b[0;34m(\u001b[0m\u001b[0mstep\u001b[0m\u001b[0;34m)\u001b[0m\u001b[0;34m\u001b[0m\u001b[0;34m\u001b[0m\u001b[0m\n\u001b[0;32m-> 1807\u001b[0;31m                             \u001b[0mtmp_logs\u001b[0m \u001b[0;34m=\u001b[0m \u001b[0mself\u001b[0m\u001b[0;34m.\u001b[0m\u001b[0mtrain_function\u001b[0m\u001b[0;34m(\u001b[0m\u001b[0miterator\u001b[0m\u001b[0;34m)\u001b[0m\u001b[0;34m\u001b[0m\u001b[0;34m\u001b[0m\u001b[0m\n\u001b[0m\u001b[1;32m   1808\u001b[0m                             \u001b[0;32mif\u001b[0m \u001b[0mdata_handler\u001b[0m\u001b[0;34m.\u001b[0m\u001b[0mshould_sync\u001b[0m\u001b[0;34m:\u001b[0m\u001b[0;34m\u001b[0m\u001b[0;34m\u001b[0m\u001b[0m\n\u001b[1;32m   1809\u001b[0m                                 \u001b[0mcontext\u001b[0m\u001b[0;34m.\u001b[0m\u001b[0masync_wait\u001b[0m\u001b[0;34m(\u001b[0m\u001b[0;34m)\u001b[0m\u001b[0;34m\u001b[0m\u001b[0;34m\u001b[0m\u001b[0m\n",
            "\u001b[0;32m/usr/local/lib/python3.10/dist-packages/tensorflow/python/util/traceback_utils.py\u001b[0m in \u001b[0;36merror_handler\u001b[0;34m(*args, **kwargs)\u001b[0m\n\u001b[1;32m    148\u001b[0m     \u001b[0mfiltered_tb\u001b[0m \u001b[0;34m=\u001b[0m \u001b[0;32mNone\u001b[0m\u001b[0;34m\u001b[0m\u001b[0;34m\u001b[0m\u001b[0m\n\u001b[1;32m    149\u001b[0m     \u001b[0;32mtry\u001b[0m\u001b[0;34m:\u001b[0m\u001b[0;34m\u001b[0m\u001b[0;34m\u001b[0m\u001b[0m\n\u001b[0;32m--> 150\u001b[0;31m       \u001b[0;32mreturn\u001b[0m \u001b[0mfn\u001b[0m\u001b[0;34m(\u001b[0m\u001b[0;34m*\u001b[0m\u001b[0margs\u001b[0m\u001b[0;34m,\u001b[0m \u001b[0;34m**\u001b[0m\u001b[0mkwargs\u001b[0m\u001b[0;34m)\u001b[0m\u001b[0;34m\u001b[0m\u001b[0;34m\u001b[0m\u001b[0m\n\u001b[0m\u001b[1;32m    151\u001b[0m     \u001b[0;32mexcept\u001b[0m \u001b[0mException\u001b[0m \u001b[0;32mas\u001b[0m \u001b[0me\u001b[0m\u001b[0;34m:\u001b[0m\u001b[0;34m\u001b[0m\u001b[0;34m\u001b[0m\u001b[0m\n\u001b[1;32m    152\u001b[0m       \u001b[0mfiltered_tb\u001b[0m \u001b[0;34m=\u001b[0m \u001b[0m_process_traceback_frames\u001b[0m\u001b[0;34m(\u001b[0m\u001b[0me\u001b[0m\u001b[0;34m.\u001b[0m\u001b[0m__traceback__\u001b[0m\u001b[0;34m)\u001b[0m\u001b[0;34m\u001b[0m\u001b[0;34m\u001b[0m\u001b[0m\n",
            "\u001b[0;32m/usr/local/lib/python3.10/dist-packages/tensorflow/python/eager/polymorphic_function/polymorphic_function.py\u001b[0m in \u001b[0;36m__call__\u001b[0;34m(self, *args, **kwds)\u001b[0m\n\u001b[1;32m    830\u001b[0m \u001b[0;34m\u001b[0m\u001b[0m\n\u001b[1;32m    831\u001b[0m       \u001b[0;32mwith\u001b[0m \u001b[0mOptionalXlaContext\u001b[0m\u001b[0;34m(\u001b[0m\u001b[0mself\u001b[0m\u001b[0;34m.\u001b[0m\u001b[0m_jit_compile\u001b[0m\u001b[0;34m)\u001b[0m\u001b[0;34m:\u001b[0m\u001b[0;34m\u001b[0m\u001b[0;34m\u001b[0m\u001b[0m\n\u001b[0;32m--> 832\u001b[0;31m         \u001b[0mresult\u001b[0m \u001b[0;34m=\u001b[0m \u001b[0mself\u001b[0m\u001b[0;34m.\u001b[0m\u001b[0m_call\u001b[0m\u001b[0;34m(\u001b[0m\u001b[0;34m*\u001b[0m\u001b[0margs\u001b[0m\u001b[0;34m,\u001b[0m \u001b[0;34m**\u001b[0m\u001b[0mkwds\u001b[0m\u001b[0;34m)\u001b[0m\u001b[0;34m\u001b[0m\u001b[0;34m\u001b[0m\u001b[0m\n\u001b[0m\u001b[1;32m    833\u001b[0m \u001b[0;34m\u001b[0m\u001b[0m\n\u001b[1;32m    834\u001b[0m       \u001b[0mnew_tracing_count\u001b[0m \u001b[0;34m=\u001b[0m \u001b[0mself\u001b[0m\u001b[0;34m.\u001b[0m\u001b[0mexperimental_get_tracing_count\u001b[0m\u001b[0;34m(\u001b[0m\u001b[0;34m)\u001b[0m\u001b[0;34m\u001b[0m\u001b[0;34m\u001b[0m\u001b[0m\n",
            "\u001b[0;32m/usr/local/lib/python3.10/dist-packages/tensorflow/python/eager/polymorphic_function/polymorphic_function.py\u001b[0m in \u001b[0;36m_call\u001b[0;34m(self, *args, **kwds)\u001b[0m\n\u001b[1;32m    866\u001b[0m       \u001b[0;31m# In this case we have created variables on the first call, so we run the\u001b[0m\u001b[0;34m\u001b[0m\u001b[0;34m\u001b[0m\u001b[0m\n\u001b[1;32m    867\u001b[0m       \u001b[0;31m# defunned version which is guaranteed to never create variables.\u001b[0m\u001b[0;34m\u001b[0m\u001b[0;34m\u001b[0m\u001b[0m\n\u001b[0;32m--> 868\u001b[0;31m       return tracing_compilation.call_function(\n\u001b[0m\u001b[1;32m    869\u001b[0m           \u001b[0margs\u001b[0m\u001b[0;34m,\u001b[0m \u001b[0mkwds\u001b[0m\u001b[0;34m,\u001b[0m \u001b[0mself\u001b[0m\u001b[0;34m.\u001b[0m\u001b[0m_no_variable_creation_config\u001b[0m\u001b[0;34m\u001b[0m\u001b[0;34m\u001b[0m\u001b[0m\n\u001b[1;32m    870\u001b[0m       )\n",
            "\u001b[0;32m/usr/local/lib/python3.10/dist-packages/tensorflow/python/eager/polymorphic_function/tracing_compilation.py\u001b[0m in \u001b[0;36mcall_function\u001b[0;34m(args, kwargs, tracing_options)\u001b[0m\n\u001b[1;32m    137\u001b[0m   \u001b[0mbound_args\u001b[0m \u001b[0;34m=\u001b[0m \u001b[0mfunction\u001b[0m\u001b[0;34m.\u001b[0m\u001b[0mfunction_type\u001b[0m\u001b[0;34m.\u001b[0m\u001b[0mbind\u001b[0m\u001b[0;34m(\u001b[0m\u001b[0;34m*\u001b[0m\u001b[0margs\u001b[0m\u001b[0;34m,\u001b[0m \u001b[0;34m**\u001b[0m\u001b[0mkwargs\u001b[0m\u001b[0;34m)\u001b[0m\u001b[0;34m\u001b[0m\u001b[0;34m\u001b[0m\u001b[0m\n\u001b[1;32m    138\u001b[0m   \u001b[0mflat_inputs\u001b[0m \u001b[0;34m=\u001b[0m \u001b[0mfunction\u001b[0m\u001b[0;34m.\u001b[0m\u001b[0mfunction_type\u001b[0m\u001b[0;34m.\u001b[0m\u001b[0munpack_inputs\u001b[0m\u001b[0;34m(\u001b[0m\u001b[0mbound_args\u001b[0m\u001b[0;34m)\u001b[0m\u001b[0;34m\u001b[0m\u001b[0;34m\u001b[0m\u001b[0m\n\u001b[0;32m--> 139\u001b[0;31m   return function._call_flat(  # pylint: disable=protected-access\n\u001b[0m\u001b[1;32m    140\u001b[0m       \u001b[0mflat_inputs\u001b[0m\u001b[0;34m,\u001b[0m \u001b[0mcaptured_inputs\u001b[0m\u001b[0;34m=\u001b[0m\u001b[0mfunction\u001b[0m\u001b[0;34m.\u001b[0m\u001b[0mcaptured_inputs\u001b[0m\u001b[0;34m\u001b[0m\u001b[0;34m\u001b[0m\u001b[0m\n\u001b[1;32m    141\u001b[0m   )\n",
            "\u001b[0;32m/usr/local/lib/python3.10/dist-packages/tensorflow/python/eager/polymorphic_function/concrete_function.py\u001b[0m in \u001b[0;36m_call_flat\u001b[0;34m(self, tensor_inputs, captured_inputs)\u001b[0m\n\u001b[1;32m   1321\u001b[0m         and executing_eagerly):\n\u001b[1;32m   1322\u001b[0m       \u001b[0;31m# No tape is watching; skip to running the function.\u001b[0m\u001b[0;34m\u001b[0m\u001b[0;34m\u001b[0m\u001b[0m\n\u001b[0;32m-> 1323\u001b[0;31m       \u001b[0;32mreturn\u001b[0m \u001b[0mself\u001b[0m\u001b[0;34m.\u001b[0m\u001b[0m_inference_function\u001b[0m\u001b[0;34m.\u001b[0m\u001b[0mcall_preflattened\u001b[0m\u001b[0;34m(\u001b[0m\u001b[0margs\u001b[0m\u001b[0;34m)\u001b[0m\u001b[0;34m\u001b[0m\u001b[0;34m\u001b[0m\u001b[0m\n\u001b[0m\u001b[1;32m   1324\u001b[0m     forward_backward = self._select_forward_and_backward_functions(\n\u001b[1;32m   1325\u001b[0m         \u001b[0margs\u001b[0m\u001b[0;34m,\u001b[0m\u001b[0;34m\u001b[0m\u001b[0;34m\u001b[0m\u001b[0m\n",
            "\u001b[0;32m/usr/local/lib/python3.10/dist-packages/tensorflow/python/eager/polymorphic_function/atomic_function.py\u001b[0m in \u001b[0;36mcall_preflattened\u001b[0;34m(self, args)\u001b[0m\n\u001b[1;32m    214\u001b[0m   \u001b[0;32mdef\u001b[0m \u001b[0mcall_preflattened\u001b[0m\u001b[0;34m(\u001b[0m\u001b[0mself\u001b[0m\u001b[0;34m,\u001b[0m \u001b[0margs\u001b[0m\u001b[0;34m:\u001b[0m \u001b[0mSequence\u001b[0m\u001b[0;34m[\u001b[0m\u001b[0mcore\u001b[0m\u001b[0;34m.\u001b[0m\u001b[0mTensor\u001b[0m\u001b[0;34m]\u001b[0m\u001b[0;34m)\u001b[0m \u001b[0;34m->\u001b[0m \u001b[0mAny\u001b[0m\u001b[0;34m:\u001b[0m\u001b[0;34m\u001b[0m\u001b[0;34m\u001b[0m\u001b[0m\n\u001b[1;32m    215\u001b[0m     \u001b[0;34m\"\"\"Calls with flattened tensor inputs and returns the structured output.\"\"\"\u001b[0m\u001b[0;34m\u001b[0m\u001b[0;34m\u001b[0m\u001b[0m\n\u001b[0;32m--> 216\u001b[0;31m     \u001b[0mflat_outputs\u001b[0m \u001b[0;34m=\u001b[0m \u001b[0mself\u001b[0m\u001b[0;34m.\u001b[0m\u001b[0mcall_flat\u001b[0m\u001b[0;34m(\u001b[0m\u001b[0;34m*\u001b[0m\u001b[0margs\u001b[0m\u001b[0;34m)\u001b[0m\u001b[0;34m\u001b[0m\u001b[0;34m\u001b[0m\u001b[0m\n\u001b[0m\u001b[1;32m    217\u001b[0m     \u001b[0;32mreturn\u001b[0m \u001b[0mself\u001b[0m\u001b[0;34m.\u001b[0m\u001b[0mfunction_type\u001b[0m\u001b[0;34m.\u001b[0m\u001b[0mpack_output\u001b[0m\u001b[0;34m(\u001b[0m\u001b[0mflat_outputs\u001b[0m\u001b[0;34m)\u001b[0m\u001b[0;34m\u001b[0m\u001b[0;34m\u001b[0m\u001b[0m\n\u001b[1;32m    218\u001b[0m \u001b[0;34m\u001b[0m\u001b[0m\n",
            "\u001b[0;32m/usr/local/lib/python3.10/dist-packages/tensorflow/python/eager/polymorphic_function/atomic_function.py\u001b[0m in \u001b[0;36mcall_flat\u001b[0;34m(self, *args)\u001b[0m\n\u001b[1;32m    249\u001b[0m         \u001b[0;32mwith\u001b[0m \u001b[0mrecord\u001b[0m\u001b[0;34m.\u001b[0m\u001b[0mstop_recording\u001b[0m\u001b[0;34m(\u001b[0m\u001b[0;34m)\u001b[0m\u001b[0;34m:\u001b[0m\u001b[0;34m\u001b[0m\u001b[0;34m\u001b[0m\u001b[0m\n\u001b[1;32m    250\u001b[0m           \u001b[0;32mif\u001b[0m \u001b[0mself\u001b[0m\u001b[0;34m.\u001b[0m\u001b[0m_bound_context\u001b[0m\u001b[0;34m.\u001b[0m\u001b[0mexecuting_eagerly\u001b[0m\u001b[0;34m(\u001b[0m\u001b[0;34m)\u001b[0m\u001b[0;34m:\u001b[0m\u001b[0;34m\u001b[0m\u001b[0;34m\u001b[0m\u001b[0m\n\u001b[0;32m--> 251\u001b[0;31m             outputs = self._bound_context.call_function(\n\u001b[0m\u001b[1;32m    252\u001b[0m                 \u001b[0mself\u001b[0m\u001b[0;34m.\u001b[0m\u001b[0mname\u001b[0m\u001b[0;34m,\u001b[0m\u001b[0;34m\u001b[0m\u001b[0;34m\u001b[0m\u001b[0m\n\u001b[1;32m    253\u001b[0m                 \u001b[0mlist\u001b[0m\u001b[0;34m(\u001b[0m\u001b[0margs\u001b[0m\u001b[0;34m)\u001b[0m\u001b[0;34m,\u001b[0m\u001b[0;34m\u001b[0m\u001b[0;34m\u001b[0m\u001b[0m\n",
            "\u001b[0;32m/usr/local/lib/python3.10/dist-packages/tensorflow/python/eager/context.py\u001b[0m in \u001b[0;36mcall_function\u001b[0;34m(self, name, tensor_inputs, num_outputs)\u001b[0m\n\u001b[1;32m   1484\u001b[0m     \u001b[0mcancellation_context\u001b[0m \u001b[0;34m=\u001b[0m \u001b[0mcancellation\u001b[0m\u001b[0;34m.\u001b[0m\u001b[0mcontext\u001b[0m\u001b[0;34m(\u001b[0m\u001b[0;34m)\u001b[0m\u001b[0;34m\u001b[0m\u001b[0;34m\u001b[0m\u001b[0m\n\u001b[1;32m   1485\u001b[0m     \u001b[0;32mif\u001b[0m \u001b[0mcancellation_context\u001b[0m \u001b[0;32mis\u001b[0m \u001b[0;32mNone\u001b[0m\u001b[0;34m:\u001b[0m\u001b[0;34m\u001b[0m\u001b[0;34m\u001b[0m\u001b[0m\n\u001b[0;32m-> 1486\u001b[0;31m       outputs = execute.execute(\n\u001b[0m\u001b[1;32m   1487\u001b[0m           \u001b[0mname\u001b[0m\u001b[0;34m.\u001b[0m\u001b[0mdecode\u001b[0m\u001b[0;34m(\u001b[0m\u001b[0;34m\"utf-8\"\u001b[0m\u001b[0;34m)\u001b[0m\u001b[0;34m,\u001b[0m\u001b[0;34m\u001b[0m\u001b[0;34m\u001b[0m\u001b[0m\n\u001b[1;32m   1488\u001b[0m           \u001b[0mnum_outputs\u001b[0m\u001b[0;34m=\u001b[0m\u001b[0mnum_outputs\u001b[0m\u001b[0;34m,\u001b[0m\u001b[0;34m\u001b[0m\u001b[0;34m\u001b[0m\u001b[0m\n",
            "\u001b[0;32m/usr/local/lib/python3.10/dist-packages/tensorflow/python/eager/execute.py\u001b[0m in \u001b[0;36mquick_execute\u001b[0;34m(op_name, num_outputs, inputs, attrs, ctx, name)\u001b[0m\n\u001b[1;32m     51\u001b[0m   \u001b[0;32mtry\u001b[0m\u001b[0;34m:\u001b[0m\u001b[0;34m\u001b[0m\u001b[0;34m\u001b[0m\u001b[0m\n\u001b[1;32m     52\u001b[0m     \u001b[0mctx\u001b[0m\u001b[0;34m.\u001b[0m\u001b[0mensure_initialized\u001b[0m\u001b[0;34m(\u001b[0m\u001b[0;34m)\u001b[0m\u001b[0;34m\u001b[0m\u001b[0;34m\u001b[0m\u001b[0m\n\u001b[0;32m---> 53\u001b[0;31m     tensors = pywrap_tfe.TFE_Py_Execute(ctx._handle, device_name, op_name,\n\u001b[0m\u001b[1;32m     54\u001b[0m                                         inputs, attrs, num_outputs)\n\u001b[1;32m     55\u001b[0m   \u001b[0;32mexcept\u001b[0m \u001b[0mcore\u001b[0m\u001b[0;34m.\u001b[0m\u001b[0m_NotOkStatusException\u001b[0m \u001b[0;32mas\u001b[0m \u001b[0me\u001b[0m\u001b[0;34m:\u001b[0m\u001b[0;34m\u001b[0m\u001b[0;34m\u001b[0m\u001b[0m\n",
            "\u001b[0;31mKeyboardInterrupt\u001b[0m: "
          ]
        }
      ]
    },
    {
      "cell_type": "code",
      "source": [
        "# Save the entire model to a file\n",
        "model.save('path_to_my_model.h5')\n",
        "\n",
        "# Alternatively, you can save just the weights\n",
        "model.save_weights('path_to_my_weights.h5')\n"
      ],
      "metadata": {
        "id": "nP0LdsFikA-A"
      },
      "execution_count": null,
      "outputs": []
    },
    {
      "cell_type": "code",
      "source": [
        "import matplotlib.pyplot as plt\n",
        "\n",
        "# Plot training & validation accuracy values\n",
        "plt.plot(history.history['accuracy'])\n",
        "plt.plot(history.history['val_accuracy'])\n",
        "plt.title('Model accuracy')\n",
        "plt.ylabel('Accuracy')\n",
        "plt.xlabel('Epoch')\n",
        "plt.legend(['Train', 'Val'], loc='upper left')\n",
        "plt.show()\n",
        "\n",
        "# Plot training & validation loss values\n",
        "plt.plot(history.history['loss'])\n",
        "plt.plot(history.history['val_loss'])\n",
        "plt.title('Model loss')\n",
        "plt.ylabel('Loss')\n",
        "plt.xlabel('Epoch')\n",
        "plt.legend(['Train', 'Val'], loc='upper left')\n",
        "plt.show()\n"
      ],
      "metadata": {
        "id": "-YIKWtA6sgL9"
      },
      "execution_count": null,
      "outputs": []
    },
    {
      "cell_type": "code",
      "source": [
        "\n",
        "# Evaluate the model on the test set\n",
        "test_loss, test_accuracy = model.evaluate(test_data)\n",
        "\n",
        "print(f\"Test Loss: {test_loss}\")\n",
        "print(f\"Test Accuracy: {test_accuracy}\")\n"
      ],
      "metadata": {
        "id": "ozz3vbOLshiE"
      },
      "execution_count": null,
      "outputs": []
    },
    {
      "cell_type": "code",
      "source": [],
      "metadata": {
        "id": "n-OAXQKVe2h6"
      },
      "execution_count": null,
      "outputs": []
    },
    {
      "cell_type": "code",
      "source": [
        "from tensorflow.keras.applications import ResNet50\n",
        "from tensorflow.keras.layers import Lambda, Flatten, Dense, Dropout\n",
        "from tensorflow.keras.models import Sequential\n",
        "from tensorflow.keras.optimizers import Adam\n",
        "from tensorflow.keras.callbacks import ReduceLROnPlateau, EarlyStopping\n",
        "\n",
        "# Load the ResNet50 model with pre-trained weights and without the top classification layer\n",
        "resnet_base = ResNet50(include_top=False, pooling='avg', weights='imagenet', input_shape=(224, 224, 3))\n",
        "\n",
        "# Freeze all the layers in the ResNet50 model\n",
        "for layer in resnet_base.layers:\n",
        "    layer.trainable = False\n",
        "\n",
        "# Create the Sequential model and add the ResNet50 model\n",
        "model = Sequential([\n",
        "    Lambda(preprocess_input, input_shape=(224, 224, 3), name='preprocessing'),\n",
        "    resnet_base,\n",
        "    Flatten(),\n",
        "    Dense(512, activation='relu'),\n",
        "    Dropout(0.5),  # Adding dropout for regularization\n",
        "    Dense(525, activation='softmax')  # Adjust the number of classes if necessary\n",
        "])\n"
      ],
      "metadata": {
        "id": "Ss5KJRQ1ez73"
      },
      "execution_count": 20,
      "outputs": []
    },
    {
      "cell_type": "code",
      "source": [
        "# model.layers[1].trainable = False"
      ],
      "metadata": {
        "id": "s0AjoJc8tK2Y"
      },
      "execution_count": null,
      "outputs": []
    },
    {
      "cell_type": "code",
      "source": [
        "# Reduce learning rate when a metric has stopped improving\n",
        "reduce_lr = ReduceLROnPlateau(monitor='val_loss', factor=0.1, patience=2, verbose=1, min_lr=0.00001)\n",
        "\n",
        "# Early stopping to stop training when validation loss has stopped improving\n",
        "early_stopping = EarlyStopping(monitor='val_loss', patience=5, restore_best_weights=True, verbose=1)\n",
        "\n",
        "# Compile the model\n",
        "model.compile(optimizer=Adam(learning_rate=0.0001),\n",
        "              loss='sparse_categorical_crossentropy',\n",
        "              metrics=['accuracy'])\n",
        "\n",
        "# Fit the model with the scheduler and early stopping\n",
        "history = model.fit(train_data,\n",
        "                    epochs=30,\n",
        "                    validation_data=val_data,\n",
        "                    callbacks=[reduce_lr, early_stopping],  # Include the ReduceLROnPlateau and EarlyStopping callbacks\n",
        "                    verbose=1)"
      ],
      "metadata": {
        "colab": {
          "base_uri": "https://localhost:8080/"
        },
        "id": "sgVzL6IrrL1b",
        "outputId": "b1fb15ae-c4c4-4662-8dae-075beae12751"
      },
      "execution_count": 21,
      "outputs": [
        {
          "output_type": "stream",
          "name": "stdout",
          "text": [
            "Epoch 1/30\n",
            "2317/2317 [==============================] - 74s 29ms/step - loss: 3.6667 - accuracy: 0.2775 - val_loss: 1.4476 - val_accuracy: 0.7487 - lr: 1.0000e-04\n",
            "Epoch 2/30\n",
            "2317/2317 [==============================] - 64s 28ms/step - loss: 1.6103 - accuracy: 0.6087 - val_loss: 0.8404 - val_accuracy: 0.8310 - lr: 1.0000e-04\n",
            "Epoch 3/30\n",
            "2317/2317 [==============================] - 64s 28ms/step - loss: 1.1066 - accuracy: 0.7210 - val_loss: 0.6221 - val_accuracy: 0.8639 - lr: 1.0000e-04\n",
            "Epoch 4/30\n",
            "2317/2317 [==============================] - 64s 28ms/step - loss: 0.8652 - accuracy: 0.7759 - val_loss: 0.5230 - val_accuracy: 0.8808 - lr: 1.0000e-04\n",
            "Epoch 5/30\n",
            "2317/2317 [==============================] - 64s 28ms/step - loss: 0.7053 - accuracy: 0.8152 - val_loss: 0.4589 - val_accuracy: 0.8926 - lr: 1.0000e-04\n",
            "Epoch 6/30\n",
            "2317/2317 [==============================] - 64s 28ms/step - loss: 0.5991 - accuracy: 0.8409 - val_loss: 0.4248 - val_accuracy: 0.8977 - lr: 1.0000e-04\n",
            "Epoch 7/30\n",
            "2317/2317 [==============================] - 65s 28ms/step - loss: 0.5231 - accuracy: 0.8598 - val_loss: 0.3908 - val_accuracy: 0.9026 - lr: 1.0000e-04\n",
            "Epoch 8/30\n",
            "2317/2317 [==============================] - 64s 28ms/step - loss: 0.4647 - accuracy: 0.8753 - val_loss: 0.3735 - val_accuracy: 0.9069 - lr: 1.0000e-04\n",
            "Epoch 9/30\n",
            "2317/2317 [==============================] - 64s 28ms/step - loss: 0.4186 - accuracy: 0.8872 - val_loss: 0.3532 - val_accuracy: 0.9111 - lr: 1.0000e-04\n",
            "Epoch 10/30\n",
            "2317/2317 [==============================] - 65s 28ms/step - loss: 0.3735 - accuracy: 0.8978 - val_loss: 0.3422 - val_accuracy: 0.9137 - lr: 1.0000e-04\n",
            "Epoch 11/30\n",
            "2317/2317 [==============================] - 64s 28ms/step - loss: 0.3408 - accuracy: 0.9064 - val_loss: 0.3281 - val_accuracy: 0.9147 - lr: 1.0000e-04\n",
            "Epoch 12/30\n",
            "2317/2317 [==============================] - 64s 28ms/step - loss: 0.3139 - accuracy: 0.9127 - val_loss: 0.3243 - val_accuracy: 0.9156 - lr: 1.0000e-04\n",
            "Epoch 13/30\n",
            "2317/2317 [==============================] - 65s 28ms/step - loss: 0.2869 - accuracy: 0.9202 - val_loss: 0.3138 - val_accuracy: 0.9187 - lr: 1.0000e-04\n",
            "Epoch 14/30\n",
            "2317/2317 [==============================] - 64s 28ms/step - loss: 0.2605 - accuracy: 0.9273 - val_loss: 0.3107 - val_accuracy: 0.9196 - lr: 1.0000e-04\n",
            "Epoch 15/30\n",
            "2317/2317 [==============================] - 64s 28ms/step - loss: 0.2439 - accuracy: 0.9326 - val_loss: 0.3077 - val_accuracy: 0.9175 - lr: 1.0000e-04\n",
            "Epoch 16/30\n",
            "2317/2317 [==============================] - 65s 28ms/step - loss: 0.2279 - accuracy: 0.9359 - val_loss: 0.3043 - val_accuracy: 0.9210 - lr: 1.0000e-04\n",
            "Epoch 17/30\n",
            "2317/2317 [==============================] - 64s 28ms/step - loss: 0.2116 - accuracy: 0.9406 - val_loss: 0.3015 - val_accuracy: 0.9205 - lr: 1.0000e-04\n",
            "Epoch 18/30\n",
            "2317/2317 [==============================] - 64s 28ms/step - loss: 0.1965 - accuracy: 0.9440 - val_loss: 0.2943 - val_accuracy: 0.9227 - lr: 1.0000e-04\n",
            "Epoch 19/30\n",
            "2317/2317 [==============================] - 64s 28ms/step - loss: 0.1868 - accuracy: 0.9471 - val_loss: 0.2953 - val_accuracy: 0.9218 - lr: 1.0000e-04\n",
            "Epoch 20/30\n",
            "2317/2317 [==============================] - 65s 28ms/step - loss: 0.1723 - accuracy: 0.9501 - val_loss: 0.2926 - val_accuracy: 0.9227 - lr: 1.0000e-04\n",
            "Epoch 21/30\n",
            "2317/2317 [==============================] - 64s 28ms/step - loss: 0.1645 - accuracy: 0.9533 - val_loss: 0.2902 - val_accuracy: 0.9237 - lr: 1.0000e-04\n",
            "Epoch 22/30\n",
            "2317/2317 [==============================] - 65s 28ms/step - loss: 0.1533 - accuracy: 0.9563 - val_loss: 0.2966 - val_accuracy: 0.9239 - lr: 1.0000e-04\n",
            "Epoch 23/30\n",
            "2317/2317 [==============================] - 64s 28ms/step - loss: 0.1470 - accuracy: 0.9569 - val_loss: 0.2897 - val_accuracy: 0.9239 - lr: 1.0000e-04\n",
            "Epoch 24/30\n",
            "2317/2317 [==============================] - 64s 28ms/step - loss: 0.1378 - accuracy: 0.9604 - val_loss: 0.2914 - val_accuracy: 0.9238 - lr: 1.0000e-04\n",
            "Epoch 25/30\n",
            "2317/2317 [==============================] - 65s 28ms/step - loss: 0.1280 - accuracy: 0.9631 - val_loss: 0.2877 - val_accuracy: 0.9272 - lr: 1.0000e-04\n",
            "Epoch 26/30\n",
            "2317/2317 [==============================] - 65s 28ms/step - loss: 0.1238 - accuracy: 0.9637 - val_loss: 0.2889 - val_accuracy: 0.9252 - lr: 1.0000e-04\n",
            "Epoch 27/30\n",
            "2317/2317 [==============================] - 64s 28ms/step - loss: 0.1178 - accuracy: 0.9664 - val_loss: 0.2860 - val_accuracy: 0.9285 - lr: 1.0000e-04\n",
            "Epoch 28/30\n",
            "2317/2317 [==============================] - 64s 28ms/step - loss: 0.1122 - accuracy: 0.9680 - val_loss: 0.2919 - val_accuracy: 0.9241 - lr: 1.0000e-04\n",
            "Epoch 29/30\n",
            "2317/2317 [==============================] - ETA: 0s - loss: 0.1097 - accuracy: 0.9679\n",
            "Epoch 29: ReduceLROnPlateau reducing learning rate to 1e-05.\n",
            "2317/2317 [==============================] - 64s 28ms/step - loss: 0.1097 - accuracy: 0.9679 - val_loss: 0.2876 - val_accuracy: 0.9263 - lr: 1.0000e-04\n",
            "Epoch 30/30\n",
            "2317/2317 [==============================] - 64s 28ms/step - loss: 0.0871 - accuracy: 0.9754 - val_loss: 0.2741 - val_accuracy: 0.9302 - lr: 1.0000e-05\n"
          ]
        }
      ]
    },
    {
      "cell_type": "code",
      "source": [
        "# Save the entire model to a file\n",
        "model.save('path_to_my_model3_freeze.h5')\n",
        "\n",
        "# Alternatively, you can save just the weights\n",
        "model.save_weights('path_to_my_weights3_freeze.h5')\n"
      ],
      "metadata": {
        "id": "ZlAbky5NrMCI",
        "colab": {
          "base_uri": "https://localhost:8080/"
        },
        "outputId": "8457efb1-9a0c-46e2-e88f-dc26bf5277e5"
      },
      "execution_count": 22,
      "outputs": [
        {
          "output_type": "stream",
          "name": "stderr",
          "text": [
            "/usr/local/lib/python3.10/dist-packages/keras/src/engine/training.py:3103: UserWarning: You are saving your model as an HDF5 file via `model.save()`. This file format is considered legacy. We recommend using instead the native Keras format, e.g. `model.save('my_model.keras')`.\n",
            "  saving_api.save_model(\n"
          ]
        }
      ]
    },
    {
      "cell_type": "code",
      "source": [
        "import matplotlib.pyplot as plt\n",
        "\n",
        "# Plot training & validation accuracy values\n",
        "plt.plot(history.history['accuracy'])\n",
        "plt.plot(history.history['val_accuracy'])\n",
        "plt.title('Model accuracy')\n",
        "plt.ylabel('Accuracy')\n",
        "plt.xlabel('Epoch')\n",
        "plt.legend(['Train', 'Val'], loc='upper left')\n",
        "plt.show()\n",
        "\n",
        "# Plot training & validation loss values\n",
        "plt.plot(history.history['loss'])\n",
        "plt.plot(history.history['val_loss'])\n",
        "plt.title('Model loss')\n",
        "plt.ylabel('Loss')\n",
        "plt.xlabel('Epoch')\n",
        "plt.legend(['Train', 'Val'], loc='upper left')\n",
        "plt.show()\n"
      ],
      "metadata": {
        "id": "n_LoC2Ca0KfQ",
        "colab": {
          "base_uri": "https://localhost:8080/",
          "height": 927
        },
        "outputId": "134b49bc-69cd-404c-f775-8cdd5a355dae"
      },
      "execution_count": 23,
      "outputs": [
        {
          "output_type": "display_data",
          "data": {
            "text/plain": [
              "<Figure size 640x480 with 1 Axes>"
            ],
            "image/png": "[encoded data removed]"
          },
          "metadata": {}
        },
        {
          "output_type": "display_data",
          "data": {
            "text/plain": [
              "<Figure size 640x480 with 1 Axes>"
            ],
            "image/png": "[encoded data removed]"
          },
          "metadata": {}
        }
      ]
    },
    {
      "cell_type": "code",
      "source": [
        "\n",
        "# Evaluate the model on the test set\n",
        "test_loss, test_accuracy = model.evaluate(test_data)\n",
        "\n",
        "print(f\"Test Loss: {test_loss}\")\n",
        "print(f\"Test Accuracy: {test_accuracy}\")\n"
      ],
      "metadata": {
        "id": "UhaqdkU-0M_U",
        "colab": {
          "base_uri": "https://localhost:8080/"
        },
        "outputId": "495aea69-8d5d-449e-d801-84082648a7c2"
      },
      "execution_count": 24,
      "outputs": [
        {
          "output_type": "stream",
          "name": "stdout",
          "text": [
            "247/247 [==============================] - 6s 24ms/step - loss: 0.2455 - accuracy: 0.9341\n",
            "Test Loss: 0.24546992778778076\n",
            "Test Accuracy: 0.9340952634811401\n"
          ]
        }
      ]
    },
    {
      "cell_type": "code",
      "source": [
        "# Assuming the model has already been trained and the best weights have been restored\n",
        "\n",
        "# Evaluate the model on the training set\n",
        "train_loss, train_accuracy = model.evaluate(train_data)\n",
        "print(f\"Train Loss: {train_loss}\")\n",
        "print(f\"Train Accuracy: {train_accuracy}\")\n",
        "\n",
        "# Evaluate the model on the validation set\n",
        "val_loss, val_accuracy = model.evaluate(val_data)\n",
        "print(f\"Validation Loss: {val_loss}\")\n",
        "print(f\"Validation Accuracy: {val_accuracy}\")\n",
        "\n",
        "# Evaluate the model on the test set\n",
        "test_loss, test_accuracy = model.evaluate(test_data)\n",
        "print(f\"Test Loss: {test_loss}\")\n",
        "print(f\"Test Accuracy: {test_accuracy}\")\n"
      ],
      "metadata": {
        "id": "8zEr5lr-0Qma",
        "colab": {
          "base_uri": "https://localhost:8080/"
        },
        "outputId": "53df4aad-715c-477a-8e48-71d1907a28a6"
      },
      "execution_count": 25,
      "outputs": [
        {
          "output_type": "stream",
          "name": "stdout",
          "text": [
            "2317/2317 [==============================] - 56s 24ms/step - loss: 0.0153 - accuracy: 0.9978\n",
            "Train Loss: 0.015323727391660213\n",
            "Train Accuracy: 0.9978147745132446\n",
            "247/247 [==============================] - 6s 24ms/step - loss: 0.2741 - accuracy: 0.9302\n",
            "Validation Loss: 0.274085134267807\n",
            "Validation Accuracy: 0.9301587343215942\n",
            "247/247 [==============================] - 6s 24ms/step - loss: 0.2455 - accuracy: 0.9341\n",
            "Test Loss: 0.24546994268894196\n",
            "Test Accuracy: 0.9340952634811401\n"
          ]
        }
      ]
    },
    {
      "cell_type": "code",
      "source": [],
      "metadata": {
        "id": "iDEiZRVC8IMe"
      },
      "execution_count": null,
      "outputs": []
    }
  ]
}